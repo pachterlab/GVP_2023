{
 "cells": [
  {
   "cell_type": "code",
   "execution_count": 1,
   "id": "8ca96414",
   "metadata": {},
   "outputs": [],
   "source": [
    "import numpy as np\n",
    "from numpy import matlib\n",
    "import matplotlib.pyplot as plt\n",
    "import scipy\n"
   ]
  },
  {
   "cell_type": "markdown",
   "id": "ff2a970c",
   "metadata": {},
   "source": [
    "## Convenience functions"
   ]
  },
  {
   "cell_type": "markdown",
   "id": "2cebf012",
   "metadata": {},
   "source": [
    "### Parallelization"
   ]
  },
  {
   "cell_type": "code",
   "execution_count": 43,
   "id": "07fc7f7f",
   "metadata": {},
   "outputs": [],
   "source": [
    "\n",
    "\n",
    "def parallelize(\n",
    "    function,\n",
    "    iterable,\n",
    "    num_cores,\n",
    "    num_entries,\n",
    "    completion_message=\"Parallelization complete.\",\n",
    "    termination_message=\"Parallelization manually terminated.\",\n",
    "    error_message=\"Parallelization terminated due to error.\",\n",
    "    use_tqdm=True,\n",
    "):\n",
    "    try:\n",
    "        pool = multiprocessing.Pool(processes=num_cores)\n",
    "        if use_tqdm:\n",
    "            x = list(tqdm(pool.imap(function, iterable), total=num_entries))  # hacky\n",
    "        else:\n",
    "            x = pool.map(function, iterable)\n",
    "        pool.close()\n",
    "        pool.join()\n",
    "        log.info(completion_message)\n",
    "    except KeyboardInterrupt:\n",
    "        log.warning(termination_message)\n",
    "        pool.terminate()\n",
    "        pool.join()\n",
    "    except ValueError:\n",
    "        log.warning(error_message)\n",
    "        pool.terminate()\n",
    "        pool.join()\n",
    "    return x\n"
   ]
  },
  {
   "cell_type": "markdown",
   "id": "97750084",
   "metadata": {},
   "source": [
    "### Reduced parameters"
   ]
  },
  {
   "cell_type": "code",
   "execution_count": 2,
   "id": "b29ea907",
   "metadata": {},
   "outputs": [],
   "source": [
    "def encode_xy_tele_1d(kon,koff,kinit,beta):\n",
    "    kappa = kon+koff\n",
    "    K_avg = kon*kinit/kappa\n",
    "    x = kappa/(kappa+beta)\n",
    "    a = kon*kappa/koff\n",
    "    theta = koff*kinit/kappa\n",
    "    y = theta/(theta+a)\n",
    "    return x,y,K_avg,beta\n",
    "\n",
    "def encode_xy_sde_1d(a,kappa,theta,beta):\n",
    "    K_avg = a*theta/kappa\n",
    "    x = kappa/(kappa+beta)\n",
    "    y = theta/(theta+a)\n",
    "    return x,y,K_avg,beta\n",
    "\n",
    "def decode_xy_tele_1d(x, y, K_avg, beta):\n",
    "    kappa = (beta)*(x/(1-x))\n",
    "    ath = 1/y - 1\n",
    "    c = K_avg*ath/kappa\n",
    "    kon = np.sqrt(c) * kappa/ (np.sqrt(c) + 1)\n",
    "    koff = kappa / (np.sqrt(c) + 1)\n",
    "    kinit = K_avg * kappa / kon\n",
    "    return kon,koff,kinit, beta\n",
    "def decode_xy_sde_1d(x, y, K_avg, beta):\n",
    "    kappa = (beta)*(x/(1-x))\n",
    "    a_over_th = 1/y - 1\n",
    "    theta = np.sqrt(kappa*K_avg/a_over_th)\n",
    "    a = K_avg*kappa/theta\n",
    "    return a, kappa, theta, beta\n"
   ]
  },
  {
   "cell_type": "code",
   "execution_count": 3,
   "id": "61432e2f",
   "metadata": {},
   "outputs": [],
   "source": [
    "def encode_xy_tele_2d(kon,koff,kinit,beta,gamma):\n",
    "    kappa = kon+koff\n",
    "    K_avg = kon*kinit/kappa\n",
    "    x = kappa/(kappa+beta+gamma)\n",
    "    a = kon*kappa/koff\n",
    "    theta = koff*kinit/kappa\n",
    "    y = theta/(theta+a)\n",
    "    return x,y,K_avg,beta,gamma\n",
    "\n",
    "def encode_xy_sde_2d(a,kappa,theta,beta,gamma):\n",
    "    K_avg = a*theta/kappa\n",
    "    x = kappa/(kappa+beta+gamma)\n",
    "    y = theta/(theta+a)\n",
    "    return x,y,K_avg,beta,gamma\n",
    "\n",
    "def decode_xy_tele_2d(x,y,K_avg,beta,gamma):\n",
    "    kappa = (beta+gamma)*(x/(1-x))\n",
    "    ath = 1/y - 1\n",
    "    c = K_avg*ath/kappa\n",
    "    kon = np.sqrt(c) * kappa/ (np.sqrt(c) + 1)\n",
    "    koff = kappa / (np.sqrt(c) + 1)\n",
    "    kinit = K_avg * kappa / kon\n",
    "    return kon,koff,kinit,beta,gamma\n",
    "\n",
    "def decode_xy_sde_2d(x, y, K_avg, beta,gamma):\n",
    "    kappa = (beta + gamma)*(x/(1-x))\n",
    "    a_over_th = 1/y - 1\n",
    "    theta = np.sqrt(kappa*K_avg/a_over_th)\n",
    "    a = K_avg*kappa/theta\n",
    "    return a,kappa,theta,beta,gamma\n"
   ]
  },
  {
   "cell_type": "markdown",
   "id": "8db66bbf",
   "metadata": {},
   "source": [
    "### The switching model"
   ]
  },
  {
   "cell_type": "code",
   "execution_count": 4,
   "id": "4e6b8867",
   "metadata": {},
   "outputs": [],
   "source": [
    "class TelegraphModel():\n",
    "    \"\"\"\n",
    "    This collection of convenience functions is placed in its own class mostly to avoid function name conflicts.\n",
    "    The code is largely reused from JJV's thesis and \"Analytic solution of chemical master equations \n",
    "    involving gene switching. I: Representation theory and diagrammatic approach to exact solution.\"\n",
    "    \"\"\"\n",
    "    def __init__(self):\n",
    "        pass\n",
    "\n",
    "\n",
    "    # First ODE for 2 species model\n",
    "    def f1_2sp(self,q1, q2, t, c0, c1, params):\n",
    "        alpha_1, alpha_2, beta_0, beta_1, k_12, k_21 = params[0], params[1], params[2], params[3], params[4], params[5]\n",
    "\n",
    "        result = - k_21*q1 + k_21*q2 + alpha_1*(c0*np.exp(-beta_0*t) + c1*np.exp(-beta_1*t))*q1\n",
    "        return result\n",
    "\n",
    "    # Second ODE for 2 species model\n",
    "    def f2_2sp(self,q1, q2, t, c0, c1, params):\n",
    "        alpha_1, alpha_2, beta_0, beta_1, k_12, k_21 = params[0], params[1], params[2], params[3], params[4], params[5]\n",
    "\n",
    "        result = k_12*q1 - k_12*q2 + alpha_2*(c0*np.exp(-beta_0*t) + c1*np.exp(-beta_1*t))*q2\n",
    "        return result\n",
    "\n",
    "\n",
    "    # RK4 implementation for 2 species model\n",
    "    def RK4_2sp(self,q1, q2, f1_b, f2_b, t, g0, g1, step_size, param):\n",
    "        j1 = f1_b(q1, q2, t, g0, g1, param)\n",
    "        h1 = f2_b(q1, q2, t, g0, g1, param)\n",
    "\n",
    "        j2 = f1_b(q1 + (step_size/2)*j1, q2 + (step_size/2)*h1, t + (step_size/2), g0, g1, param)\n",
    "        h2 = f2_b(q1 + (step_size/2)*j1, q2 + (step_size/2)*h1, t + (step_size/2), g0, g1, param)\n",
    "\n",
    "        j3 = f1_b(q1 + (step_size/2)*j2, q2 + (step_size/2)*h2, t + (step_size/2), g0, g1, param)\n",
    "        h3 = f2_b(q1 + (step_size/2)*j2, q2 + (step_size/2)*h2, t + (step_size/2), g0, g1, param)\n",
    "\n",
    "        j4 = f1_b(q1 + (step_size)*j3, q2 + (step_size)*h3, t + (step_size), g0, g1, param)\n",
    "        h4 = f2_b(q1 + (step_size)*j3, q2 + (step_size)*h3, t + (step_size), g0, g1, param)\n",
    "\n",
    "        q1_new = q1 + (step_size/6)*(j1 + 2*j2 + 2*j3 + j4)\n",
    "        q2_new = q2 + (step_size/6)*(h1 + 2*h2 + 2*h3 + h4)    \n",
    "\n",
    "        return q1_new, q2_new\n",
    "\n",
    "\n",
    "    # Get generating function for 2 species model (unspliced and spliced) via ODE method\n",
    "    def get_gf_bds_2sp_ODE(self,g0, g1, params):\n",
    "        # get parameters\n",
    "        alpha_1, alpha_2, beta_0, beta_1, k_12, k_21 = params[0], params[1], params[2], params[3], params[4], params[5]\n",
    "        s = k_12 + k_21\n",
    "\n",
    "        c0 = (g0) + (beta_0/(beta_1 - beta_0))*(g1)       # q coefficients\n",
    "        c1 = - (beta_0/(beta_1 - beta_0))*(g1)       \n",
    "\n",
    "        max_fudge = 10                                              # Determine integration time scale / length\n",
    "        t_max = np.max([1/beta_0, 1/beta_1])*max_fudge\n",
    "        min_fudge = 1\n",
    "        dt = np.min([1/s, 1/beta_0, 1/beta_1, 1/np.max([alpha_1, alpha_2])])*min_fudge\n",
    "        num_tsteps = int(np.ceil(t_max/dt))\n",
    "\n",
    "\n",
    "        q1 = np.ones(g0.shape, dtype=np.complex64)    # initialize array to store ODE\n",
    "        q2 = np.ones(g0.shape, dtype=np.complex64)\n",
    "\n",
    "        # Solve ODE using RK4\n",
    "        for i in range(0, num_tsteps):\n",
    "            t = i*dt\n",
    "            q1, q2 = self.RK4_2sp(q1, q2, self.f1_2sp, self.f2_2sp, t, c0, c1, dt, params)\n",
    "        gf = (k_12/s)*q1 + (k_21/s)*q2\n",
    "        return gf\n",
    "\n",
    "\n",
    "    # Get Pss for 2 species model (unspliced and spliced) via ODE method\n",
    "    def get_Pss_bds_2sp_ODE(self,mx, params):\n",
    "        # Get generating function argument\n",
    "        u = []\n",
    "        half = mx[:]\n",
    "        half[-1] = mx[-1]//2 + 1\n",
    "        for i in range(len(mx)):\n",
    "            l = np.arange(half[i])\n",
    "            u_ = np.exp(-2j*np.pi*l/mx[i])-1\n",
    "            u.append(u_)\n",
    "        g = np.meshgrid(*[u_ for u_ in u], indexing='ij')\n",
    "        for i in range(len(mx)):\n",
    "            g[i] = g[i].flatten()\n",
    "\n",
    "        # Get generating function\n",
    "        gf = self.get_gf_bds_2sp_ODE(g[0], g[1], params)                    \n",
    "        gf = gf.reshape(tuple(half))\n",
    "\n",
    "\n",
    "        Pss = scipy.fft.irfftn(gf, s=mx)                        # Get Pss by inverse fast Fourier transform\n",
    "        return Pss\n",
    "\n",
    "    def get_Pss(self,kon,koff,kinit,beta,gamma,mx):\n",
    "        params = (kinit,0, beta, gamma, kon, koff)\n",
    "        Pss = self.get_Pss_bds_2sp_ODE(mx, params)\n",
    "        Pss = np.abs(Pss)\n",
    "        Pss /= Pss.sum()\n",
    "        return Pss"
   ]
  },
  {
   "cell_type": "markdown",
   "id": "c959684e",
   "metadata": {},
   "source": [
    "### Gamma-OU"
   ]
  },
  {
   "cell_type": "code",
   "execution_count": 5,
   "id": "ad9a659b",
   "metadata": {},
   "outputs": [],
   "source": [
    "class GOUModel():\n",
    "    \"\"\"\n",
    "    This collection of convenience functions is largely reused from \n",
    "    \"Interpretable and tractable models of transcriptional noise for the \n",
    "    rational design of single-molecule quantification experiments\".\n",
    "    \"\"\"\n",
    "    def __init__(self):\n",
    "        pass\n",
    "    def get_GOU_2sp(self,mx, params):\n",
    "        u = []\n",
    "        half = mx[:]\n",
    "        half[-1] = mx[-1]//2 + 1\n",
    "        for i in range(len(mx)):\n",
    "            l = np.arange(half[i])\n",
    "            u_ = np.exp(-2j*np.pi*l/mx[i])-1\n",
    "            u.append(u_)\n",
    "        g = np.meshgrid(*[u_ for u_ in u], indexing='ij')\n",
    "        for i in range(len(mx)):\n",
    "            g[i] = g[i].flatten()\n",
    "\n",
    "        # Get generating function\n",
    "        gf = self.get_gf_GOU_2sp_ODE(g[0], g[1], params)                    \n",
    "        gf = gf.reshape(tuple(half))\n",
    "\n",
    "        Pss = scipy.fft.irfftn(gf, s=mx)                        # Get Pss by inverse fast Fourier transform\n",
    "        Pss = np.abs(Pss)/np.sum(np.abs(Pss))           # Normalize\n",
    "        return Pss\n",
    "\n",
    "    def get_gf_GOU_2sp_ODE(self,g0, g1, params):\n",
    "        beta_0, beta_1, a, kappa, theta = params     # get parameters\n",
    "\n",
    "        c0 = (g0) + (beta_0/(beta_1 - beta_0))*(g1)       #  relevant linear combinations of g_i\n",
    "        c1 = - (beta_0/(beta_1 - beta_0))*(g1)   \n",
    "\n",
    "        min_fudge, max_fudge = 0.25, 10                                     # Determine integration time scale / length\n",
    "        dt = np.min([1/kappa, 1/theta, 1/a, 1/beta_0, 1/beta_1])*min_fudge\n",
    "        t_max = np.max([1/kappa, 1/theta, 1/a, 1/beta_0, 1/beta_1])*max_fudge\n",
    "        num_tsteps = int(np.ceil(t_max/dt))\n",
    "        t_array = np.linspace(0, t_max, num_tsteps+1)\n",
    "        t_array = t_array.reshape((1, num_tsteps + 1))\n",
    "\n",
    "        q = np.zeros((g0.shape[0], num_tsteps + 1), dtype=np.complex64)    # initialize array to store ODE\n",
    "        c0 = c0.reshape((c0.shape[0],1))\n",
    "        c1 = c1.reshape((c1.shape[0],1))\n",
    "        q0 = theta*c0*(np.exp(-beta_0*t_array) - np.exp(-kappa*t_array))/(kappa - beta_0) \n",
    "        q1 = theta*c1*(np.exp(-beta_1*t_array) - np.exp(-kappa*t_array))/(kappa - beta_1)\n",
    "        q = q0 + q1\n",
    "\n",
    "\n",
    "        integrand = q/(1-q)\n",
    "        integral = np.trapz(integrand, dx=dt, axis=1)     # integrate ODE solution\n",
    "        gf = np.exp( a*integral)               # get generating function\n",
    "        return gf\n",
    "    \n",
    "    def get_Pss(self,a,kappa,theta,beta,gamma,mx):\n",
    "        params = beta, gamma, a, kappa, theta\n",
    "        if np.any((np.asarray(params)<=0) | (~np.isfinite(params))):\n",
    "            raise ValueError\n",
    "\n",
    "        Pss = self.get_GOU_2sp(mx, params)\n",
    "        Pss = np.abs(Pss)\n",
    "        Pss /= Pss.sum()\n",
    "        return Pss"
   ]
  },
  {
   "cell_type": "markdown",
   "id": "f31380e4",
   "metadata": {},
   "source": [
    "### CIR "
   ]
  },
  {
   "cell_type": "code",
   "execution_count": 6,
   "id": "5345f67c",
   "metadata": {},
   "outputs": [],
   "source": [
    "class CIRModel():\n",
    "    \"\"\"\n",
    "    This collection of convenience functions is largely reused from \n",
    "    \"Interpretable and tractable models of transcriptional noise for the \n",
    "    rational design of single-molecule quantification experiments\".\n",
    "    \"\"\"\n",
    "    def __init__(self):\n",
    "        pass\n",
    "    # ODE for 2 species CIR model\n",
    "    def f_2sp(self,q, t, c0, c1, params):\n",
    "        beta_0, beta_1, a, kappa, theta = params\n",
    "        result = - kappa*q + theta*q*q + kappa*( c0*np.exp(-beta_0*t) + c1*np.exp(-beta_1*t)  ) \n",
    "        return result\n",
    "\n",
    "\n",
    "    # Vectorized RK4 implementation for 2 species CIR model\n",
    "    def RK4_2sp(self,q, f, t, c0, c1, step_size, param):\n",
    "        j1 = f(q, t, c0, c1, param)\n",
    "        j2 = f(q + (step_size/2)*j1, t + (step_size/2), c0, c1, param)   \n",
    "        j3 = f(q + (step_size/2)*j2, t + (step_size/2), c0, c1, param)   \n",
    "        j4 = f(q + (step_size)*j3, t + (step_size), c0, c1, param)  \n",
    "\n",
    "        q_new = q + (step_size/6)*(j1 + 2*j2 + 2*j3 + j4)\n",
    "        return q_new\n",
    "\n",
    "\n",
    "    # Get 2 species CIR generating function using ODE method\n",
    "    def get_gf_CIR_2sp(self,g0, g1, params):\n",
    "        beta_0, beta_1, a, kappa, theta = params     # get parameters\n",
    "\n",
    "        c0 = (g0) + (beta_0/(beta_1 - beta_0))*(g1)       #  relevant linear combinations of g_i\n",
    "        c1 = - (beta_0/(beta_1 - beta_0))*(g1)   \n",
    "\n",
    "        min_fudge, max_fudge = 0.25, 10                                     # Determine integration time scale / length\n",
    "        dt = np.min([1/kappa, 1/theta, 1/a, 1/beta_0, 1/beta_1])*min_fudge\n",
    "        t_max = np.max([1/kappa, 1/theta, 1/a, 1/beta_0, 1/beta_1])*max_fudge\n",
    "        num_tsteps = int(np.ceil(t_max/dt))\n",
    "\n",
    "        q = np.zeros((g0.shape[0], num_tsteps + 1), dtype=np.complex64)    # initialize array to store ODE\n",
    "\n",
    "        # Solve ODE using RK4 method \n",
    "        for i in range(0, num_tsteps):\n",
    "            t = i*dt\n",
    "            q[:,i+1] = self.RK4_2sp(q[:,i], self.f_2sp, t, c0, c1, dt, params)\n",
    "\n",
    "        integral = np.trapz(q, dx=dt, axis=1)     # integrate ODE solution\n",
    "        gf = np.exp((a*theta/kappa)*integral)               # get generating function\n",
    "        return gf\n",
    "\n",
    "\n",
    "    # Get Pss for 2 species CIR model via ODE method\n",
    "    def get_CIR_2sp(self,mx,params):\n",
    "        # Get generating function argument\n",
    "        u = []\n",
    "        half = mx[:]\n",
    "        half[-1] = mx[-1]//2 + 1\n",
    "        for i in range(len(mx)):\n",
    "            l = np.arange(half[i])\n",
    "            u_ = np.exp(-2j*np.pi*l/mx[i])-1\n",
    "            u.append(u_)\n",
    "        g = np.meshgrid(*[u_ for u_ in u], indexing='ij')\n",
    "        for i in range(len(mx)):\n",
    "            g[i] = g[i].flatten()\n",
    "\n",
    "        # Get generating function\n",
    "        gf = self.get_gf_CIR_2sp(g[0], g[1], params)                    \n",
    "        gf = gf.reshape(tuple(half))\n",
    "\n",
    "        Pss = scipy.fft.irfftn(gf, s=mx)                        # Get Pss by inverse fast Fourier transform\n",
    "#         Pss = np.abs(Pss)/np.sum(np.abs(Pss))           # Normalize\n",
    "        return Pss\n",
    "\n",
    "    def get_Pss(self,a,kappa,theta,beta,gamma,mx):\n",
    "        params = beta, gamma, a, kappa, theta\n",
    "        if np.any((np.asarray(params)<=0) | (~np.isfinite(params))):\n",
    "            raise ValueError\n",
    "        Pss = self.get_CIR_2sp(mx, params)\n",
    "        Pss = np.abs(Pss)\n",
    "        Pss /= Pss.sum()\n",
    "        return Pss"
   ]
  },
  {
   "cell_type": "markdown",
   "id": "fbadf183",
   "metadata": {},
   "source": [
    "### Basic tests"
   ]
  },
  {
   "cell_type": "code",
   "execution_count": 7,
   "id": "25096736",
   "metadata": {},
   "outputs": [],
   "source": [
    "kon = 0.2\n",
    "koff = 0.2\n",
    "kinit = 10\n",
    "beta = 1.2\n",
    "gamma = 0.7\n",
    "mx = [50,1]\n",
    "x = np.arange(mx[0])"
   ]
  },
  {
   "cell_type": "code",
   "execution_count": 8,
   "id": "418c8bed",
   "metadata": {},
   "outputs": [
    {
     "data": {
      "text/plain": [
       "4.166666666666667"
      ]
     },
     "execution_count": 8,
     "metadata": {},
     "output_type": "execute_result"
    }
   ],
   "source": [
    "kon*kinit/beta/(kon+koff)"
   ]
  },
  {
   "cell_type": "code",
   "execution_count": 11,
   "id": "f826dfce",
   "metadata": {},
   "outputs": [],
   "source": [
    "kappa = kon+koff\n",
    "a = kon*kappa/koff\n",
    "theta = koff*kinit/kappa\n"
   ]
  },
  {
   "cell_type": "code",
   "execution_count": 12,
   "id": "4f725642",
   "metadata": {},
   "outputs": [],
   "source": [
    "telegraph_model = TelegraphModel()\n",
    "Pss_tele = telegraph_model.get_Pss(kon,koff,kinit,beta,gamma,mx)\n",
    "gou_model = GOUModel()\n",
    "Pss_gou = gou_model.get_Pss(a,kappa,theta,beta,gamma,mx)\n",
    "cir_model = CIRModel()\n",
    "Pss_cir = cir_model.get_Pss(a,kappa,theta,beta,gamma,mx)"
   ]
  },
  {
   "cell_type": "code",
   "execution_count": 13,
   "id": "a28d49b5",
   "metadata": {},
   "outputs": [
    {
     "data": {
      "text/plain": [
       "[<matplotlib.lines.Line2D at 0x7fbe557ce2e0>]"
      ]
     },
     "execution_count": 13,
     "metadata": {},
     "output_type": "execute_result"
    },
    {
     "data": {
      "image/png": "[encoded data removed]",
      "text/plain": [
       "<Figure size 432x288 with 1 Axes>"
      ]
     },
     "metadata": {
      "needs_background": "light"
     },
     "output_type": "display_data"
    }
   ],
   "source": [
    "plt.plot(Pss_tele)\n",
    "plt.plot(Pss_gou)\n",
    "plt.plot(Pss_cir)"
   ]
  },
  {
   "cell_type": "code",
   "execution_count": 14,
   "id": "6d9b3ab5",
   "metadata": {},
   "outputs": [
    {
     "name": "stdout",
     "output_type": "stream",
     "text": [
      "4.166666819545542\n",
      "4.165914645377943\n",
      "4.165691387137144\n"
     ]
    }
   ],
   "source": [
    "print((Pss_tele.sum(1)*x).sum())\n",
    "print((Pss_gou.sum(1)*x).sum())\n",
    "print((Pss_cir.sum(1)*x).sum())\n"
   ]
  },
  {
   "cell_type": "code",
   "execution_count": 15,
   "id": "5fb6c6eb",
   "metadata": {},
   "outputs": [
    {
     "name": "stdout",
     "output_type": "stream",
     "text": [
      "17.187487995048926\n",
      "17.18435841299372\n",
      "17.17146794619267\n"
     ]
    }
   ],
   "source": [
    "print((Pss_tele.sum(1)*x**2).sum() - (Pss_tele.sum(1)*x).sum()**2)\n",
    "print((Pss_gou.sum(1)*x**2).sum() - (Pss_gou.sum(1)*x).sum()**2)\n",
    "print((Pss_cir.sum(1)*x**2).sum() - (Pss_cir.sum(1)*x).sum()**2)\n"
   ]
  },
  {
   "cell_type": "markdown",
   "id": "4e01c783",
   "metadata": {},
   "source": [
    "### Sampling and evaluation"
   ]
  },
  {
   "cell_type": "code",
   "execution_count": 40,
   "id": "1619abec",
   "metadata": {},
   "outputs": [],
   "source": [
    "def sample_from_p(num_data_points, Pss):\n",
    "    mx = Pss.shape\n",
    "    p_flat = Pss.flatten()\n",
    "    x_N, x_M = np.arange(mx[0]), np.arange(mx[1])\n",
    "    X_N, X_M = np.meshgrid(x_N, x_M, indexing='ij')    # get grid of possible values\n",
    "    x_choices = np.arange(np.prod(mx))                 # represent each grid point as a point in a 1D vector\n",
    "    \n",
    "    samples = np.random.choice(x_choices, size=num_data_points, replace=True, p=p_flat)\n",
    "    d_N, d_M = X_N.flatten()[samples], X_M.flatten()[samples]    \n",
    "    return d_N, d_M\n",
    "\n",
    "def get_logL_1d(d,x,y,K_avg,beta,xyfun,model,mx,dryrun=False):\n",
    "    mx_eval = [mx[0],1]\n",
    "    pars = xyfun(x,y,K_avg,beta)\n",
    "    if dryrun:\n",
    "        print(pars)\n",
    "        return 0\n",
    "    Pss = model.get_Pss(*pars,1,mx_eval)\n",
    "    Pss = Pss.squeeze()\n",
    "    logL = np.sum(np.log(Pss[d]))\n",
    "    return logL\n",
    "\n",
    "\n",
    "def get_logL_2d(d0,d1,x,y,K_avg,beta,gamma,xyfun,model,mx,dryrun=False):\n",
    "    mx_eval = mx\n",
    "    pars = xyfun(x,y,K_avg,beta,gamma)\n",
    "    if dryrun:\n",
    "        print(pars)\n",
    "        return 0\n",
    "    Pss = model.get_Pss(*pars,mx_eval)\n",
    "    Pss = Pss.squeeze()\n",
    "    logL = np.sum(np.log(Pss[d0,d1]))\n",
    "    return logL"
   ]
  },
  {
   "cell_type": "markdown",
   "id": "8d619616",
   "metadata": {},
   "source": [
    "# Parameter regimes"
   ]
  },
  {
   "cell_type": "code",
   "execution_count": 77,
   "id": "c505879f",
   "metadata": {},
   "outputs": [],
   "source": [
    "kappa = 0.1\n",
    "beta = 0.8 \n",
    "gamma = 0.9\n",
    "theta = 1\n",
    "a = 0.4\n",
    "mx = [50,51]"
   ]
  },
  {
   "cell_type": "code",
   "execution_count": 78,
   "id": "23835bf0",
   "metadata": {},
   "outputs": [],
   "source": [
    "gou_model = GOUModel()\n",
    "Pss_gou_true = gou_model.get_Pss(a,kappa,theta,beta,gamma,mx)\n"
   ]
  },
  {
   "cell_type": "code",
   "execution_count": 79,
   "id": "02b67f20",
   "metadata": {},
   "outputs": [],
   "source": [
    "xtrue1,ytrue1,K_avg,beta = encode_xy_sde_1d(a, kappa, theta,beta)\n",
    "xtrue2,ytrue2,K_avg,beta,gamma = encode_xy_sde_2d(a, kappa, theta,beta,gamma)"
   ]
  },
  {
   "cell_type": "code",
   "execution_count": 80,
   "id": "9175ab17",
   "metadata": {},
   "outputs": [],
   "source": [
    "nCells = 200\n",
    "nTrials = 1\n",
    "num_data_points = (nCells,nTrials)"
   ]
  },
  {
   "cell_type": "code",
   "execution_count": 81,
   "id": "fa2d52e8",
   "metadata": {},
   "outputs": [
    {
     "data": {
      "text/plain": [
       "4.0"
      ]
     },
     "execution_count": 81,
     "metadata": {},
     "output_type": "execute_result"
    }
   ],
   "source": [
    "K_avg"
   ]
  },
  {
   "cell_type": "code",
   "execution_count": 82,
   "id": "25c48231",
   "metadata": {},
   "outputs": [
    {
     "data": {
      "text/plain": [
       "[<matplotlib.lines.Line2D at 0x7fbe53018cd0>]"
      ]
     },
     "execution_count": 82,
     "metadata": {},
     "output_type": "execute_result"
    },
    {
     "data": {
      "image/png": "[encoded data removed]",
      "text/plain": [
       "<Figure size 432x288 with 1 Axes>"
      ]
     },
     "metadata": {
      "needs_background": "light"
     },
     "output_type": "display_data"
    }
   ],
   "source": [
    "plt.plot(Pss_gou_true.sum(0))\n",
    "plt.plot(Pss_gou_true.sum(1))"
   ]
  },
  {
   "cell_type": "code",
   "execution_count": 83,
   "id": "d034deb7",
   "metadata": {},
   "outputs": [],
   "source": [
    "data = sample_from_p(num_data_points,Pss_gou_true) #don't rerun this"
   ]
  },
  {
   "cell_type": "code",
   "execution_count": 84,
   "id": "51d77824",
   "metadata": {},
   "outputs": [],
   "source": [
    "nX = 14\n",
    "nY = 15\n",
    "x_ = np.linspace(0.01,0.99,nX)\n",
    "y_ = np.linspace(0.01,0.99,nY)\n",
    "X,Y = np.meshgrid(x_,y_,indexing='ij')\n",
    "logL_1d = np.zeros((nX,nY))\n",
    "logL_2d = np.zeros((nX,nY))"
   ]
  },
  {
   "cell_type": "code",
   "execution_count": 88,
   "id": "255b5df0",
   "metadata": {},
   "outputs": [],
   "source": [
    "\n",
    "for i,x in enumerate(x_):\n",
    "    for j,y in enumerate(y_):\n",
    "        logL_1d[i,j] = get_logL_1d(data[0][:,0],x,y,K_avg,beta,decode_xy_sde_1d,gou_model,mx)\n",
    "        logL_2d[i,j] = get_logL_2d(data[0][:,0],data[1][:,0],x,y,K_avg,beta,gamma,decode_xy_sde_2d,gou_model,mx)"
   ]
  },
  {
   "cell_type": "code",
   "execution_count": null,
   "id": "edbf1a19",
   "metadata": {},
   "outputs": [],
   "source": [
    "# import pickle\n",
    "# with open('./data/gg230221_logLs.pickle', \"wb\") as logLfs:\n",
    "#     pickle.dump((logL_1d,logL_2d), logLfs)\n"
   ]
  },
  {
   "cell_type": "code",
   "execution_count": 89,
   "id": "2707f4db",
   "metadata": {},
   "outputs": [],
   "source": [
    "import pickle\n",
    "with open('./data/gg230221_logLs.pickle', \"rb\") as logLfs:\n",
    "    (logL_1d,logL_2d) = pickle.load( logLfs)\n"
   ]
  },
  {
   "cell_type": "code",
   "execution_count": 90,
   "id": "0f9ea2db",
   "metadata": {},
   "outputs": [],
   "source": [
    "from matplotlib.colors import ListedColormap,LinearSegmentedColormap\n",
    "from matplotlib.patches import Rectangle\n",
    "\n",
    "# c1 = [0,0,0,0]\n",
    "# # c2 = [1,1,1,1]\n",
    "# c2 = [235/255,228/255,143/255,1]\n",
    "# ncol=2\n",
    "# cmap_highlight = ListedColormap(np.array([np.linspace(c2[j],c1[j],ncol) for j in range(4)]).T)\n",
    "colors = [(1,0,0,c) for c in np.linspace(0,1,100)]\n",
    "cmap_highlight = LinearSegmentedColormap.from_list('mycmap', colors, N=5)\n",
    "\n",
    "cmap_logl = 'cividis'\n",
    "# color_highlight = cmap_highlight\n",
    "fs = 12\n",
    "colors_transp = [(1,1,1,c) for c in np.linspace(1,1,100)]\n",
    "cmap_highlight = LinearSegmentedColormap.from_list('mycmap', colors_transp, N=5)\n",
    "regime_ms = 300\n",
    "\n",
    "dim_names = ('Timescale separation','Noise intensity')\n",
    "# dim_names = (r'$\\frac{\\kappa}{\\kappa + \\beta}$',r'$\\frac{\\theta}{\\theta + a}$')"
   ]
  },
  {
   "cell_type": "code",
   "execution_count": 32,
   "id": "1212c429",
   "metadata": {},
   "outputs": [],
   "source": [
    "from mpl_toolkits.axes_grid1 import make_axes_locatable\n"
   ]
  },
  {
   "cell_type": "code",
   "execution_count": 140,
   "id": "4ec900a9",
   "metadata": {},
   "outputs": [],
   "source": [
    "import matplotlib\n",
    "c_coord = 0.7\n",
    "c_true = matplotlib.colormaps['Reds'](c_coord)[:3]\n",
    "c_false =  matplotlib.colormaps['Blues'](c_coord)[:3]"
   ]
  },
  {
   "cell_type": "code",
   "execution_count": 156,
   "id": "df2b4e3d",
   "metadata": {},
   "outputs": [
    {
     "data": {
      "image/png": "[encoded data removed]",
      "text/plain": [
       "<Figure size 1152x288 with 6 Axes>"
      ]
     },
     "metadata": {
      "needs_background": "light"
     },
     "output_type": "display_data"
    }
   ],
   "source": [
    "fig1,ax1 = plt.subplots(1,4,figsize=(16,4))\n",
    "vmin,vmax = (logL_1d.min(),logL_1d.max())\n",
    "ax1[0].pcolormesh(X,Y,(logL_1d),cmap=cmap_logl,vmin=vmin,vmax=vmax)\n",
    "q = np.quantile(logL_1d,0.9)\n",
    "ax1[0].pcolor(X,Y,np.ma.masked_array(logL_1d,logL_1d<q),\n",
    "              cmap=cmap_logl,\n",
    "              alpha=1,hatch='///',edgecolor='magenta',facecolor=None,linewidth=0,\n",
    "              vmin=vmin,vmax=vmax)\n",
    "# ax1[0].pcolormesh(X,Y,np.ma.masked_array(logL_1d,logL_1d<q),cmap=cmap_highlight,alpha=0.5)\n",
    "ax1[0].scatter(xtrue1,ytrue1,regime_ms,color=c_true,edgecolors='k')\n",
    "\n",
    "xfalse1 = 0.9\n",
    "yfalse1 = ytrue1\n",
    "ax1[0].scatter(xfalse1,yfalse1,regime_ms,color=c_false,edgecolors='k')\n",
    "ax1[0].set_title(r'$\\log L$ with one species',fontsize=fs)\n",
    "ax1[0].set_xlabel(dim_names[0],fontsize=fs)\n",
    "ax1[0].set_ylabel(dim_names[1],fontsize=fs)\n",
    "\n",
    "##################################\n",
    "xfalse2,yfalse2,K_avg,beta,gamma =  encode_xy_sde_2d(*decode_xy_sde_1d(xfalse1,yfalse1,K_avg,beta),gamma)\n",
    "\n",
    "vmin,vmax = (logL_2d.min(),logL_2d.max())\n",
    "mesh = ax1[1].pcolormesh(X,Y,(logL_2d),cmap=cmap_logl,vmin=vmin,vmax=vmax)\n",
    "q = np.quantile(logL_2d,0.9)\n",
    "ax1[1].pcolor(X,Y,np.ma.masked_array(logL_2d,logL_2d<q),\n",
    "              cmap=cmap_logl,\n",
    "              alpha=1,hatch='///',edgecolor='magenta',facecolor=None,linewidth=0,\n",
    "              vmin=vmin,vmax=vmax)\n",
    "ax1[1].scatter(xtrue2,ytrue2,regime_ms,color=c_true,edgecolors='k')\n",
    "ax1[1].scatter(xfalse2,yfalse2,regime_ms,color=c_false,edgecolors='k')\n",
    "ax1[1].set_title(r'$\\log L$ with two species',fontsize=fs)\n",
    "ax1[1].set_xlabel(dim_names[0],fontsize=fs)\n",
    "ax1[1].set_ylabel(dim_names[1],fontsize=fs)\n",
    "\n",
    "\n",
    "divider = make_axes_locatable(ax1[1])\n",
    "# cax = divider.append_axes('right', size='10%', pad=0.05)\n",
    "cax = divider.append_axes('right', size='5%', pad=0.05)\n",
    "# cax.plot([0,1],[1/3]*2,'w',linewidth=3)\n",
    "# cax.plot([0,1],[1/2]*2,'w',linewidth=3)\n",
    "fig1.colorbar(mesh,cax =cax)\n",
    "cax.set_ylabel(r'$\\log L$ relative to range',fontsize=fs)\n",
    "caxlims = np.asarray([logL_2d.min(),logL_2d.max()])\n",
    "# print([caxlims[0],caxlims.mean(), np.diff(caxlims)[0]*0.9+caxlims[0], caxlims[1]])\n",
    "dl = np.diff(caxlims)[0]\n",
    "cax.set_yticks([caxlims[0],caxlims.mean(), dl*0.9+caxlims[0], caxlims[1]],['0%','50%','90%','100%'])\n",
    "cax.add_patch(Rectangle((0, dl*0.9+caxlims[0]), 1, dl*0.1, fill=False, hatch='///',edgecolor='magenta'))\n",
    "\n",
    "# cax.plot(Pvals_true,xvals,'r')\n",
    "# cax.plot(Pvals_false,xvals,'b')\n",
    "# cax_mx = max(Pvals_false.max(),Pvals_true.max())\n",
    "# cax.set_xlim([0,cax_mx*1.5])\n",
    "# cax.invert_xaxis()\n",
    "# cax.set_xticks([])\n",
    "# cax.set_yticks(np.arange(0,21,5))\n",
    "# cax.set_ylabel('# nascent',fontsize=fs\n",
    "\n",
    "################################\n",
    "Pss_gou_false = gou_model.get_Pss(*decode_xy_sde_2d(xfalse2,yfalse2,K_avg,beta,gamma),mx)\n",
    "\n",
    "xvals = np.arange(mx[0])\n",
    "Pvals_true = Pss_gou_true.sum(1)\n",
    "Pvals_false = Pss_gou_false.sum(1)\n",
    "\n",
    "divider = make_axes_locatable(ax1[2])\n",
    "cax = divider.append_axes('left', size='10%', pad=0.05)\n",
    "\n",
    "cax.barh(xvals,Pvals_true,color=c_true,align='center',alpha=0.4)\n",
    "cax.barh(xvals,Pvals_false,color=c_false,align='center',alpha=0.4)\n",
    "# cax.plot(Pvals_true,xvals,color=c_true)\n",
    "# cax.plot(Pvals_false,xvals,color=c_false,linestyle='--')\n",
    "cax_mx = max(Pvals_false.max(),Pvals_true.max())\n",
    "cax.set_xlim([0,cax_mx*1.5])\n",
    "cax.invert_xaxis()\n",
    "cax.set_xticks([])\n",
    "cax.set_yticks(np.arange(0,21,5))\n",
    "cax.set_ylabel('# nascent',fontsize=fs)\n",
    "\n",
    "\n",
    "ax1[2].imshow((Pss_gou_true),cmap='Reds',aspect='auto')\n",
    "ax1[2].invert_yaxis()\n",
    "ax1[2].set_yticks([])\n",
    "ax1[2].set_xlabel('# mature',fontsize=fs)\n",
    "ax1[2].set_title('Mixture-like regime',fontsize=fs)\n",
    "\n",
    "\n",
    "ax1[3].imshow((Pss_gou_false),cmap='Blues',aspect='auto')\n",
    "ax1[3].invert_yaxis()\n",
    "ax1[3].set_yticks([])\n",
    "ax1[3].set_xlabel('# mature',fontsize=fs)\n",
    "ax1[3].set_title('Burst-like regime',fontsize=fs)\n",
    "\n",
    "\n",
    "lims = [-0.5,20]\n",
    "ax1[2].set_xlim(lims)\n",
    "ax1[2].set_ylim(lims)\n",
    "ax1[3].set_xlim(lims)\n",
    "ax1[3].set_ylim(lims)\n",
    "cax.set_ylim(lims)\n",
    "\n",
    "fig1.tight_layout()\n",
    "plt.savefig('figs/fig4b.png',dpi=450)\n",
    "plt.savefig('figs/fig4b.pdf')"
   ]
  },
  {
   "cell_type": "code",
   "execution_count": 151,
   "id": "bb101259",
   "metadata": {},
   "outputs": [],
   "source": [
    "# Pvals_true"
   ]
  },
  {
   "cell_type": "markdown",
   "id": "72b633d9",
   "metadata": {},
   "source": [
    "# AIC"
   ]
  },
  {
   "cell_type": "code",
   "execution_count": 35,
   "id": "a2cf0eb5",
   "metadata": {},
   "outputs": [],
   "source": [
    "# kappa = 0.1\n",
    "beta = 0.8 \n",
    "gamma = 0.9\n",
    "# theta = 1\n",
    "# a = 0.4\n",
    "mx = [50,51]\n",
    "K_avg = 5"
   ]
  },
  {
   "cell_type": "code",
   "execution_count": 36,
   "id": "a3def76b",
   "metadata": {},
   "outputs": [],
   "source": [
    "import warnings\n",
    "warnings.filterwarnings(\"error\")\n"
   ]
  },
  {
   "cell_type": "code",
   "execution_count": 66,
   "id": "0bf69246",
   "metadata": {},
   "outputs": [],
   "source": [
    "nCells = 200\n",
    "nTrials = 50\n",
    "num_data_points = (nCells,nTrials)\n",
    "telegraph_model = TelegraphModel()\n",
    "gou_model = GOUModel()\n",
    "cir_model = CIRModel()\n",
    "model_names = (r'$\\Gamma$-OU','CIR','Telegraph')\n",
    "models = [gou_model, cir_model, telegraph_model]\n",
    "decode_fun_1d = [decode_xy_sde_1d,decode_xy_sde_1d,decode_xy_tele_1d]\n",
    "decode_fun_2d = [decode_xy_sde_2d,decode_xy_sde_2d,decode_xy_tele_2d]\n",
    "true_model = models[0]\n"
   ]
  },
  {
   "cell_type": "code",
   "execution_count": 67,
   "id": "3b9c62af",
   "metadata": {},
   "outputs": [],
   "source": [
    "# nX = 4\n",
    "# nY = 5\n",
    "nX = 14\n",
    "nY = 15\n",
    "x_ = np.linspace(0.01,0.99,nX)\n",
    "y_ = np.linspace(0.01,0.99,nY)\n",
    "nmod = 3\n",
    "Xaic,Yaic = np.meshgrid(x_,y_,indexing='ij')\n"
   ]
  },
  {
   "cell_type": "code",
   "execution_count": 68,
   "id": "06e7a346",
   "metadata": {},
   "outputs": [
    {
     "name": "stdout",
     "output_type": "stream",
     "text": [
      "0\n",
      "1\n",
      "2\n",
      "3\n",
      "4\n",
      "5\n",
      "6\n",
      "7\n",
      "8\n",
      "9\n",
      "10\n",
      "11\n",
      "12\n",
      "13\n"
     ]
    }
   ],
   "source": [
    "logL_1d_AIC = np.zeros((nX,nY,nmod,nTrials))\n",
    "logL_2d_AIC = np.zeros((nX,nY,nmod,nTrials))\n",
    "dryrun=False\n",
    "for i,x in enumerate(x_):\n",
    "    print(i)\n",
    "    for j,y in enumerate(y_):\n",
    "        Pss_true = true_model.get_Pss(*decode_xy_sde_2d(x,y,K_avg,beta,gamma),mx)\n",
    "        data = sample_from_p(num_data_points,Pss_true)\n",
    "        for k in range(nmod):\n",
    "            for trial in range(nTrials):\n",
    "                logL_1d_AIC[i,j,k,trial] = get_logL_1d(data[0][:,trial],x,y,K_avg,beta,decode_fun_1d[k],models[k],mx,dryrun=dryrun)                \n",
    "                logL_2d_AIC[i,j,k,trial] = get_logL_2d(data[0][:,trial],data[1][:,trial],x,y,K_avg,beta,gamma,decode_fun_2d[k],models[k],mx,dryrun=dryrun)"
   ]
  },
  {
   "cell_type": "code",
   "execution_count": 69,
   "id": "f3564a34",
   "metadata": {},
   "outputs": [],
   "source": [
    "import pickle"
   ]
  },
  {
   "cell_type": "code",
   "execution_count": 70,
   "id": "04855140",
   "metadata": {},
   "outputs": [],
   "source": [
    "with open('./data/gg230221_aics_50trials.pickle', \"wb\") as aicfs:\n",
    "    pickle.dump((logL_1d_AIC,logL_2d_AIC), aicfs)\n"
   ]
  },
  {
   "cell_type": "code",
   "execution_count": 71,
   "id": "01be1366",
   "metadata": {},
   "outputs": [],
   "source": [
    "with open('./data/gg230221_aics_50trials.pickle', \"rb\") as aicfs:\n",
    "    logL_1d_AIC,logL_2d_AIC  = pickle.load(aicfs)\n"
   ]
  },
  {
   "cell_type": "code",
   "execution_count": 72,
   "id": "cd01925a",
   "metadata": {},
   "outputs": [],
   "source": [
    "AIC_values = -2*logL_1d_AIC \n",
    "AICmin = np.amin(AIC_values,2)\n",
    "dAIC = AIC_values-AICmin[:,:,None,:]\n",
    "AIC = np.exp(-dAIC/2)\n",
    "AIC /= AIC.sum(2)[:,:,None,:]\n",
    "Z_1d = AIC[:,:,0,:].mean(-1)\n",
    "\n",
    "AIC_values = -2*logL_2d_AIC \n",
    "AICmin = np.amin(AIC_values,2)\n",
    "dAIC = AIC_values-AICmin[:,:,None,:]\n",
    "AIC = np.exp(-dAIC/2)\n",
    "AIC /= AIC.sum(2)[:,:,None,:]\n",
    "Z_2d = AIC[:,:,0,:].mean(-1)"
   ]
  },
  {
   "cell_type": "code",
   "execution_count": 73,
   "id": "670368fa",
   "metadata": {},
   "outputs": [],
   "source": [
    "from matplotlib import colors\n",
    "\n",
    "cmap_aic = 'plasma'\n",
    "fs = 12\n",
    "cmap = colors.ListedColormap(['white', 'magenta','blue'])\n",
    "bounds=[0,1/3,1/2,1]\n",
    "norm = colors.BoundaryNorm(bounds, cmap.N)\n",
    "\n",
    "model_colors = ['cadetblue','limegreen','goldenrod']\n",
    "regime_colors = ['darkolivegreen','deeppink']\n",
    "regime_ms = 300\n",
    "noise_ms = 100\n",
    "noise_color='darkgray'\n",
    "noiseline_colors = ['darkgray','dimgray']\n",
    "noiseline_width = [3,5]\n",
    "head_width=0.03\n",
    "import matplotlib.patheffects as pe\n",
    "from matplotlib.patches import Rectangle\n"
   ]
  },
  {
   "cell_type": "code",
   "execution_count": 74,
   "id": "c55cbe0c",
   "metadata": {},
   "outputs": [],
   "source": [
    "warnings.resetwarnings()\n"
   ]
  },
  {
   "cell_type": "code",
   "execution_count": 75,
   "id": "e8682a9b",
   "metadata": {},
   "outputs": [
    {
     "data": {
      "image/png": "[encoded data removed]",
      "text/plain": [
       "<Figure size 1152x288 with 5 Axes>"
      ]
     },
     "metadata": {
      "needs_background": "light"
     },
     "output_type": "display_data"
    }
   ],
   "source": [
    "fig1,ax1 = plt.subplots(1,4,figsize=(16,4))\n",
    "\n",
    "mesh = ax1[0].pcolormesh(Xaic,Yaic,Z_1d,cmap=cmap_aic,vmin=0,vmax=1)\n",
    "ax1[0].pcolor(Xaic,Yaic,np.ma.masked_array(Z_1d,Z_1d>1/2),\n",
    "              cmap=cmap_aic,\n",
    "              alpha=1,hatch='\\\\\\\\',edgecolor='black',facecolor=None,linewidth=0,\n",
    "              vmin=0,vmax=1)\n",
    "\n",
    "\n",
    "x1_1d = 0.4\n",
    "y1_1d = 0.9\n",
    "\n",
    "x2_1d = 0.9\n",
    "y2_1d = 0.8\n",
    "\n",
    "ax1[0].set_xlabel(dim_names[0],fontsize=fs)\n",
    "ax1[0].set_ylabel(dim_names[1],fontsize=fs)\n",
    "ax1[0].set_title('AIC weight with one species',fontsize=fs)\n",
    "################\n",
    "pars_1 = decode_xy_sde_1d(x1_1d,y1_1d,K_avg,beta)\n",
    "noise_corr_1 = []\n",
    "for p_val in [1,0.5,0.1,0.05]:\n",
    "    pars_new = np.copy(pars_1)\n",
    "    pars_new[2] *= p_val\n",
    "    x,y,_,_ = encode_xy_sde_1d(*pars_new)\n",
    "    noise_corr_1.append([x,y])\n",
    "noise_corr_1 = np.asarray(noise_corr_1)\n",
    "ax1[0].plot(noise_corr_1[:,0],noise_corr_1[:,1],'-',\n",
    "            linewidth=noiseline_width[0],color=noiseline_colors[0],\n",
    "            path_effects=[pe.Stroke(linewidth=noiseline_width[1], foreground=noiseline_colors[1]), pe.Normal()])\n",
    "ax1[0].arrow(noise_corr_1[-1,0],noise_corr_1[-1,1],0,-0.1,\n",
    "            head_width = head_width,\n",
    "            linewidth=noiseline_width[0],color=noiseline_colors[0],\n",
    "            path_effects=[pe.Stroke(linewidth=noiseline_width[1], foreground=noiseline_colors[1]), pe.Normal()])\n",
    "ax1[0].scatter(noise_corr_1[1:,0],noise_corr_1[1:,1],s=noise_ms,c='gray',edgecolors='k',zorder=1000)\n",
    "#########\n",
    "pars_2 = decode_xy_sde_1d(x2_1d,y2_1d,K_avg,beta)\n",
    "noise_corr_2 = []\n",
    "for p_val in [1,0.5,0.1,0.05]:\n",
    "    pars_new = np.copy(pars_2)\n",
    "    pars_new[2] *= p_val\n",
    "    x,y,_,_ = encode_xy_sde_1d(*pars_new)\n",
    "    noise_corr_2.append([x,y])\n",
    "noise_corr_2 = np.asarray(noise_corr_2)\n",
    "ax1[0].plot(noise_corr_2[:,0],noise_corr_2[:,1],'-',\n",
    "            linewidth=noiseline_width[0],color=noiseline_colors[0],\n",
    "            path_effects=[pe.Stroke(linewidth=noiseline_width[1], foreground=noiseline_colors[1]), pe.Normal()])\n",
    "ax1[0].arrow(noise_corr_2[-1,0],noise_corr_2[-1,1],0,-0.1,\n",
    "            head_width = head_width,\n",
    "            linewidth=noiseline_width[0],color=noiseline_colors[0],\n",
    "            path_effects=[pe.Stroke(linewidth=noiseline_width[1], foreground=noiseline_colors[1]), pe.Normal()])\n",
    "ax1[0].scatter(noise_corr_2[1:,0],noise_corr_2[1:,1],s=noise_ms,c='gray',edgecolors='k',zorder=1000)\n",
    "#########\n",
    "ax1[0].scatter(x1_1d,y1_1d,regime_ms,regime_colors[0],edgecolors='k',zorder=1000)\n",
    "ax1[0].scatter(x2_1d,y2_1d,regime_ms,regime_colors[1],edgecolors='k',zorder=1000)\n",
    "#########\n",
    "\n",
    "from mpl_toolkits.axes_grid1 import make_axes_locatable\n",
    "divider = make_axes_locatable(ax1[1])\n",
    "cax = divider.append_axes('right', size='5%', pad=0.05)\n",
    "cax.plot([0,1],[1/3]*2,'w',linewidth=3)\n",
    "cax.plot([0,1],[1/2]*2,'w',linewidth=3)\n",
    "fig1.colorbar(mesh,cax =cax)\n",
    "cax.add_patch(Rectangle((0, 0), 1, 1/2, fill=False, hatch='\\\\\\\\'))\n",
    "\n",
    "# ####################################\n",
    "\n",
    "ax1[1].set_title('AIC weight with two species',fontsize=fs)\n",
    "\n",
    "ax1[1].pcolormesh(Xaic,Yaic,Z_2d,cmap=cmap_aic,vmin=0,vmax=1)\n",
    "ax1[1].pcolor(Xaic,Yaic,np.ma.masked_array(Z_2d,Z_2d>1/2),\n",
    "              cmap=cmap_aic,\n",
    "              alpha=1,hatch='\\\\\\\\',edgecolor='black',facecolor=None,linewidth=0,\n",
    "              vmin=0,vmax=1)\n",
    "\n",
    "x1_2d,y1_2d,_,_,_ =  encode_xy_sde_2d(*decode_xy_sde_1d(x1_1d,y1_1d,K_avg,beta),gamma)\n",
    "x2_2d,y2_2d,_,_,_ =  encode_xy_sde_2d(*decode_xy_sde_1d(x2_1d,y2_1d,K_avg,beta),gamma)\n",
    "################\n",
    "pars_1 = decode_xy_sde_1d(x1_2d,y1_2d,K_avg,beta)\n",
    "noise_corr_1 = []\n",
    "for p_val in [1,0.5,0.1,0.05]:\n",
    "    pars_new = np.copy(pars_1)\n",
    "    pars_new[2] *= p_val\n",
    "    x,y,_,beta = encode_xy_sde_1d(*pars_new)\n",
    "    noise_corr_1.append([x,y])\n",
    "noise_corr_1 = np.asarray(noise_corr_1)\n",
    "ax1[1].plot(noise_corr_1[:,0],noise_corr_1[:,1],'-',\n",
    "            linewidth=noiseline_width[0],color=noiseline_colors[0],\n",
    "            path_effects=[pe.Stroke(linewidth=noiseline_width[1], foreground=noiseline_colors[1]), pe.Normal()])\n",
    "ax1[1].arrow(noise_corr_1[-1,0],noise_corr_1[-1,1],0,-0.1,\n",
    "            head_width = head_width,\n",
    "            linewidth=noiseline_width[0],color=noiseline_colors[0],\n",
    "            path_effects=[pe.Stroke(linewidth=noiseline_width[1], foreground=noiseline_colors[1]), pe.Normal()])\n",
    "ax1[1].scatter(noise_corr_1[1:,0],noise_corr_1[1:,1],s=noise_ms,c='gray',edgecolors='k',zorder=1000)\n",
    "#########\n",
    "pars_2 = decode_xy_sde_1d(x2_2d,y2_2d,K_avg,beta)\n",
    "noise_corr_2 = []\n",
    "for p_val in [1,0.5,0.1,0.05]:\n",
    "    pars_new = np.copy(pars_2)\n",
    "    pars_new[2] *= p_val\n",
    "    x,y,_,_ = encode_xy_sde_1d(*pars_new)\n",
    "    noise_corr_2.append([x,y])\n",
    "noise_corr_2 = np.asarray(noise_corr_2)\n",
    "ax1[1].plot(noise_corr_2[:,0],noise_corr_2[:,1],'-',\n",
    "            linewidth=noiseline_width[0],color=noiseline_colors[0],\n",
    "            path_effects=[pe.Stroke(linewidth=noiseline_width[1], foreground=noiseline_colors[1]), pe.Normal()])\n",
    "ax1[1].arrow(noise_corr_2[-1,0],noise_corr_2[-1,1],0,-0.1,\n",
    "            head_width = head_width,\n",
    "            linewidth=noiseline_width[0],color=noiseline_colors[0],\n",
    "            path_effects=[pe.Stroke(linewidth=noiseline_width[1], foreground=noiseline_colors[1]), pe.Normal()])\n",
    "ax1[1].scatter(noise_corr_2[1:,0],noise_corr_2[1:,1],s=noise_ms,c='gray',edgecolors='k',zorder=1000)\n",
    "#########\n",
    "ax1[1].scatter(x1_2d,y1_2d,regime_ms,regime_colors[0],edgecolors='k',zorder=1000)\n",
    "ax1[1].scatter(x2_2d,y2_2d,regime_ms,regime_colors[1],edgecolors='k',zorder=1000)\n",
    "#########\n",
    "\n",
    "ax1[1].set_xlabel(dim_names[0],fontsize=fs)\n",
    "ax1[1].set_ylabel(dim_names[1],fontsize=fs)\n",
    "# #####################################\n",
    "\n",
    "xvals = np.arange(mx[0])\n",
    "Pss_arr_1 = [models[k].get_Pss(*decode_fun_2d[k](x1_2d,y1_2d,K_avg,beta,gamma),[mx[0],1]) for  k in range(nmod)]\n",
    "for k in range(3):\n",
    "    ax1[2].plot(xvals,Pss_arr_1[k],label=model_names[k],linewidth=2,color=model_colors[k])\n",
    "ax1[2].legend(fontsize=fs)\n",
    "ax1[2].set_xlabel('# nascent',fontsize=fs)\n",
    "ax1[2].set_ylabel('Probability',fontsize=fs)\n",
    "ax1[2].set_title('Easily distinguishable bimodal regime',fontsize=fs,color=regime_colors[0])\n",
    "\n",
    "\n",
    "\n",
    "xvals = np.arange(mx[0])\n",
    "Pss_arr_2 = [models[k].get_Pss(*decode_fun_2d[k](x2_2d,y2_2d,K_avg,beta,gamma),[mx[0],1]) for  k in range(nmod)]\n",
    "for k in range(3):\n",
    "    ax1[3].plot(xvals,Pss_arr_2[k],linewidth=2,color=model_colors[k])\n",
    "ax1[3].set_xlabel('# nascent',fontsize=fs)\n",
    "ax1[3].set_ylabel('Probability',fontsize=fs)\n",
    "ax1[3].set_title('Poorly distinguishable bursty regime',fontsize=fs,color=regime_colors[1])\n",
    "\n",
    "fig1.tight_layout()\n",
    "plt.savefig('figs/fig4c.png',dpi=450)\n",
    "plt.savefig('figs/fig4c.pdf')"
   ]
  },
  {
   "cell_type": "code",
   "execution_count": null,
   "id": "c45ef8c4",
   "metadata": {},
   "outputs": [],
   "source": []
  }
 ],
 "metadata": {
  "kernelspec": {
   "display_name": "Python 3",
   "language": "python",
   "name": "python3"
  },
  "language_info": {
   "codemirror_mode": {
    "name": "ipython",
    "version": 3
   },
   "file_extension": ".py",
   "mimetype": "text/x-python",
   "name": "python",
   "nbconvert_exporter": "python",
   "pygments_lexer": "ipython3",
   "version": "3.9.1"
  }
 },
 "nbformat": 4,
 "nbformat_minor": 5
}
