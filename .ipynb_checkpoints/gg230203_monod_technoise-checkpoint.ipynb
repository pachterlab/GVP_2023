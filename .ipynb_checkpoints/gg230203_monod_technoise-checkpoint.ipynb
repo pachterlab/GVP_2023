{
 "cells": [
  {
   "cell_type": "markdown",
   "id": "c11c332e",
   "metadata": {},
   "source": [
    "# Figure generation for \"Length Biases in Single-Cell RNA Sequencing of pre-mRNA\""
   ]
  },
  {
   "cell_type": "markdown",
   "id": "c82084fc",
   "metadata": {},
   "source": [
    "This notebook generates all figures in the body and supplement of \"Length Biases in Single-Cell RNA Sequencing of pre-mRNA\" based on pre-computed results from *Monod*.\n",
    "\n",
    "The notebook is fairly large, and generates some sixty figures. We have attempted to make it fairly modular. The \"Prerequisites\" section is required by every figure, but we do not need to go down the line and run every single cell: we can typically start at the relevant heading.\n",
    "\n",
    "The analyses and visualizations largely reproduce the functionality in the *Monod* Python package, and heavily use its functions. All of the notebooks used *Monod* 0.2.5.0 to generate and analyze the data. For the convenience, we rewrite some of its functionality in the current notebook, so aesthetics can be modified simply by changing entries in the `aesthetics` dictionary."
   ]
  },
  {
   "cell_type": "markdown",
   "id": "737c0260",
   "metadata": {},
   "source": [
    "## Prerequisites"
   ]
  },
  {
   "cell_type": "markdown",
   "id": "720251d3",
   "metadata": {},
   "source": [
    "Load in *Monod* and other prerequisites."
   ]
  },
  {
   "cell_type": "code",
   "execution_count": 1,
   "id": "bd41785a",
   "metadata": {},
   "outputs": [],
   "source": [
    "import sys\n",
    "sys.path.insert(0, '/home/ggorin/projects/monod/src/')"
   ]
  },
  {
   "cell_type": "code",
   "execution_count": 2,
   "id": "376f78a5",
   "metadata": {},
   "outputs": [],
   "source": [
    "import monod\n",
    "from monod import preprocess, extract_data, cme_toolbox, inference, analysis"
   ]
  },
  {
   "cell_type": "code",
   "execution_count": 3,
   "id": "1477f62d",
   "metadata": {},
   "outputs": [],
   "source": [
    "import pandas as pd\n",
    "import numpy as np\n",
    "import loompy as lp\n",
    "import matplotlib\n",
    "import matplotlib.pyplot as plt\n",
    "import scipy"
   ]
  },
  {
   "cell_type": "markdown",
   "id": "0c3a455f",
   "metadata": {},
   "source": [
    "Define metadata for the `kb` runs."
   ]
  },
  {
   "cell_type": "code",
   "execution_count": 4,
   "id": "e7d7609c",
   "metadata": {},
   "outputs": [],
   "source": [
    "spliced_layer = 'spliced'\n",
    "unspliced_layer = 'unspliced'\n",
    "gene_attr = 'gene_name'\n",
    "cell_attr = 'barcode'\n",
    "\n",
    "attribute_names=[(unspliced_layer,spliced_layer),gene_attr,cell_attr]"
   ]
  },
  {
   "cell_type": "markdown",
   "id": "9a75bf1e",
   "metadata": {},
   "source": [
    "Define gene length reference locations with."
   ]
  },
  {
   "cell_type": "code",
   "execution_count": 5,
   "id": "03d73c64",
   "metadata": {},
   "outputs": [],
   "source": [
    "dict_locations = ['../GP_2021_3/polyA_ref/' + x for x in ['gg_200525_genome_polyA_cum_3','gg_200524_mouse_genome_polyA_cum_1']]\n",
    "transcriptome_dicts = [monod.preprocess.get_transcriptome(x) for x in dict_locations] #human then mouse"
   ]
  },
  {
   "cell_type": "code",
   "execution_count": 6,
   "id": "6622ac8b",
   "metadata": {},
   "outputs": [],
   "source": [
    "# !pwd"
   ]
  },
  {
   "cell_type": "markdown",
   "id": "7d168f65",
   "metadata": {},
   "source": [
    "Define all aesthetics."
   ]
  },
  {
   "cell_type": "code",
   "execution_count": 7,
   "id": "5301c0b2",
   "metadata": {},
   "outputs": [],
   "source": [
    "from matplotlib.colors import ListedColormap\n",
    "\n",
    "c1 = [173/255,214/255,200/255]\n",
    "c2 = [59/255,131/255,130/255]\n",
    "ncol=50\n",
    "cmap_histogram = ListedColormap(np.array([np.linspace(c2[j],c1[j],ncol) for j in range(3)]).T)\n",
    "\n",
    "c1 = [0,0,0,0]\n",
    "# c2 = [1,1,1,1]\n",
    "c2 = [235/255,228/255,143/255,1]\n",
    "ncol=2\n",
    "cmap_highlight_landscape = ListedColormap(np.array([np.linspace(c2[j],c1[j],ncol) for j in range(4)]).T)\n",
    "\n",
    "\n",
    "aesthetics = \\\n",
    "    {'selected_markersize_body':2.2,'omitted_markersize_body':1.8,\n",
    "     'selected_markersize_supp':2.2,'selected_markersize_supp':1.8,\n",
    "     'selected_color':np.array([212,107,75])/255,\n",
    "     'omitted_color':'lightgray',\n",
    "     'selected_alpha':0.3,'omitted_alpha':0.1,'fontsize_body_axes':14,'fontsize_body_title':16,\n",
    "     'pmf_colormap':cmap_histogram,\n",
    "     'landscape_colormap':cmap_histogram,\n",
    "     'landscape_highlight_colormap':cmap_highlight_landscape,\n",
    "     'optimum_color':[212/255,107/255,75/255],\n",
    "     'optimum_markersize':100,\n",
    "     'highlighted_optimum_markersize':300,\n",
    "     'dataset_colors':('violet','darkorchid','rebeccapurple','midnightblue'),\n",
    "     \"accepted_gene_color\": [203/255,197/255,149/255],\n",
    "     \"rejected_gene_color\": \"darkgrey\",\n",
    "     \"accepted_gene_alpha\": 0.4,\n",
    "     \"rejected_gene_alpha\": 0.5,\n",
    "     \"accepted_gene_ms\": 5,\n",
    "     \"rejected_gene_ms\": 5,\n",
    "     'hist_face_color':'lightgray',\n",
    "     \"hist_fit_color\":  [59/255,131/255,130/255],\n",
    "     \"hist_fit_lw\": 3,\n",
    "     'identity_line_color':[212/255,107/255,75/255],\n",
    "     'identity_lw':3,\n",
    "     'v2_gene_color':[39/255]*3,\n",
    "     'celltype_diffs_gene_color':[39/255]*3,\n",
    "     'celltype_colors_pbmc':('orange','teal','mediumvioletred'),\n",
    "     'celltype_colors_allen':('lightcoral','lightseagreen'),\n",
    "     'celltype_marker_alpha':0.8,\n",
    "     'celltype_diffs_gene_alpha':0.3,\n",
    "     'celltype_diffs_ms':4,\n",
    "     'celltype_marker_ms':60,\n",
    "     'partition_line_color':'lightcoral',\n",
    "}"
   ]
  },
  {
   "cell_type": "markdown",
   "id": "1c4932f0",
   "metadata": {},
   "source": [
    "Define figure output directory."
   ]
  },
  {
   "cell_type": "code",
   "execution_count": 8,
   "id": "2a6d785e",
   "metadata": {},
   "outputs": [],
   "source": [
    "figdir = './figs'"
   ]
  },
  {
   "cell_type": "markdown",
   "id": "6f906371",
   "metadata": {},
   "source": [
    "Define the whole-dataset analyses: the *Monod* batches as well as the datasets analyzed in each batch.\n",
    "\n",
    "This involves defining \"replicate pairs,\" i.e., sets of samples that are mutual biological or technical replicates."
   ]
  },
  {
   "cell_type": "code",
   "execution_count": 9,
   "id": "121e493d",
   "metadata": {},
   "outputs": [],
   "source": [
    "batch_dirs = ['gg_221118_025_pbmc_1','gg_221115_025_heart_1','gg_221116_025_neuron_1','gg_221118_025_allen_1']\n",
    " \n",
    "dataset_v3_list = [['pbmc_1k_v3','pbmc_10k_v3'],\n",
    "                     ['heart_1k_v3','heart_10k_v3'],\n",
    "                     ['neuron_1k_v3','neuron_10k_v3'],\n",
    "                     ['allen_'+x for x in ['B08','C01','F08','H12','B01','A01']]]\n",
    "dataset_v2_list = ['pbmc_1k_v2','heart_1k_v2','neuron_1k_v2','allen_B05']\n",
    "\n",
    "dataset_name_list = [['pbmc_1k_v2','pbmc_1k_v3','pbmc_10k_v3'],\n",
    "                     ['heart_1k_v2','heart_1k_v3','heart_10k_v3'],\n",
    "                     ['neuron_1k_v2','neuron_1k_v3','neuron_10k_v3'],\n",
    "                     ['allen_'+x for x in ['B05','B08','C01','F08','H12','B01','A01']]]\n",
    "\n",
    "tenX_dir = '/home/ggorin/count_data/loom_10x_kb/'\n",
    "allen_dir = '/home/ggorin/count_data/loom_allen_kb/'\n",
    "raw_looms = [[tenX_dir+x+'.loom' for x in dataset_name_list[0]], \\\n",
    "            [tenX_dir+x+'.loom' for x in dataset_name_list[1]], \\\n",
    "            [tenX_dir+x+'.loom' for x in dataset_name_list[2]], \\\n",
    "            [allen_dir+x+'_raw.loom' for x in dataset_name_list[3]]]\n",
    "\n",
    "batch_names = ['pbmc','heart','neuron','allen']\n",
    "tech_replicate_pairs = [[[0,1]],[[0,1]],[[0,1]],[[1,4],[3,5]]]\n",
    "bio_replicate_pairs = [[],[],[],[[0,1],[1,2],[2,3],[0,2],[0,3]]]\n",
    "tech_v2_replicate_pairs = [[0,2],[0,2],[0,2],[0,5]]"
   ]
  },
  {
   "cell_type": "markdown",
   "id": "012ca57b",
   "metadata": {},
   "source": [
    "Define batches for the analysis without a technical noise model."
   ]
  },
  {
   "cell_type": "code",
   "execution_count": 10,
   "id": "14d136bd",
   "metadata": {},
   "outputs": [],
   "source": [
    "batch_dirs_noisefree =  ['gg_221119_025_pbmc_noisefree_1',\\\n",
    "                         'gg_221119_025_heart_noisefree_1',\\\n",
    "                         'gg_221119_025_neuron_noisefree_1',\\\n",
    "                         'gg_221119_025_allen_noisefree_1']"
   ]
  },
  {
   "cell_type": "markdown",
   "id": "d46b31c6",
   "metadata": {},
   "source": [
    "Define batch metadata and marker genes for the PBMC cell type comparison."
   ]
  },
  {
   "cell_type": "code",
   "execution_count": 11,
   "id": "34c9ddc7",
   "metadata": {},
   "outputs": [],
   "source": [
    "pbmc_celltype_dataset = dataset_v3_list[0][1]\n",
    "pbmc_baseline_dir = batch_dirs[0]\n",
    "pbmc_celltype_batch_dir = 'gg_221118_025_pbmc_celltypes_1'\n",
    "pbmc_celltype_names = ['Tcells','Monocytes','Bcells']\n",
    "pbmc_celltype_names_labels = ['T cells','monocytes','B cells']\n",
    "pbmc_celltypes = [pbmc_celltype_dataset + '_' + x for x in pbmc_celltype_names]\n",
    "pbmc_markers = [['CD3D', 'CD3G','CD3E','CD247','CD2','TCF7','CD4','CD69','CCL5'],\n",
    "      ['CD93','CSTA','FPR1','CD14','CD36'],\n",
    "      ['CD79A','CD22','BLK','IGHD','VPREB3']]\n"
   ]
  },
  {
   "cell_type": "markdown",
   "id": "9ce3b948",
   "metadata": {},
   "source": [
    "Define batch metadata and marker genes for the Allen cell type comparison."
   ]
  },
  {
   "cell_type": "code",
   "execution_count": 12,
   "id": "b9eae24a",
   "metadata": {},
   "outputs": [],
   "source": [
    "allen_celltype_datasets = dataset_v3_list[3][:4]\n",
    "allen_celltype_batch_dir = 'gg_221119_025_allen_celltypes_1'\n",
    "allen_celltype_names = ['Glutamatergic','GABAergic']\n",
    "allen_celltype_names_labels = ['glutamatergic','GABAergic']\n",
    "allen_celltypes = [[dataset + '_' + celltype for celltype in allen_celltype_names] for dataset in allen_celltype_datasets]\n",
    "allen_markers = [['Slc17a7','Slc17a6'],\n",
    "      ['Gad1', 'Gad2', 'Slc32a1','Slc6a5']]"
   ]
  },
  {
   "cell_type": "markdown",
   "id": "05fa062c",
   "metadata": {},
   "source": [
    "Define batch metadata for the method of moments initialization benchmark."
   ]
  },
  {
   "cell_type": "code",
   "execution_count": 13,
   "id": "273e033e",
   "metadata": {},
   "outputs": [],
   "source": [
    "MoM_batch_dir = 'gg_221120_025_pbmc_MoM_1'\n",
    "MoM_dataset = dataset_v3_list[0][0]\n",
    "MoM_trials = ['Bursty_Poisson_10x11_10rest','Bursty_Poisson_10x11_1rest']"
   ]
  },
  {
   "cell_type": "markdown",
   "id": "65b1a616",
   "metadata": {},
   "source": [
    "Define batch metadata for the control with a length-independent technical noise model."
   ]
  },
  {
   "cell_type": "code",
   "execution_count": 14,
   "id": "24aceb06",
   "metadata": {},
   "outputs": [],
   "source": [
    "nolength_batch_dir = 'gg_221120_025_pbmc_nolengths_1'\n",
    "nolength_dataset = dataset_v3_list[0][0]"
   ]
  },
  {
   "cell_type": "code",
   "execution_count": 15,
   "id": "ab8d627f",
   "metadata": {},
   "outputs": [],
   "source": [
    "param_names = ['Burst size','Splicing rate','Degradation rate']"
   ]
  },
  {
   "cell_type": "code",
   "execution_count": null,
   "id": "1f023d46",
   "metadata": {},
   "outputs": [],
   "source": []
  },
  {
   "cell_type": "markdown",
   "id": "51a80071",
   "metadata": {},
   "source": [
    "# Raw means"
   ]
  },
  {
   "cell_type": "code",
   "execution_count": 16,
   "id": "9367031a",
   "metadata": {},
   "outputs": [],
   "source": [
    "def plot_spliced_unspliced_mean_bins(ax1,sd_arr,figsize=(6,6)):\n",
    "    for k,sd in enumerate(sd_arr):\n",
    "        q = np.quantile(sd.gene_log_lengths,np.linspace(0,1,11))\n",
    "#         eps = 0.01\n",
    "#         q = np.linspace(sd.gene_log_lengths.min()-eps,sd.gene_log_lengths.max()+eps,11)\n",
    "        binc = q[:-1] + np.diff(q)/2\n",
    "        lmU = np.log10(sd.layers[0].mean(1))\n",
    "        lmS = np.log10(sd.layers[1].mean(1))\n",
    "#         lmU=lmU[~np.isnan(lmU)]\n",
    "#         lmS=lmS[~np.isnan(lmS)]\n",
    "        \n",
    "        mmU = scipy.stats.binned_statistic(sd.gene_log_lengths,lmU,'mean',q).statistic\n",
    "        mmS = scipy.stats.binned_statistic(sd.gene_log_lengths,lmS,'mean',q).statistic\n",
    "        stdU = scipy.stats.binned_statistic(sd.gene_log_lengths,lmU,'std',q).statistic\n",
    "        stdS = scipy.stats.binned_statistic(sd.gene_log_lengths,lmS,'std',q).statistic\n",
    "        \n",
    "        c_nas = 'crimson'\n",
    "        c_mat = 'lightslategray'\n",
    "        if k>0:\n",
    "            ax1.plot(binc,mmU,'-',c=c_nas,alpha=0.5,zorder=1000)\n",
    "            ax1.plot(binc,mmS,'-',c=c_mat,alpha=0.5,zorder=-1000)\n",
    "        else:\n",
    "            ax1.plot(binc,mmU,'-',c=c_nas,alpha=0.5,zorder=1000,label='Nascent')\n",
    "            ax1.plot(binc,mmS,'-',c=c_mat,alpha=0.5,zorder=-1000,label='Mature')\n",
    "            \n"
   ]
  },
  {
   "cell_type": "code",
   "execution_count": 17,
   "id": "155ee6ab",
   "metadata": {},
   "outputs": [],
   "source": [
    "# batchind = 0\n",
    "prefix = '../GP_2021_3/notebooks/fits/'\n",
    "# sd_arr = [monod.analysis.load_search_data(prefix+batch_dirs[batchind]+'/'+x+'/raw.sd') for x in dataset_v3_list[batchind]]"
   ]
  },
  {
   "cell_type": "code",
   "execution_count": 18,
   "id": "fbcbbcc7",
   "metadata": {},
   "outputs": [],
   "source": [
    "#takes a bit of time to load raw\n",
    "sd_arr = [monod.analysis.load_search_data(prefix+batch_dirs[batchind]+'/'+x+'/raw.sd') \n",
    "             for batchind in range(4) for x in dataset_v3_list[batchind]]\n"
   ]
  },
  {
   "cell_type": "code",
   "execution_count": 19,
   "id": "66a67fc4",
   "metadata": {},
   "outputs": [
    {
     "data": {
      "image/png": "[encoded data removed]",
      "text/plain": [
       "<Figure size 360x360 with 1 Axes>"
      ]
     },
     "metadata": {
      "needs_background": "light"
     },
     "output_type": "display_data"
    }
   ],
   "source": [
    "fig1, ax1 = plt.subplots(1,1,figsize=(5,5))\n",
    "plot_spliced_unspliced_mean_bins(ax1,sd_arr)\n",
    "ax1.set_xticks([3,4,5,6],[rf'$10^{x}$' for x in range(3,7)],fontsize=12)\n",
    "ax1.set_xlabel('Gene length',fontsize=16)\n",
    "ax1.set_yticks([np.log10(0.1),np.log10(0.5),0,1],(['0.1','0.5','1','10']),fontsize=12)\n",
    "ax1.set_ylabel('Average copy number in bin',fontsize=16)\n",
    "ax1.legend(frameon=False,fontsize=16)\n",
    "plt.savefig('figs/fig5c.png',dpi=450)\n",
    "plt.savefig('figs/fig5c.pdf')"
   ]
  },
  {
   "cell_type": "code",
   "execution_count": 20,
   "id": "4eb24636",
   "metadata": {},
   "outputs": [],
   "source": [
    "prefix = '../GP_2021_3/notebooks/fits/'\n"
   ]
  },
  {
   "cell_type": "code",
   "execution_count": 21,
   "id": "f643d16f",
   "metadata": {},
   "outputs": [],
   "source": [
    "# sr_arr_nf = [monod.analysis.load_search_results(prefix+batch_dirs_noisefree[batchind]+'/'+x+'/Bursty_None_1x1/grid_scan_results_upd.res') \n",
    "#              for batchind in range(4) for x in dataset_v3_list[batchind]]\n"
   ]
  },
  {
   "cell_type": "code",
   "execution_count": 22,
   "id": "561f6837",
   "metadata": {},
   "outputs": [],
   "source": [
    "def plot_burstsize_bins(sr_arr,ax1=None,col='darkgray',zorder=-1000,label='No technical noise',figsize=(6,6)):\n",
    "    if ax1 is None:\n",
    "        fig1, ax1 = plt.subplots(1,1,figsize=figsize)\n",
    "\n",
    "    for k,sr in enumerate(sr_arr):\n",
    "        q = np.quantile(sr.gene_log_lengths,np.linspace(0,1,11))\n",
    "        binc = q[:-1] + np.diff(q)/2\n",
    "        bs = sr.phys_optimum[~sr.rejected_genes,0]\n",
    "#         lmU = np.log10(sd.layers[0].mean(1))\n",
    "#         lmS = np.log10(sd.layers[1].mean(1))\n",
    "        \n",
    "        mmB = scipy.stats.binned_statistic(sr.gene_log_lengths[~sr.rejected_genes],bs,'mean',q).statistic\n",
    "        \n",
    "        if k>0:\n",
    "            ax1.plot(binc,mmB,'-',color=col,alpha=0.5,zorder=zorder)\n",
    "        else:\n",
    "            ax1.plot(binc,mmB,'-',color=col,alpha=0.5,zorder=zorder,label=label)\n",
    "            \n"
   ]
  },
  {
   "cell_type": "code",
   "execution_count": 63,
   "id": "0881c6f6",
   "metadata": {},
   "outputs": [
    {
     "name": "stdout",
     "output_type": "stream",
     "text": [
      "0.4532944022311802\n",
      "0.5018569772235563\n",
      "0.4505720122004201\n",
      "0.5108632361993678\n"
     ]
    }
   ],
   "source": [
    "for k in range(4):\n",
    "    x=np.corrcoef(sr_arr_nf[k].gene_log_lengths[~sr_arr_nf[k].rejected_genes],\n",
    "                sr_arr_nf[k].phys_optimum[~sr_arr_nf[k].rejected_genes,0])[0,1]\n",
    "    print(x)"
   ]
  },
  {
   "cell_type": "code",
   "execution_count": 23,
   "id": "941dbec4",
   "metadata": {},
   "outputs": [],
   "source": [
    "sr_arr_nf = [monod.analysis.load_search_results(prefix+batch_dirs_noisefree[batchind]+'/'+x+'/Bursty_None_1x1/grid_scan_results_upd.res') \n",
    "             for batchind in range(4) for x in dataset_v3_list[batchind]]\n",
    "sr_arr = [monod.analysis.load_search_results(prefix+batch_dirs[batchind]+'/'+x+'/Bursty_Poisson_20x21/grid_scan_results_upd.res') \n",
    "             for batchind in range(4) for x in dataset_v3_list[batchind]]\n"
   ]
  },
  {
   "cell_type": "code",
   "execution_count": 24,
   "id": "c8d1363f",
   "metadata": {},
   "outputs": [
    {
     "data": {
      "image/png": "[encoded data removed]",
      "text/plain": [
       "<Figure size 360x360 with 1 Axes>"
      ]
     },
     "metadata": {
      "needs_background": "light"
     },
     "output_type": "display_data"
    }
   ],
   "source": [
    "figsize=(5,5)\n",
    "fig1, ax1 = plt.subplots(1,1,figsize=figsize)\n",
    "plot_burstsize_bins(sr_arr_nf,ax1,'darkkhaki',label='Species-independent noise')\n",
    "plot_burstsize_bins(sr_arr,ax1,'b',1000,label='Species-dependent noise')\n",
    "\n",
    "ax1.set_xticks([3,4,5,6],[rf'$10^{x}$' for x in range(3,7)],fontsize=12)\n",
    "ax1.set_xlabel('Gene length',fontsize=16)\n",
    "ax1.set_yticks([np.log10(0.1),np.log10(0.5),0,1,np.log10(50)],(['0.1','0.5','1','10','50']),fontsize=12)\n",
    "ax1.set_ylabel('Average inferred burst size in bin',fontsize=16)\n",
    "ax1.legend(frameon=False,fontsize=16)\n",
    "plt.savefig('figs/fig5d.png',dpi=450)\n",
    "plt.savefig('figs/fig5d.pdf')"
   ]
  },
  {
   "cell_type": "code",
   "execution_count": 30,
   "id": "575c83e9",
   "metadata": {},
   "outputs": [],
   "source": [
    "# genelists = [np.loadtxt(y,delimiter=',',dtype=str) for y in [prefix+x+'/genes.csv' for x in batch_dirs]]"
   ]
  },
  {
   "cell_type": "code",
   "execution_count": 34,
   "id": "853b8771",
   "metadata": {},
   "outputs": [],
   "source": [
    "# from pybiomart import Server\n",
    "# server = Server(host='http://www.ensembl.org')\n",
    "# human_dataset = (server.marts['ENSEMBL_MART_ENSEMBL'].datasets['hsapiens_gene_ensembl'])\n",
    "# mouse_dataset = (server.marts['ENSEMBL_MART_ENSEMBL'].datasets['mmusculus_gene_ensembl'])\n",
    "\n",
    "# human_query = human_dataset.query(attributes=['external_gene_name', 'transcript_length','start_position','end_position'])\n",
    "# mouse_query = mouse_dataset.query(attributes=['external_gene_name', 'transcript_length','start_position','end_position'])\n",
    "\n",
    "# human_query=human_query.set_index('Gene name')\n",
    "# mouse_query=mouse_query.set_index('Gene name')"
   ]
  },
  {
   "cell_type": "markdown",
   "id": "140c1710",
   "metadata": {},
   "source": [
    "## Human PBMC"
   ]
  },
  {
   "cell_type": "code",
   "execution_count": 38,
   "id": "2770817b",
   "metadata": {},
   "outputs": [],
   "source": [
    "# tl_pbmc = []\n",
    "# tl_longest_pbmc = []\n",
    "# gl_pbmc = []\n",
    "# for gene in genelists[0]:\n",
    "#     try:\n",
    "#         tl_pbmc.append(human_query.loc[gene]['Transcript length (including UTRs and CDS)'].mean())\n",
    "#         tl_longest_pbmc.append(human_query.loc[gene]['Transcript length (including UTRs and CDS)'].max())\n",
    "#         gl_pbmc.append((human_query.loc[gene]['Gene end (bp)']-human_query.loc[gene]['Gene start (bp)']).max())\n",
    "#     except:\n",
    "#         pass"
   ]
  },
  {
   "cell_type": "markdown",
   "id": "7b3f7c77",
   "metadata": {},
   "source": [
    "## Mouse heart"
   ]
  },
  {
   "cell_type": "code",
   "execution_count": 42,
   "id": "33158468",
   "metadata": {},
   "outputs": [],
   "source": [
    "# tl_heart = []\n",
    "# tl_longest_heart = []\n",
    "# gl_heart = []\n",
    "# for gene in genelists[1]:\n",
    "#     try:\n",
    "#         tl_heart.append(mouse_query.loc[gene]['Transcript length (including UTRs and CDS)'].mean())\n",
    "#         tl_longest_heart.append(mouse_query.loc[gene]['Transcript length (including UTRs and CDS)'].max())\n",
    "#         gl_heart.append((mouse_query.loc[gene]['Gene end (bp)']-mouse_query.loc[gene]['Gene start (bp)']).max())\n",
    "#     except:\n",
    "#         pass"
   ]
  },
  {
   "cell_type": "code",
   "execution_count": 43,
   "id": "20636f49",
   "metadata": {},
   "outputs": [],
   "source": [
    "# tl_neuron = []\n",
    "# tl_longest_neuron = []\n",
    "# gl_neuron = []\n",
    "# for gene in genelists[2]:\n",
    "#     try:\n",
    "#         tl_neuron.append(mouse_query.loc[gene]['Transcript length (including UTRs and CDS)'].mean())\n",
    "#         tl_longest_neuron.append(mouse_query.loc[gene]['Transcript length (including UTRs and CDS)'].max())\n",
    "#         gl_neuron.append((mouse_query.loc[gene]['Gene end (bp)']-mouse_query.loc[gene]['Gene start (bp)']).max())\n",
    "#     except:\n",
    "#         pass"
   ]
  },
  {
   "cell_type": "code",
   "execution_count": 44,
   "id": "fa7c73d5",
   "metadata": {},
   "outputs": [],
   "source": [
    "# tl_allen = []\n",
    "# tl_longest_allen = []\n",
    "# gl_allen = []\n",
    "# for gene in genelists[3]:\n",
    "#     try:\n",
    "#         tl_allen.append(mouse_query.loc[gene]['Transcript length (including UTRs and CDS)'].mean())\n",
    "#         tl_longest_allen.append(mouse_query.loc[gene]['Transcript length (including UTRs and CDS)'].max())\n",
    "#         gl_allen.append((mouse_query.loc[gene]['Gene end (bp)']-mouse_query.loc[gene]['Gene start (bp)']).max())\n",
    "#     except:\n",
    "#         pass"
   ]
  },
  {
   "cell_type": "code",
   "execution_count": 49,
   "id": "ce219d2d",
   "metadata": {},
   "outputs": [],
   "source": [
    "# tls = [tl_pbmc,tl_heart,tl_neuron,tl_allen]\n",
    "# tls_longest = [tl_longest_pbmc,tl_longest_heart,tl_longest_neuron,tl_longest_allen]\n",
    "# gls = [gl_pbmc,gl_heart,gl_neuron,gl_allen]"
   ]
  },
  {
   "cell_type": "code",
   "execution_count": null,
   "id": "b177f271",
   "metadata": {},
   "outputs": [],
   "source": [
    "# fig1, ax1 = plt.subplots(2,4,figsize=(12,6))\n",
    "\n",
    "# fs = 14\n",
    "# for k in range(4):\n",
    "#     ax1[0,k].scatter(gls[k],tls[k],3,'k',alpha=0.2)\n",
    "#     xl = [min(gls[k]),max(gls[k])]\n",
    "#     ax1[0,k].plot(xl,xl,'r--')\n",
    "#     ax1[0,k].set_xscale('log')\n",
    "#     ax1[0,k].set_yscale('log')\n",
    "    \n",
    "#     ax1[1,k].scatter(gls[k],tls_longest[k],3,'k',alpha=0.2)\n",
    "#     ax1[1,k].plot(xl,xl,'r--')\n",
    "#     ax1[1,k].set_xscale('log')\n",
    "#     ax1[1,k].set_yscale('log')\n",
    "\n",
    "#     ax1[0,k].set_ylabel('Average transcript\\nlength / nt',fontsize=fs)\n",
    "#     ax1[1,k].set_ylabel('Maximum transcript\\nlength / nt',fontsize=fs)\n",
    "#     ax1[1,k].set_xlabel('Gene length / bp',fontsize=fs)\n",
    "#     ax1[0,k].set_title(batch_names[k],fontsize=16)\n",
    "    \n",
    "#     x = np.corrcoef(gls[k],tls[k])[0,1]\n",
    "#     ax1[0,k].text(0.1,0.9,r'$\\rho$ = {:.2f}'.format(x),transform=ax1[0,k].transAxes,fontsize=fs)\n",
    "#     x = np.corrcoef(gls[k],tls_longest[k])[0,1]\n",
    "#     ax1[1,k].text(0.1,0.9,r'$\\rho$ = {:.2f}'.format(x),transform=ax1[1,k].transAxes,fontsize=fs)\n",
    "\n",
    "# fig1.tight_layout()\n",
    "# plt.savefig('figs/genelengths.png',dpi=450)\n",
    "# plt.savefig('figs/genelengths.pdf')"
   ]
  },
  {
   "cell_type": "code",
   "execution_count": 75,
   "id": "2226bbb7",
   "metadata": {},
   "outputs": [
    {
     "name": "stdout",
     "output_type": "stream",
     "text": [
      "0.3807895181492141\n",
      "0.4479385726959466\n",
      "0.43767680675819626\n",
      "0.4392934348436033\n"
     ]
    }
   ],
   "source": [
    "# for k in range(4):\n",
    "#     x = np.corrcoef(np.log10(gls[k]),np.log10(tls[k]))[0,1]\n",
    "\n",
    "#     print(x)\n"
   ]
  },
  {
   "cell_type": "code",
   "execution_count": 74,
   "id": "2ed05def",
   "metadata": {},
   "outputs": [
    {
     "name": "stdout",
     "output_type": "stream",
     "text": [
      "0.5292438234659911\n",
      "0.5509598450290735\n",
      "0.514384136075032\n",
      "0.5225706401057888\n"
     ]
    }
   ],
   "source": [
    "# for k in range(4):\n",
    "#     x = np.corrcoef(np.log10(gls[k]),np.log10(tls_longest[k]))[0,1]\n",
    "#     print(x)\n"
   ]
  },
  {
   "cell_type": "code",
   "execution_count": null,
   "id": "646443df",
   "metadata": {},
   "outputs": [],
   "source": [
    "# gls"
   ]
  },
  {
   "cell_type": "code",
   "execution_count": null,
   "id": "9af3d5c3",
   "metadata": {},
   "outputs": [],
   "source": []
  }
 ],
 "metadata": {
  "kernelspec": {
   "display_name": "Python 3",
   "language": "python",
   "name": "python3"
  },
  "language_info": {
   "codemirror_mode": {
    "name": "ipython",
    "version": 3
   },
   "file_extension": ".py",
   "mimetype": "text/x-python",
   "name": "python",
   "nbconvert_exporter": "python",
   "pygments_lexer": "ipython3",
   "version": "3.9.1"
  }
 },
 "nbformat": 4,
 "nbformat_minor": 5
}
