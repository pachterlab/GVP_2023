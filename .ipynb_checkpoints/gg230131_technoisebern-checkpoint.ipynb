{
 "cells": [
  {
   "cell_type": "code",
   "execution_count": 1,
   "id": "8ca96414",
   "metadata": {},
   "outputs": [],
   "source": [
    "import numpy as np\n",
    "from numpy import matlib\n",
    "import matplotlib.pyplot as plt\n",
    "import scipy\n"
   ]
  },
  {
   "cell_type": "markdown",
   "id": "ff2a970c",
   "metadata": {},
   "source": [
    "## Convenience functions"
   ]
  },
  {
   "cell_type": "markdown",
   "id": "97750084",
   "metadata": {},
   "source": [
    "### Reduced parameters"
   ]
  },
  {
   "cell_type": "code",
   "execution_count": 2,
   "id": "b29ea907",
   "metadata": {},
   "outputs": [],
   "source": [
    "# def encode_xy_tele_1d(kon,koff,kinit,beta):\n",
    "#     kappa = kon+koff\n",
    "#     K_avg = kon*kinit/kappa\n",
    "#     x = kappa/(kappa+beta)\n",
    "# #     y = kinit/(kinit+kon)\n",
    "#     THETA_ = kon*kappa/(koff*kinit)\n",
    "#     y = 1/(1+THETA_)\n",
    "#     return x,y,K_avg,beta\n",
    "\n",
    "# def encode_xy_sde_1d(a,kappa,theta,beta):\n",
    "#     K_avg = a*theta/kappa\n",
    "#     x = kappa/(kappa+beta)\n",
    "#     y = theta/(theta+a)\n",
    "#     return x,y,K_avg,beta\n",
    "\n",
    "# def decode_xy_tele_1d(x, y, K_avg, beta):\n",
    "#     kappa = (beta)*(x/(1-x))\n",
    "#     THETA_ = 1/y - 1\n",
    "#     C = K_avg*THETA_\n",
    "#     koff = (C+2*kappa-np.sqrt(C**2+4*C*kappa))/2\n",
    "#     kon = kappa-koff\n",
    "#     kinit = K_avg * kappa / kon\n",
    "#     return kon,koff,kinit, beta\n",
    "# def decode_xy_sde_1d(x, y, K_avg, beta):\n",
    "#     kappa = (beta)*(x/(1-x))\n",
    "#     a_over_th = 1/y - 1\n",
    "#     theta = np.sqrt(kappa*K_avg/a_over_th)\n",
    "#     a = K_avg*kappa/theta\n",
    "#     return a, kappa, theta, beta\n"
   ]
  },
  {
   "cell_type": "code",
   "execution_count": 4,
   "id": "640a4a2b",
   "metadata": {},
   "outputs": [],
   "source": [
    "# decode_xy_tele_1d??"
   ]
  },
  {
   "cell_type": "code",
   "execution_count": 3,
   "id": "61432e2f",
   "metadata": {},
   "outputs": [],
   "source": [
    "# def encode_xy_tele_2d(kon,koff,kinit,beta,gamma):\n",
    "#     kappa = kon+koff\n",
    "#     K_avg = kon*kinit/kappa\n",
    "#     x = kappa/(kappa+beta+gamma)\n",
    "# #     y = kinit/(kinit+kon)\n",
    "#     THETA_ = kon*kappa/(koff*kinit)\n",
    "#     y = 1/(1+THETA_)\n",
    "# #     kappa = kon+koff\n",
    "# #     K_avg = kon*kinit/kappa\n",
    "# # #     x = kappa/(kappa+beta)\n",
    "# #     x = kappa/(kappa+beta+gamma)\n",
    "# # #     y = kinit/(kinit+kon)\n",
    "# #     theta = kon*kappa/(koff*kinit)\n",
    "# #     y = theta/(theta+kon)\n",
    "#     return x,y,K_avg,beta,gamma\n",
    "\n",
    "# def encode_xy_sde_2d(a,kappa,theta,beta,gamma):\n",
    "#     K_avg = a*theta/kappa\n",
    "#     x = kappa/(kappa+beta+gamma)\n",
    "#     y = theta/(theta+a)\n",
    "#     return x,y,K_avg,beta,gamma\n",
    "\n",
    "# def decode_xy_tele_2d(x,y,K_avg,beta,gamma):\n",
    "#     kappa = (beta+gamma)*(x/(1-x))\n",
    "#     THETA_ = 1/y - 1\n",
    "#     C = K_avg*THETA_\n",
    "#     koff = (C+2*kappa-np.sqrt(C**2+4*C*kappa))/2\n",
    "#     kon = kappa-koff\n",
    "#     kinit = K_avg * kappa / kon\n",
    "\n",
    "# #     kappa = (beta + gamma)*(x/(1-x))\n",
    "# #     a_over_th = 1/y - 1\n",
    "# #     theta = np.sqrt(kappa*K_avg/a_over_th)\n",
    "# #     a = K_avg*kappa/theta\n",
    "# #     kon = a\n",
    "# #     theta = kinit\n",
    "# #     koff = kappa-kon\n",
    "#     return kon,koff,kinit,beta,gamma\n",
    "\n",
    "# def decode_xy_sde_2d(x, y, K_avg, beta,gamma):\n",
    "#     kappa = (beta + gamma)*(x/(1-x))\n",
    "#     a_over_th = 1/y - 1\n",
    "#     theta = np.sqrt(kappa*K_avg/a_over_th)\n",
    "#     a = K_avg*kappa/theta\n",
    "#     return a,kappa,theta,beta,gamma\n"
   ]
  },
  {
   "cell_type": "markdown",
   "id": "8db66bbf",
   "metadata": {},
   "source": [
    "### The switching model"
   ]
  },
  {
   "cell_type": "code",
   "execution_count": 18,
   "id": "8056f2fc",
   "metadata": {},
   "outputs": [],
   "source": [
    "class BurstModel():\n",
    "    \"\"\"\n",
    "    This collection of convenience functions is placed in its own class mostly to avoid function name conflicts.\n",
    "    \"\"\"\n",
    "    def __init__(self,seq_model='None',quad_method='fixed_quad',fixed_quad_T=10,quad_order=60,quad_vec_T=np.inf):\n",
    "        self.seq_model = seq_model\n",
    "        self.quad_method = quad_method\n",
    "        self.fixed_quad_T = fixed_quad_T\n",
    "        self.quad_order = quad_order\n",
    "        self.quad_vec_T = quad_vec_T\n",
    "        \n",
    "    def burst_intfun(self, x, g, b, beta, gamma):\n",
    "        if np.isclose(beta, gamma):\n",
    "            c_1 = g[0]  \n",
    "            c_2 = x * beta * g[1]\n",
    "        else:\n",
    "            f = beta / (beta - gamma)\n",
    "            c_2 = g[1] * f\n",
    "            c_1 = g[0] - c_2\n",
    "\n",
    "        U = b * (np.exp(-beta * x) * c_1 + np.exp(-gamma * x) * c_2)\n",
    "        return U / (1 - U)    \n",
    "    \n",
    "    def eval_model_pgf(self, p_, g):\n",
    "        p = 10**p_\n",
    "        b, beta, gamma = p\n",
    "        fun = lambda x: self.burst_intfun(x, g, b, beta, gamma)\n",
    "        if self.quad_method == \"quad_vec\":\n",
    "            T = self.quad_vec_T * (1 / beta + 1 / gamma + 1)\n",
    "            gf = scipy.integrate.quad_vec(fun, 0, T)[0]\n",
    "        elif self.quad_method == \"fixed_quad\":\n",
    "            T = self.fixed_quad_T * (1 / beta + 1 / gamma + 1)\n",
    "            gf = scipy.integrate.fixed_quad(fun, 0, T, n=self.quad_order)[0]\n",
    "        else:\n",
    "            raise ValueError(\"Please use one of the specified quadrature methods.\")\n",
    "        return gf  # this is the log-generating function\n",
    "\n",
    "    def get_Pss(self, p, limits, samp=None):\n",
    "        u = []\n",
    "        mx = np.copy(limits)\n",
    "        mx[-1] = mx[-1] // 2 + 1\n",
    "        for i in range(len(mx)):\n",
    "            l = np.arange(mx[i])\n",
    "            u_ = np.exp(-2j * np.pi * l / limits[i]) - 1\n",
    "            u.append(u_)\n",
    "        g = np.meshgrid(*[u_ for u_ in u], indexing=\"ij\")\n",
    "        for i in range(len(mx)):\n",
    "            g[i] = g[i].flatten()\n",
    "        g = np.asarray(g)[:, :, None]\n",
    "\n",
    "        if self.seq_model == \"Bernoulli\":\n",
    "            g *= np.asarray(samp)[:, None, None]\n",
    "\n",
    "        gf = self.eval_model_pgf(p, g)\n",
    "        gf = np.exp(gf)\n",
    "        gf = gf.reshape(tuple(mx))\n",
    "        Pss = scipy.fft.irfftn(gf, s=tuple(limits))\n",
    "        Pss = np.abs(Pss) / np.sum(np.abs(Pss))\n",
    "        Pss = Pss.squeeze()\n",
    "        return Pss"
   ]
  },
  {
   "cell_type": "markdown",
   "id": "fbadf183",
   "metadata": {},
   "source": [
    "### Basic tests"
   ]
  },
  {
   "cell_type": "code",
   "execution_count": 44,
   "id": "25096736",
   "metadata": {},
   "outputs": [],
   "source": [
    "b=10\n",
    "beta = 1\n",
    "gamma = 0.4\n",
    "p = np.log10(np.asarray([b,beta,gamma]))\n",
    "samp = [0.4,0.2]\n",
    "mx = [50,1]\n",
    "x = np.arange(mx[0])"
   ]
  },
  {
   "cell_type": "code",
   "execution_count": 45,
   "id": "6c018d87",
   "metadata": {},
   "outputs": [
    {
     "data": {
      "text/plain": [
       "[<matplotlib.lines.Line2D at 0x7f494b3e5850>]"
      ]
     },
     "execution_count": 45,
     "metadata": {},
     "output_type": "execute_result"
    },
    {
     "data": {
      "image/png": "[encoded data removed]",
      "text/plain": [
       "<Figure size 432x288 with 1 Axes>"
      ]
     },
     "metadata": {
      "needs_background": "light"
     },
     "output_type": "display_data"
    }
   ],
   "source": [
    "burst_model = BurstModel('Bernoulli')\n",
    "Pss = burst_model.get_Pss(p,mx,samp)\n",
    "plt.plot(Pss)\n",
    "y = scipy.stats.nbinom.pmf(x,1/beta,1/(1+b*samp[0]))\n",
    "plt.plot(x,y,'--')"
   ]
  },
  {
   "cell_type": "code",
   "execution_count": null,
   "id": "9adb1d6f",
   "metadata": {},
   "outputs": [],
   "source": [
    "ratio_of_p = np"
   ]
  },
  {
   "cell_type": "code",
   "execution_count": null,
   "id": "a003122d",
   "metadata": {},
   "outputs": [],
   "source": []
  },
  {
   "cell_type": "code",
   "execution_count": null,
   "id": "0e1baac5",
   "metadata": {},
   "outputs": [],
   "source": []
  },
  {
   "cell_type": "markdown",
   "id": "231c470b",
   "metadata": {},
   "source": [
    "Somewhat obviously these distributions have different statistics.."
   ]
  },
  {
   "cell_type": "markdown",
   "id": "4e01c783",
   "metadata": {},
   "source": [
    "### Sampling and evaluation"
   ]
  },
  {
   "cell_type": "code",
   "execution_count": 36,
   "id": "1619abec",
   "metadata": {},
   "outputs": [],
   "source": [
    "def sample_from_p(num_data_points, Pss):\n",
    "    mx = Pss.shape\n",
    "    p_flat = Pss.flatten()\n",
    "    x_N, x_M = np.arange(mx[0]), np.arange(mx[1])\n",
    "    X_N, X_M = np.meshgrid(x_N, x_M, indexing='ij')    # get grid of possible values\n",
    "    x_choices = np.arange(np.prod(mx))                 # represent each grid point as a point in a 1D vector\n",
    "    \n",
    "    samples = np.random.choice(x_choices, size=num_data_points, replace=True, p=p_flat)\n",
    "    d_N, d_M = X_N.flatten()[samples], X_M.flatten()[samples]    \n",
    "    return d_N, d_M\n",
    "\n",
    "def get_logL_1d(d,x,y,K_avg,beta,xyfun,model,mx):\n",
    "    mx_eval = [mx[0],1]\n",
    "    pars = xyfun(x,y,K_avg,beta)\n",
    "    Pss = model.get_Pss(*pars,1,mx_eval)\n",
    "    Pss = Pss.squeeze()\n",
    "    logL = np.sum(np.log(Pss[d]))\n",
    "    return logL\n",
    "\n",
    "\n",
    "def get_logL_2d(d0,d1,x,y,K_avg,beta,gamma,xyfun,model,mx):\n",
    "    mx_eval = mx\n",
    "    pars = xyfun(x,y,K_avg,beta,gamma)\n",
    "    Pss = model.get_Pss(*pars,mx_eval)\n",
    "    Pss = Pss.squeeze()\n",
    "    logL = np.sum(np.log(Pss[d0,d1]))\n",
    "    return logL"
   ]
  },
  {
   "cell_type": "markdown",
   "id": "8d619616",
   "metadata": {},
   "source": [
    "# Parameter regimes"
   ]
  },
  {
   "cell_type": "code",
   "execution_count": 89,
   "id": "c505879f",
   "metadata": {},
   "outputs": [],
   "source": [
    "kappa = 0.1\n",
    "beta = 0.8 \n",
    "gamma = 0.9\n",
    "theta = 1\n",
    "a = 0.4\n",
    "mx = [50,51]"
   ]
  },
  {
   "cell_type": "code",
   "execution_count": 90,
   "id": "23835bf0",
   "metadata": {},
   "outputs": [],
   "source": [
    "gou_model = GOUModel()\n",
    "Pss_gou_true = gou_model.get_Pss(a,kappa,theta,beta,gamma,mx)\n"
   ]
  },
  {
   "cell_type": "code",
   "execution_count": 91,
   "id": "02b67f20",
   "metadata": {},
   "outputs": [],
   "source": [
    "xtrue1,ytrue1,K_avg,beta = encode_xy_sde_1d(a, kappa, theta,beta)\n",
    "xtrue2,ytrue2,K_avg,beta,gamma = encode_xy_sde_2d(a, kappa, theta,beta,gamma)"
   ]
  },
  {
   "cell_type": "code",
   "execution_count": 92,
   "id": "9175ab17",
   "metadata": {},
   "outputs": [],
   "source": [
    "nCells = 200\n",
    "nTrials = 50\n",
    "num_data_points = (nCells,nTrials)"
   ]
  },
  {
   "cell_type": "code",
   "execution_count": 93,
   "id": "fa2d52e8",
   "metadata": {},
   "outputs": [
    {
     "data": {
      "text/plain": [
       "4.0"
      ]
     },
     "execution_count": 93,
     "metadata": {},
     "output_type": "execute_result"
    }
   ],
   "source": [
    "K_avg"
   ]
  },
  {
   "cell_type": "code",
   "execution_count": 94,
   "id": "25c48231",
   "metadata": {},
   "outputs": [
    {
     "data": {
      "text/plain": [
       "[<matplotlib.lines.Line2D at 0x7efef85e3760>]"
      ]
     },
     "execution_count": 94,
     "metadata": {},
     "output_type": "execute_result"
    },
    {
     "data": {
      "image/png": "[encoded data removed]",
      "text/plain": [
       "<Figure size 432x288 with 1 Axes>"
      ]
     },
     "metadata": {
      "needs_background": "light"
     },
     "output_type": "display_data"
    }
   ],
   "source": [
    "plt.plot(Pss_gou_true.sum(0))\n",
    "plt.plot(Pss_gou_true.sum(1))"
   ]
  },
  {
   "cell_type": "code",
   "execution_count": 95,
   "id": "d034deb7",
   "metadata": {},
   "outputs": [],
   "source": [
    "data = sample_from_p(num_data_points,Pss_gou_true) #don't rerun this"
   ]
  },
  {
   "cell_type": "code",
   "execution_count": 96,
   "id": "51d77824",
   "metadata": {},
   "outputs": [],
   "source": [
    "nX = 14\n",
    "nY = 15\n",
    "x_ = np.linspace(0.01,0.99,nX)\n",
    "y_ = np.linspace(0.01,0.99,nY)\n",
    "X,Y = np.meshgrid(x_,y_,indexing='ij')\n",
    "logL_1d = np.zeros((nX,nY))\n",
    "logL_2d = np.zeros((nX,nY))"
   ]
  },
  {
   "cell_type": "code",
   "execution_count": 28,
   "id": "255b5df0",
   "metadata": {},
   "outputs": [],
   "source": [
    "\n",
    "for i,x in enumerate(x_):\n",
    "    for j,y in enumerate(y_):\n",
    "        logL_1d[i,j] = get_logL_1d(data[0][:,0],x,y,K_avg,beta,decode_xy_sde_1d,gou_model,mx)\n",
    "        logL_2d[i,j] = get_logL_2d(data[0][:,0],data[1][:,0],x,y,K_avg,beta,gamma,decode_xy_sde_2d,gou_model,mx)"
   ]
  },
  {
   "cell_type": "code",
   "execution_count": 50,
   "id": "edbf1a19",
   "metadata": {},
   "outputs": [],
   "source": [
    "# import pickle\n",
    "# with open('./data/gg230124_logLs.pickle', \"wb\") as logLfs:\n",
    "#     pickle.dump((logL_1d,logL_2d), logLfs)\n"
   ]
  },
  {
   "cell_type": "code",
   "execution_count": 97,
   "id": "2707f4db",
   "metadata": {},
   "outputs": [],
   "source": [
    "import pickle\n",
    "with open('./data/gg230124_logLs.pickle', \"rb\") as logLfs:\n",
    "    (logL_1d,logL_2d) = pickle.load( logLfs)\n"
   ]
  },
  {
   "cell_type": "code",
   "execution_count": 98,
   "id": "0f9ea2db",
   "metadata": {},
   "outputs": [],
   "source": [
    "from matplotlib.colors import ListedColormap,LinearSegmentedColormap\n",
    "\n",
    "# c1 = [0,0,0,0]\n",
    "# # c2 = [1,1,1,1]\n",
    "# c2 = [235/255,228/255,143/255,1]\n",
    "# ncol=2\n",
    "# cmap_highlight = ListedColormap(np.array([np.linspace(c2[j],c1[j],ncol) for j in range(4)]).T)\n",
    "colors = [(1,0,0,c) for c in np.linspace(0,1,100)]\n",
    "cmap_highlight = LinearSegmentedColormap.from_list('mycmap', colors, N=5)\n",
    "\n",
    "cmap_logl = 'cividis'\n",
    "# color_highlight = cmap_highlight\n",
    "fs = 12\n",
    "colors_transp = [(1,1,1,c) for c in np.linspace(1,1,100)]\n",
    "cmap_highlight = LinearSegmentedColormap.from_list('mycmap', colors_transp, N=5)\n",
    "regime_ms = 300\n",
    "\n",
    "dim_names = ('Timescale separation','Noise intensity')\n",
    "# dim_names = (r'$\\frac{\\kappa}{\\kappa + \\beta}$',r'$\\frac{\\theta}{\\theta + a}$')"
   ]
  },
  {
   "cell_type": "code",
   "execution_count": 99,
   "id": "1212c429",
   "metadata": {},
   "outputs": [],
   "source": [
    "from mpl_toolkits.axes_grid1 import make_axes_locatable\n"
   ]
  },
  {
   "cell_type": "code",
   "execution_count": 116,
   "id": "df2b4e3d",
   "metadata": {},
   "outputs": [
    {
     "data": {
      "image/png": "[encoded data removed]",
      "text/plain": [
       "<Figure size 1152x288 with 6 Axes>"
      ]
     },
     "metadata": {
      "needs_background": "light"
     },
     "output_type": "display_data"
    }
   ],
   "source": [
    "fig1,ax1 = plt.subplots(1,4,figsize=(16,4))\n",
    "vmin,vmax = (logL_1d.min(),logL_1d.max())\n",
    "ax1[0].pcolormesh(X,Y,(logL_1d),cmap=cmap_logl,vmin=vmin,vmax=vmax)\n",
    "q = np.quantile(logL_1d,0.9)\n",
    "ax1[0].pcolor(X,Y,np.ma.masked_array(logL_1d,logL_1d<q),\n",
    "              cmap=cmap_logl,\n",
    "              alpha=1,hatch='///',edgecolor='magenta',facecolor=None,linewidth=0,\n",
    "              vmin=vmin,vmax=vmax)\n",
    "# ax1[0].pcolormesh(X,Y,np.ma.masked_array(logL_1d,logL_1d<q),cmap=cmap_highlight,alpha=0.5)\n",
    "ax1[0].scatter(xtrue1,ytrue1,regime_ms,'r',edgecolors='k')\n",
    "\n",
    "xfalse1 = 0.9\n",
    "yfalse1 = ytrue1\n",
    "ax1[0].scatter(xfalse1,yfalse1,regime_ms,'b',edgecolors='k')\n",
    "ax1[0].set_title(r'$\\log L$ with one species',fontsize=fs)\n",
    "ax1[0].set_xlabel(dim_names[0],fontsize=fs)\n",
    "ax1[0].set_ylabel(dim_names[1],fontsize=fs)\n",
    "\n",
    "##################################\n",
    "xfalse2,yfalse2,K_avg,beta,gamma =  encode_xy_sde_2d(*decode_xy_sde_1d(xfalse1,yfalse1,K_avg,beta),gamma)\n",
    "\n",
    "vmin,vmax = (logL_2d.min(),logL_2d.max())\n",
    "mesh = ax1[1].pcolormesh(X,Y,(logL_2d),cmap=cmap_logl,vmin=vmin,vmax=vmax)\n",
    "q = np.quantile(logL_2d,0.9)\n",
    "ax1[1].pcolor(X,Y,np.ma.masked_array(logL_2d,logL_2d<q),\n",
    "              cmap=cmap_logl,\n",
    "              alpha=1,hatch='///',edgecolor='magenta',facecolor=None,linewidth=0,\n",
    "              vmin=vmin,vmax=vmax)\n",
    "ax1[1].scatter(xtrue2,ytrue2,regime_ms,'r',edgecolors='k')\n",
    "ax1[1].scatter(xfalse2,yfalse2,regime_ms,'b',edgecolors='k')\n",
    "ax1[1].set_title(r'$\\log L$ with two species',fontsize=fs)\n",
    "ax1[1].set_xlabel(dim_names[0],fontsize=fs)\n",
    "ax1[1].set_ylabel(dim_names[1],fontsize=fs)\n",
    "\n",
    "\n",
    "divider = make_axes_locatable(ax1[1])\n",
    "# cax = divider.append_axes('right', size='10%', pad=0.05)\n",
    "cax = divider.append_axes('right', size='5%', pad=0.05)\n",
    "# cax.plot([0,1],[1/3]*2,'w',linewidth=3)\n",
    "# cax.plot([0,1],[1/2]*2,'w',linewidth=3)\n",
    "fig1.colorbar(mesh,cax =cax)\n",
    "cax.set_ylabel(r'$\\log L$ relative to range',fontsize=fs)\n",
    "caxlims = np.asarray([logL_2d.min(),logL_2d.max()])\n",
    "# print([caxlims[0],caxlims.mean(), np.diff(caxlims)[0]*0.9+caxlims[0], caxlims[1]])\n",
    "dl = np.diff(caxlims)[0]\n",
    "cax.set_yticks([caxlims[0],caxlims.mean(), dl*0.9+caxlims[0], caxlims[1]],['0%','50%','90%','100%'])\n",
    "cax.add_patch(Rectangle((0, dl*0.9+caxlims[0]), 1, dl*0.1, fill=False, hatch='///',edgecolor='magenta'))\n",
    "\n",
    "# cax.plot(Pvals_true,xvals,'r')\n",
    "# cax.plot(Pvals_false,xvals,'b')\n",
    "# cax_mx = max(Pvals_false.max(),Pvals_true.max())\n",
    "# cax.set_xlim([0,cax_mx*1.5])\n",
    "# cax.invert_xaxis()\n",
    "# cax.set_xticks([])\n",
    "# cax.set_yticks(np.arange(0,21,5))\n",
    "# cax.set_ylabel('# nascent',fontsize=fs\n",
    "\n",
    "################################\n",
    "Pss_gou_false = gou_model.get_Pss(*decode_xy_sde_2d(xfalse2,yfalse2,K_avg,beta,gamma),mx)\n",
    "\n",
    "xvals = np.arange(mx[0])\n",
    "Pvals_true = Pss_gou_true.sum(1)\n",
    "Pvals_false = Pss_gou_false.sum(1)\n",
    "\n",
    "divider = make_axes_locatable(ax1[2])\n",
    "cax = divider.append_axes('left', size='10%', pad=0.05)\n",
    "\n",
    "cax.plot(Pvals_true,xvals,'r')\n",
    "cax.plot(Pvals_false,xvals,'b')\n",
    "cax_mx = max(Pvals_false.max(),Pvals_true.max())\n",
    "cax.set_xlim([0,cax_mx*1.5])\n",
    "cax.invert_xaxis()\n",
    "cax.set_xticks([])\n",
    "cax.set_yticks(np.arange(0,21,5))\n",
    "cax.set_ylabel('# nascent',fontsize=fs)\n",
    "\n",
    "\n",
    "ax1[2].imshow((Pss_gou_true),cmap='Reds',aspect='auto')\n",
    "ax1[2].invert_yaxis()\n",
    "ax1[2].set_yticks([])\n",
    "ax1[2].set_xlabel('# mature',fontsize=fs)\n",
    "ax1[2].set_title('Mixture-like regime',fontsize=fs)\n",
    "\n",
    "\n",
    "ax1[3].imshow((Pss_gou_false),cmap='Blues',aspect='auto')\n",
    "ax1[3].invert_yaxis()\n",
    "ax1[3].set_yticks([])\n",
    "ax1[3].set_xlabel('# mature',fontsize=fs)\n",
    "ax1[3].set_title('Burst-like regime',fontsize=fs)\n",
    "\n",
    "\n",
    "lims = [-0.5,20]\n",
    "ax1[2].set_xlim(lims)\n",
    "ax1[2].set_ylim(lims)\n",
    "ax1[3].set_xlim(lims)\n",
    "ax1[3].set_ylim(lims)\n",
    "cax.set_ylim(lims)\n",
    "\n",
    "fig1.tight_layout()\n",
    "plt.savefig('fig4b.png',dpi=450)\n",
    "plt.savefig('fig4b.pdf')"
   ]
  },
  {
   "cell_type": "markdown",
   "id": "72b633d9",
   "metadata": {},
   "source": [
    "# AIC"
   ]
  },
  {
   "cell_type": "code",
   "execution_count": 67,
   "id": "a2cf0eb5",
   "metadata": {},
   "outputs": [],
   "source": [
    "# kappa = 0.1\n",
    "beta = 0.8 \n",
    "gamma = 0.9\n",
    "# theta = 1\n",
    "# a = 0.4\n",
    "mx = [50,51]\n",
    "K_avg = 5"
   ]
  },
  {
   "cell_type": "code",
   "execution_count": 68,
   "id": "a3def76b",
   "metadata": {},
   "outputs": [],
   "source": [
    "import warnings\n",
    "warnings.filterwarnings(\"error\")\n"
   ]
  },
  {
   "cell_type": "code",
   "execution_count": 69,
   "id": "0bf69246",
   "metadata": {},
   "outputs": [],
   "source": [
    "nCells = 200\n",
    "nTrials = 50\n",
    "num_data_points = (nCells,nTrials)\n",
    "telegraph_model = TelegraphModel()\n",
    "gou_model = GOUModel()\n",
    "cir_model = CIRModel()\n",
    "model_names = (r'$\\Gamma$-OU','CIR','Telegraph')\n",
    "models = [gou_model, cir_model, telegraph_model]\n",
    "decode_fun_1d = [decode_xy_sde_1d,decode_xy_sde_1d,decode_xy_tele_1d]\n",
    "decode_fun_2d = [decode_xy_sde_2d,decode_xy_sde_2d,decode_xy_tele_2d]\n",
    "true_model = models[0]\n"
   ]
  },
  {
   "cell_type": "code",
   "execution_count": 70,
   "id": "3b9c62af",
   "metadata": {},
   "outputs": [],
   "source": [
    "nX = 14\n",
    "nY = 15\n",
    "x_ = np.linspace(0.01,0.99,nX)\n",
    "y_ = np.linspace(0.01,0.99,nY)\n",
    "nmod = 3\n",
    "Xaic,Yaic = np.meshgrid(x_,y_,indexing='ij')\n"
   ]
  },
  {
   "cell_type": "code",
   "execution_count": 37,
   "id": "06e7a346",
   "metadata": {},
   "outputs": [
    {
     "name": "stdout",
     "output_type": "stream",
     "text": [
      "0\n",
      "1\n",
      "2\n",
      "3\n",
      "4\n",
      "5\n",
      "6\n",
      "7\n",
      "8\n",
      "9\n",
      "10\n",
      "11\n",
      "12\n",
      "13\n"
     ]
    }
   ],
   "source": [
    "logL_1d_AIC = np.zeros((nX,nY,nmod,nTrials))\n",
    "logL_2d_AIC = np.zeros((nX,nY,nmod,nTrials))\n",
    "for i,x in enumerate(x_):\n",
    "    print(i)\n",
    "    for j,y in enumerate(y_):\n",
    "        Pss_true = true_model.get_Pss(*decode_xy_sde_2d(x,y,K_avg,beta,gamma),mx)\n",
    "        data = sample_from_p(num_data_points,Pss_true)\n",
    "        for k in range(nmod):\n",
    "            for trial in range(nTrials):\n",
    "                logL_1d_AIC[i,j,k,trial] = get_logL_1d(data[0][:,trial],x,y,K_avg,beta,decode_fun_1d[k],models[k],mx)                \n",
    "                logL_2d_AIC[i,j,k,trial] = get_logL_2d(data[0][:,trial],data[1][:,trial],x,y,K_avg,beta,gamma,decode_fun_2d[k],models[k],mx)"
   ]
  },
  {
   "cell_type": "code",
   "execution_count": 72,
   "id": "f3564a34",
   "metadata": {},
   "outputs": [],
   "source": [
    "import pickle"
   ]
  },
  {
   "cell_type": "code",
   "execution_count": 73,
   "id": "04855140",
   "metadata": {},
   "outputs": [],
   "source": [
    "# with open('./data/gg230125_aics.pickle', \"wb\") as aicfs:\n",
    "#     pickle.dump((logL_1d_AIC,logL_2d_AIC), aicfs)\n"
   ]
  },
  {
   "cell_type": "code",
   "execution_count": 74,
   "id": "01be1366",
   "metadata": {},
   "outputs": [],
   "source": [
    "with open('./data/gg230125_aics.pickle', \"rb\") as aicfs:\n",
    "    logL_1d_AIC,logL_2d_AIC  = pickle.load(aicfs)\n"
   ]
  },
  {
   "cell_type": "code",
   "execution_count": 75,
   "id": "cd01925a",
   "metadata": {},
   "outputs": [],
   "source": [
    "AIC_values = -2*logL_1d_AIC \n",
    "AICmin = np.amin(AIC_values,2)\n",
    "dAIC = AIC_values-AICmin[:,:,None,:]\n",
    "AIC = np.exp(-dAIC/2)\n",
    "AIC /= AIC.sum(2)[:,:,None,:]\n",
    "Z_1d = AIC[:,:,0,:].mean(-1)\n",
    "\n",
    "AIC_values = -2*logL_2d_AIC \n",
    "AICmin = np.amin(AIC_values,2)\n",
    "dAIC = AIC_values-AICmin[:,:,None,:]\n",
    "AIC = np.exp(-dAIC/2)\n",
    "AIC /= AIC.sum(2)[:,:,None,:]\n",
    "Z_2d = AIC[:,:,0,:].mean(-1)"
   ]
  },
  {
   "cell_type": "code",
   "execution_count": 83,
   "id": "670368fa",
   "metadata": {},
   "outputs": [],
   "source": [
    "from matplotlib import colors\n",
    "\n",
    "cmap_aic = 'plasma'\n",
    "fs = 12\n",
    "cmap = colors.ListedColormap(['white', 'magenta','blue'])\n",
    "bounds=[0,1/3,1/2,1]\n",
    "norm = colors.BoundaryNorm(bounds, cmap.N)\n",
    "\n",
    "model_colors = ['cadetblue','limegreen','goldenrod']\n",
    "regime_colors = ['darkolivegreen','deeppink']\n",
    "regime_ms = 300\n",
    "noise_ms = 100\n",
    "noise_color='darkgray'\n",
    "noiseline_colors = ['darkgray','dimgray']\n",
    "noiseline_width = [3,5]\n",
    "head_width=0.03\n",
    "import matplotlib.patheffects as pe\n",
    "from matplotlib.patches import Rectangle\n"
   ]
  },
  {
   "cell_type": "code",
   "execution_count": 77,
   "id": "c55cbe0c",
   "metadata": {},
   "outputs": [],
   "source": [
    "warnings.resetwarnings()\n"
   ]
  },
  {
   "cell_type": "code",
   "execution_count": 88,
   "id": "e8682a9b",
   "metadata": {},
   "outputs": [
    {
     "data": {
      "image/png": "[encoded data removed]",
      "text/plain": [
       "<Figure size 1152x288 with 5 Axes>"
      ]
     },
     "metadata": {
      "needs_background": "light"
     },
     "output_type": "display_data"
    }
   ],
   "source": [
    "fig1,ax1 = plt.subplots(1,4,figsize=(16,4))\n",
    "\n",
    "mesh = ax1[0].pcolormesh(Xaic,Yaic,Z_1d,cmap=cmap_aic,vmin=0,vmax=1)\n",
    "ax1[0].pcolor(Xaic,Yaic,np.ma.masked_array(Z_1d,Z_1d>1/2),\n",
    "              cmap=cmap_aic,\n",
    "              alpha=1,hatch='\\\\\\\\',edgecolor='black',facecolor=None,linewidth=0,\n",
    "              vmin=0,vmax=1)\n",
    "\n",
    "\n",
    "x1_1d = 0.4\n",
    "y1_1d = 0.9\n",
    "\n",
    "x2_1d = 0.9\n",
    "y2_1d = 0.8\n",
    "\n",
    "ax1[0].set_xlabel(dim_names[0],fontsize=fs)\n",
    "ax1[0].set_ylabel(dim_names[1],fontsize=fs)\n",
    "ax1[0].set_title('AIC weight with one species',fontsize=fs)\n",
    "################\n",
    "pars_1 = decode_xy_sde_1d(x1_1d,y1_1d,K_avg,beta)\n",
    "noise_corr_1 = []\n",
    "for p_val in [1,0.5,0.1,0.05]:\n",
    "    pars_new = np.copy(pars_1)\n",
    "    pars_new[2] *= p_val\n",
    "    x,y,_,_ = encode_xy_sde_1d(*pars_new)\n",
    "    noise_corr_1.append([x,y])\n",
    "noise_corr_1 = np.asarray(noise_corr_1)\n",
    "ax1[0].plot(noise_corr_1[:,0],noise_corr_1[:,1],'-',\n",
    "            linewidth=noiseline_width[0],color=noiseline_colors[0],\n",
    "            path_effects=[pe.Stroke(linewidth=noiseline_width[1], foreground=noiseline_colors[1]), pe.Normal()])\n",
    "ax1[0].arrow(noise_corr_1[-1,0],noise_corr_1[-1,1],0,-0.1,\n",
    "            head_width = head_width,\n",
    "            linewidth=noiseline_width[0],color=noiseline_colors[0],\n",
    "            path_effects=[pe.Stroke(linewidth=noiseline_width[1], foreground=noiseline_colors[1]), pe.Normal()])\n",
    "ax1[0].scatter(noise_corr_1[1:,0],noise_corr_1[1:,1],s=noise_ms,c='gray',edgecolors='k',zorder=1000)\n",
    "#########\n",
    "pars_2 = decode_xy_sde_1d(x2_1d,y2_1d,K_avg,beta)\n",
    "noise_corr_2 = []\n",
    "for p_val in [1,0.5,0.1,0.05]:\n",
    "    pars_new = np.copy(pars_2)\n",
    "    pars_new[2] *= p_val\n",
    "    x,y,_,_ = encode_xy_sde_1d(*pars_new)\n",
    "    noise_corr_2.append([x,y])\n",
    "noise_corr_2 = np.asarray(noise_corr_2)\n",
    "ax1[0].plot(noise_corr_2[:,0],noise_corr_2[:,1],'-',\n",
    "            linewidth=noiseline_width[0],color=noiseline_colors[0],\n",
    "            path_effects=[pe.Stroke(linewidth=noiseline_width[1], foreground=noiseline_colors[1]), pe.Normal()])\n",
    "ax1[0].arrow(noise_corr_2[-1,0],noise_corr_2[-1,1],0,-0.1,\n",
    "            head_width = head_width,\n",
    "            linewidth=noiseline_width[0],color=noiseline_colors[0],\n",
    "            path_effects=[pe.Stroke(linewidth=noiseline_width[1], foreground=noiseline_colors[1]), pe.Normal()])\n",
    "ax1[0].scatter(noise_corr_2[1:,0],noise_corr_2[1:,1],s=noise_ms,c='gray',edgecolors='k',zorder=1000)\n",
    "#########\n",
    "ax1[0].scatter(x1_1d,y1_1d,regime_ms,regime_colors[0],edgecolors='k',zorder=1000)\n",
    "ax1[0].scatter(x2_1d,y2_1d,regime_ms,regime_colors[1],edgecolors='k',zorder=1000)\n",
    "#########\n",
    "\n",
    "from mpl_toolkits.axes_grid1 import make_axes_locatable\n",
    "divider = make_axes_locatable(ax1[1])\n",
    "cax = divider.append_axes('right', size='5%', pad=0.05)\n",
    "cax.plot([0,1],[1/3]*2,'w',linewidth=3)\n",
    "cax.plot([0,1],[1/2]*2,'w',linewidth=3)\n",
    "fig1.colorbar(mesh,cax =cax)\n",
    "cax.add_patch(Rectangle((0, 0), 1, 1/2, fill=False, hatch='\\\\\\\\'))\n",
    "\n",
    "# ####################################\n",
    "\n",
    "ax1[1].set_title('AIC weight with two species',fontsize=fs)\n",
    "\n",
    "ax1[1].pcolormesh(Xaic,Yaic,Z_2d,cmap=cmap_aic,vmin=0,vmax=1)\n",
    "ax1[1].pcolor(Xaic,Yaic,np.ma.masked_array(Z_2d,Z_2d>1/2),\n",
    "              cmap=cmap_aic,\n",
    "              alpha=1,hatch='\\\\\\\\',edgecolor='black',facecolor=None,linewidth=0,\n",
    "              vmin=0,vmax=1)\n",
    "\n",
    "x1_2d,y1_2d,_,_,_ =  encode_xy_sde_2d(*decode_xy_sde_1d(x1_1d,y1_1d,K_avg,beta),gamma)\n",
    "x2_2d,y2_2d,_,_,_ =  encode_xy_sde_2d(*decode_xy_sde_1d(x2_1d,y2_1d,K_avg,beta),gamma)\n",
    "################\n",
    "pars_1 = decode_xy_sde_1d(x1_2d,y1_2d,K_avg,beta)\n",
    "noise_corr_1 = []\n",
    "for p_val in [1,0.5,0.1,0.05]:\n",
    "    pars_new = np.copy(pars_1)\n",
    "    pars_new[2] *= p_val\n",
    "    x,y,_,beta = encode_xy_sde_1d(*pars_new)\n",
    "    noise_corr_1.append([x,y])\n",
    "noise_corr_1 = np.asarray(noise_corr_1)\n",
    "ax1[1].plot(noise_corr_1[:,0],noise_corr_1[:,1],'-',\n",
    "            linewidth=noiseline_width[0],color=noiseline_colors[0],\n",
    "            path_effects=[pe.Stroke(linewidth=noiseline_width[1], foreground=noiseline_colors[1]), pe.Normal()])\n",
    "ax1[1].arrow(noise_corr_1[-1,0],noise_corr_1[-1,1],0,-0.1,\n",
    "            head_width = head_width,\n",
    "            linewidth=noiseline_width[0],color=noiseline_colors[0],\n",
    "            path_effects=[pe.Stroke(linewidth=noiseline_width[1], foreground=noiseline_colors[1]), pe.Normal()])\n",
    "ax1[1].scatter(noise_corr_1[1:,0],noise_corr_1[1:,1],s=noise_ms,c='gray',edgecolors='k',zorder=1000)\n",
    "#########\n",
    "pars_2 = decode_xy_sde_1d(x2_2d,y2_2d,K_avg,beta)\n",
    "noise_corr_2 = []\n",
    "for p_val in [1,0.5,0.1,0.05]:\n",
    "    pars_new = np.copy(pars_2)\n",
    "    pars_new[2] *= p_val\n",
    "    x,y,_,_ = encode_xy_sde_1d(*pars_new)\n",
    "    noise_corr_2.append([x,y])\n",
    "noise_corr_2 = np.asarray(noise_corr_2)\n",
    "ax1[1].plot(noise_corr_2[:,0],noise_corr_2[:,1],'-',\n",
    "            linewidth=noiseline_width[0],color=noiseline_colors[0],\n",
    "            path_effects=[pe.Stroke(linewidth=noiseline_width[1], foreground=noiseline_colors[1]), pe.Normal()])\n",
    "ax1[1].arrow(noise_corr_2[-1,0],noise_corr_2[-1,1],0,-0.1,\n",
    "            head_width = head_width,\n",
    "            linewidth=noiseline_width[0],color=noiseline_colors[0],\n",
    "            path_effects=[pe.Stroke(linewidth=noiseline_width[1], foreground=noiseline_colors[1]), pe.Normal()])\n",
    "ax1[1].scatter(noise_corr_2[1:,0],noise_corr_2[1:,1],s=noise_ms,c='gray',edgecolors='k',zorder=1000)\n",
    "#########\n",
    "ax1[1].scatter(x1_2d,y1_2d,regime_ms,regime_colors[0],edgecolors='k',zorder=1000)\n",
    "ax1[1].scatter(x2_2d,y2_2d,regime_ms,regime_colors[1],edgecolors='k',zorder=1000)\n",
    "#########\n",
    "\n",
    "ax1[1].set_xlabel(dim_names[0],fontsize=fs)\n",
    "ax1[1].set_ylabel(dim_names[1],fontsize=fs)\n",
    "# #####################################\n",
    "\n",
    "xvals = np.arange(mx[0])\n",
    "Pss_arr_1 = [models[k].get_Pss(*decode_fun_2d[k](x1_2d,y1_2d,K_avg,beta,gamma),[mx[0],1]) for  k in range(nmod)]\n",
    "for k in range(3):\n",
    "    ax1[2].plot(xvals,Pss_arr_1[k],label=model_names[k],linewidth=2,color=model_colors[k])\n",
    "ax1[2].legend(fontsize=fs)\n",
    "ax1[2].set_xlabel('# nascent',fontsize=fs)\n",
    "ax1[2].set_ylabel('Probability',fontsize=fs)\n",
    "ax1[2].set_title('Easily distinguishable bimodal regime',fontsize=fs,color=regime_colors[0])\n",
    "\n",
    "\n",
    "\n",
    "xvals = np.arange(mx[0])\n",
    "Pss_arr_2 = [models[k].get_Pss(*decode_fun_2d[k](x2_2d,y2_2d,K_avg,beta,gamma),[mx[0],1]) for  k in range(nmod)]\n",
    "for k in range(3):\n",
    "    ax1[3].plot(xvals,Pss_arr_2[k],linewidth=2,color=model_colors[k])\n",
    "ax1[3].set_xlabel('# nascent',fontsize=fs)\n",
    "ax1[3].set_ylabel('Probability',fontsize=fs)\n",
    "ax1[3].set_title('Poorly distinguishable bursty regime',fontsize=fs,color=regime_colors[1])\n",
    "\n",
    "fig1.tight_layout()\n",
    "plt.savefig('fig4c.png',dpi=450)\n",
    "plt.savefig('fig4c.pdf')"
   ]
  },
  {
   "cell_type": "code",
   "execution_count": null,
   "id": "c45ef8c4",
   "metadata": {},
   "outputs": [],
   "source": []
  }
 ],
 "metadata": {
  "kernelspec": {
   "display_name": "Python 3",
   "language": "python",
   "name": "python3"
  },
  "language_info": {
   "codemirror_mode": {
    "name": "ipython",
    "version": 3
   },
   "file_extension": ".py",
   "mimetype": "text/x-python",
   "name": "python",
   "nbconvert_exporter": "python",
   "pygments_lexer": "ipython3",
   "version": "3.9.1"
  }
 },
 "nbformat": 4,
 "nbformat_minor": 5
}
