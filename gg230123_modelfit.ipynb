{
 "cells": [
  {
   "cell_type": "code",
   "execution_count": 1,
   "id": "8ca96414",
   "metadata": {},
   "outputs": [],
   "source": [
    "import numpy as np\n",
    "from numpy import matlib\n",
    "import matplotlib.pyplot as plt\n",
    "import scipy\n"
   ]
  },
  {
   "cell_type": "markdown",
   "id": "ff2a970c",
   "metadata": {},
   "source": [
    "## Convenience functions"
   ]
  },
  {
   "cell_type": "markdown",
   "id": "b1f708bb",
   "metadata": {},
   "source": [
    "### Reduced parameters"
   ]
  },
  {
   "cell_type": "code",
   "execution_count": 102,
   "id": "4c560aa3",
   "metadata": {},
   "outputs": [],
   "source": [
    "def encode_xy_tele_1d(kon,koff,kinit,beta):\n",
    "    kappa = kon+koff\n",
    "    K_avg = kon*kinit/kappa\n",
    "    x = kappa/(kappa+beta)\n",
    "    y = kinit/(kinit+kon)\n",
    "    return x,y,K_avg,beta\n",
    "\n",
    "def encode_xy_sde_1d(a,kappa,theta,beta):\n",
    "    K_avg = a*theta/kappa\n",
    "    x = kappa/(kappa+beta)\n",
    "    y = theta/(theta+a)\n",
    "    return x,y,K_avg,beta\n",
    "\n",
    "def decode_xy_tele_1d(x, y, K_avg, beta):\n",
    "    kappa = (beta)*(x/(1-x))\n",
    "#     kappa = (beta + gamma)*(x/(1-x))\n",
    "    a_over_th = 1/y - 1\n",
    "    theta = np.sqrt(kappa*K_avg/a_over_th)\n",
    "    a = K_avg*kappa/theta\n",
    "    kon = a\n",
    "    theta = kinit\n",
    "    koff = kappa-kon\n",
    "    return kon,koff,kinit, beta\n",
    "def decode_xy_sde_1d(x, y, K_avg, beta):\n",
    "    kappa = (beta)*(x/(1-x))\n",
    "#     kappa = (beta + gamma)*(x/(1-x))\n",
    "    a_over_th = 1/y - 1\n",
    "    theta = np.sqrt(kappa*K_avg/a_over_th)\n",
    "    a = K_avg*kappa/theta\n",
    "    return a, kappa, theta, beta\n"
   ]
  },
  {
   "cell_type": "code",
   "execution_count": 295,
   "id": "8b6375e0",
   "metadata": {},
   "outputs": [],
   "source": [
    "def encode_xy_tele_2d(kon,koff,kinit,beta,gamma):\n",
    "    kappa = kon+koff\n",
    "    K_avg = kon*kinit/kappa\n",
    "    x = kappa/(kappa+beta)\n",
    "    y = kinit/(kinit+kon)\n",
    "    return x,y,K_avg,beta,gamma\n",
    "\n",
    "def encode_xy_sde_2d(a,kappa,theta,beta,gamma):\n",
    "    K_avg = a*theta/kappa\n",
    "    x = kappa/(kappa+beta)\n",
    "    y = theta/(theta+a)\n",
    "    return x,y,K_avg,beta,gamma\n",
    "\n",
    "def decode_xy_tele_2d(x,y,K_avg,beta,gamma):\n",
    "    kappa = (beta + gamma)*(x/(1-x))\n",
    "    a_over_th = 1/y - 1\n",
    "    theta = np.sqrt(kappa*K_avg/a_over_th)\n",
    "    a = K_avg*kappa/theta\n",
    "    kon = a\n",
    "    theta = kinit\n",
    "    koff = kappa-kon\n",
    "    return kon,koff,kinit,beta,gamma\n",
    "\n",
    "def decode_xy_sde_2d(x, y, K_avg, beta,gamma):\n",
    "    kappa = (beta + gamma)*(x/(1-x))\n",
    "    a_over_th = 1/y - 1\n",
    "    theta = np.sqrt(kappa*K_avg/a_over_th)\n",
    "    a = K_avg*kappa/theta\n",
    "    return a,kappa,theta,beta,gamma\n"
   ]
  },
  {
   "cell_type": "markdown",
   "id": "8db66bbf",
   "metadata": {},
   "source": [
    "### The switching model"
   ]
  },
  {
   "cell_type": "code",
   "execution_count": 6,
   "id": "799838f5",
   "metadata": {},
   "outputs": [],
   "source": [
    "class TelegraphModel():\n",
    "    \"\"\"\n",
    "    This collection of convenience functions is placed in its own class mostly to avoid function name conflicts.\n",
    "    The code is largely reused from \"Transient and delay chemical master equations\".\n",
    "    \"\"\"\n",
    "    def __init__(self):\n",
    "        pass\n",
    "    def setup(self,N,n,K_val,A_val,beta_val,gamma_val):\n",
    "        H = np.zeros((N,N))\n",
    "        for kv in K_val:\n",
    "            H[kv[0],kv[1]] = kv[2]\n",
    "        H -= np.diag(H.sum(1))\n",
    "\n",
    "        A = np.zeros((N,n))\n",
    "        for av in A_val:\n",
    "            A[av[0],av[1]-1] = av[2]\n",
    "\n",
    "        B = np.zeros((n,n))\n",
    "        for bv in beta_val:\n",
    "            B[bv[0]-1,bv[1]-1] = bv[2]\n",
    "        B -= np.diag(B.sum(1))\n",
    "        for gv in gamma_val:\n",
    "            B[gv[0]-1,gv[0]-1] -= gv[1]\n",
    "\n",
    "        Nspec = N+n\n",
    "        Nrxn = len(K_val) + len(A_val) + len(gamma_val) + len(beta_val)\n",
    "        Hss = scipy.linalg.null_space(H.T)\n",
    "        Hss /= Hss.sum()\n",
    "        Hss = Hss.squeeze()\n",
    "        return H,A,B,Hss\n",
    "\n",
    "    def get_g(self,limits):\n",
    "        u = []\n",
    "        mx = np.copy(limits)\n",
    "        mx[-1] = mx[-1] // 2 + 1\n",
    "\n",
    "        for i in range(len(mx)):\n",
    "            l = np.arange(mx[i])\n",
    "            u_ = np.exp(-2j*np.pi*l/limits[i])-1\n",
    "            u.append(u_)\n",
    "        g = np.meshgrid(*[u_ for u_ in u], indexing='ij')\n",
    "        for i in range(len(mx)):\n",
    "            g[i] = g[i].flatten()\n",
    "        return np.asarray(g).T,mx\n",
    "\n",
    "    def compute_coeff(self,L,V,Vinv,u,j=0):\n",
    "        n_u = u.shape[1]\n",
    "        a = np.asarray([(V@np.diag( Vinv @ u[:,i]))[j] for i in range(n_u)]).T\n",
    "        return a\n",
    "\n",
    "    def compute_eigs(self,C):\n",
    "        L,V = np.linalg.eig(C)\n",
    "        Vinv = np.linalg.inv(V)\n",
    "        return L,V,Vinv\n",
    "\n",
    "    def pss_wrapper(self,H,A,C,t,mx,n,N,initcond):\n",
    "        g,mx_red = self.get_g(mx)\n",
    "        L,V,Vinv = self.compute_eigs(C)\n",
    "        coeff = np.asarray([self.compute_coeff(L,V,Vinv,g.T,i) for i in range(n)])\n",
    "\n",
    "        if initcond[0][0]=='thermalized':\n",
    "            Hfin = scipy.linalg.null_space(H.T)\n",
    "            Hfin /= Hfin.sum()\n",
    "            w = Hfin.squeeze()\n",
    "        elif initcond[0][0]=='deterministic':\n",
    "            w = np.zeros(N)\n",
    "            w[initcond[0][1]] = 1\n",
    "        elif initcond[0][0]=='categorical':\n",
    "            w = initcond[0][1]\n",
    "        else:\n",
    "            raise ValueError('Not implemented')\n",
    "        w = np.asarray(w,dtype=np.complex128)\n",
    "\n",
    "        gf_initcond_prop = np.matlib.repmat(w,g.shape[0],1).astype(np.complex128)\n",
    "        gf = self.gfun_numerical(g,t,H,A,N,L,coeff,gf_initcond_prop)\n",
    "        gf = np.reshape(gf,np.concatenate((mx_red,[N])).astype(int))\n",
    "        Pss = scipy.fft.irfftn(gf,axes=[0,1],s=mx)\n",
    "        return Pss\n",
    "\n",
    "    def gfun_numerical(self,g,t,H,A,N,L,coeff,gf_initcond):\n",
    "        gf_ = np.zeros((g.shape[0],N),dtype=np.complex128)\n",
    "\n",
    "        for i in (range(g.shape[0])):\n",
    "            t0 = 0\n",
    "            y0 = gf_initcond[i]\n",
    "\n",
    "            Ufun = lambda x: np.asarray([self.ufun_generic(x,L,coef[:,i]) for coef in coeff])\n",
    "            intfun = lambda t,y: self.intfun_multi(t,y,H,A,Ufun)\n",
    "            res = scipy.integrate.solve_ivp(intfun,[t,t0],y0)\n",
    "            while res.status == 'running':\n",
    "                res.step()\n",
    "            gf_[i] = res.y[:,-1]\n",
    "        return gf_\n",
    "\n",
    "    def ufun_generic(self,x,L,coeff):\n",
    "        Ufun = (np.exp(L*x)@coeff)\n",
    "        return Ufun\n",
    "\n",
    "    def intfun_multi(self,t,y,H,A,Ufun):\n",
    "        dy = np.dot(H.T,y) + np.dot(A,Ufun(t))*y\n",
    "        return -dy\n",
    "\n",
    "    def get_Pss(self,kon,koff,kinit,beta,gamma,mx):\n",
    "        N = 2\n",
    "        K_val = [[0,1,kon],\n",
    "                 [1,0,koff]]\n",
    "\n",
    "        n = 2\n",
    "        A_val =[[1,1,kinit]]\n",
    "\n",
    "        gamma_val = [[2,gamma]]\n",
    "        beta_val = [[1,2,beta]]\n",
    "\n",
    "        initcond = [['thermalized'],\n",
    "                ['deterministic',0],\n",
    "                ['deterministic',0]]\n",
    "        t = 10/np.min([kon,koff,beta,gamma,kinit])\n",
    "        H,A,C,Hss = self.setup(N,n,K_val,A_val,beta_val,gamma_val)\n",
    "        Pss = self.pss_wrapper(H,A,C,t,mx,n,N,initcond)\n",
    "#         print(Pss.shape)\n",
    "        return Pss.sum(2)\n"
   ]
  },
  {
   "cell_type": "markdown",
   "id": "005e517c",
   "metadata": {},
   "source": [
    "### Gamma-OU"
   ]
  },
  {
   "cell_type": "code",
   "execution_count": 7,
   "id": "9e31f407",
   "metadata": {},
   "outputs": [],
   "source": [
    "class GOUModel():\n",
    "    \"\"\"\n",
    "    This collection of convenience functions is largely reused from \n",
    "    \"Interpretable and tractable models of transcriptional noise for the \n",
    "    rational design of single-molecule quantification experiments\".\n",
    "    \"\"\"\n",
    "    def __init__(self):\n",
    "        pass\n",
    "    def get_GOU_2sp(self,mx, params):\n",
    "        u = []\n",
    "        half = mx[:]\n",
    "        half[-1] = mx[-1]//2 + 1\n",
    "        for i in range(len(mx)):\n",
    "            l = np.arange(half[i])\n",
    "            u_ = np.exp(-2j*np.pi*l/mx[i])-1\n",
    "            u.append(u_)\n",
    "        g = np.meshgrid(*[u_ for u_ in u], indexing='ij')\n",
    "        for i in range(len(mx)):\n",
    "            g[i] = g[i].flatten()\n",
    "\n",
    "        # Get generating function\n",
    "        gf = self.get_gf_GOU_2sp_ODE(g[0], g[1], params)                    \n",
    "        gf = gf.reshape(tuple(half))\n",
    "\n",
    "        Pss = scipy.fft.irfftn(gf, s=mx)                        # Get Pss by inverse fast Fourier transform\n",
    "        Pss = np.abs(Pss)/np.sum(np.abs(Pss))           # Normalize\n",
    "        return Pss\n",
    "\n",
    "    def get_gf_GOU_2sp_ODE(self,g0, g1, params):\n",
    "        beta_0, beta_1, a, kappa, theta = params     # get parameters\n",
    "\n",
    "        c0 = (g0) + (beta_0/(beta_1 - beta_0))*(g1)       #  relevant linear combinations of g_i\n",
    "        c1 = - (beta_0/(beta_1 - beta_0))*(g1)   \n",
    "\n",
    "        min_fudge, max_fudge = 0.25, 10                                     # Determine integration time scale / length\n",
    "        dt = np.min([1/kappa, 1/theta, 1/a, 1/beta_0, 1/beta_1])*min_fudge\n",
    "        t_max = np.max([1/kappa, 1/theta, 1/a, 1/beta_0, 1/beta_1])*max_fudge\n",
    "        num_tsteps = int(np.ceil(t_max/dt))\n",
    "        t_array = np.linspace(0, t_max, num_tsteps+1)\n",
    "        t_array = t_array.reshape((1, num_tsteps + 1))\n",
    "\n",
    "        q = np.zeros((g0.shape[0], num_tsteps + 1), dtype=np.complex64)    # initialize array to store ODE\n",
    "        c0 = c0.reshape((c0.shape[0],1))\n",
    "        c1 = c1.reshape((c1.shape[0],1))\n",
    "        q0 = theta*c0*(np.exp(-beta_0*t_array) - np.exp(-kappa*t_array))/(kappa - beta_0) \n",
    "        q1 = theta*c1*(np.exp(-beta_1*t_array) - np.exp(-kappa*t_array))/(kappa - beta_1)\n",
    "        q = q0 + q1\n",
    "\n",
    "\n",
    "        integrand = q/(1-q)\n",
    "        integral = np.trapz(integrand, dx=dt, axis=1)     # integrate ODE solution\n",
    "        gf = np.exp( a*integral)               # get generating function\n",
    "        return gf\n",
    "    \n",
    "    def get_Pss(self,a,kappa,theta,beta,gamma,mx):\n",
    "        params = beta, gamma, a, kappa, theta\n",
    "        Pss = self.get_GOU_2sp(mx, params)\n",
    "        return Pss"
   ]
  },
  {
   "cell_type": "markdown",
   "id": "ae64a631",
   "metadata": {},
   "source": [
    "### CIR "
   ]
  },
  {
   "cell_type": "code",
   "execution_count": 8,
   "id": "505a8bf1",
   "metadata": {},
   "outputs": [],
   "source": [
    "class CIRModel():\n",
    "    \"\"\"\n",
    "    This collection of convenience functions is largely reused from \n",
    "    \"Interpretable and tractable models of transcriptional noise for the \n",
    "    rational design of single-molecule quantification experiments\".\n",
    "    \"\"\"\n",
    "    def __init__(self):\n",
    "        pass\n",
    "    # ODE for 2 species CIR model\n",
    "    def f_2sp(self,q, t, c0, c1, params):\n",
    "        beta_0, beta_1, a, kappa, theta = params\n",
    "        result = - kappa*q + theta*q*q + kappa*( c0*np.exp(-beta_0*t) + c1*np.exp(-beta_1*t)  ) \n",
    "        return result\n",
    "\n",
    "\n",
    "    # Vectorized RK4 implementation for 2 species CIR model\n",
    "    def RK4_2sp(self,q, f, t, c0, c1, step_size, param):\n",
    "        j1 = f(q, t, c0, c1, param)\n",
    "        j2 = f(q + (step_size/2)*j1, t + (step_size/2), c0, c1, param)   \n",
    "        j3 = f(q + (step_size/2)*j2, t + (step_size/2), c0, c1, param)   \n",
    "        j4 = f(q + (step_size)*j3, t + (step_size), c0, c1, param)  \n",
    "\n",
    "        q_new = q + (step_size/6)*(j1 + 2*j2 + 2*j3 + j4)\n",
    "        return q_new\n",
    "\n",
    "\n",
    "    # Get 2 species CIR generating function using ODE method\n",
    "    def get_gf_CIR_2sp(self,g0, g1, params):\n",
    "        beta_0, beta_1, a, kappa, theta = params     # get parameters\n",
    "\n",
    "        c0 = (g0) + (beta_0/(beta_1 - beta_0))*(g1)       #  relevant linear combinations of g_i\n",
    "        c1 = - (beta_0/(beta_1 - beta_0))*(g1)   \n",
    "\n",
    "        min_fudge, max_fudge = 0.25, 10                                     # Determine integration time scale / length\n",
    "        dt = np.min([1/kappa, 1/theta, 1/a, 1/beta_0, 1/beta_1])*min_fudge\n",
    "        t_max = np.max([1/kappa, 1/theta, 1/a, 1/beta_0, 1/beta_1])*max_fudge\n",
    "        num_tsteps = int(np.ceil(t_max/dt))\n",
    "\n",
    "        q = np.zeros((g0.shape[0], num_tsteps + 1), dtype=np.complex64)    # initialize array to store ODE\n",
    "\n",
    "        # Solve ODE using RK4 method \n",
    "        for i in range(0, num_tsteps):\n",
    "            t = i*dt\n",
    "            q[:,i+1] = self.RK4_2sp(q[:,i], self.f_2sp, t, c0, c1, dt, params)\n",
    "\n",
    "        integral = np.trapz(q, dx=dt, axis=1)     # integrate ODE solution\n",
    "        gf = np.exp((a*theta/kappa)*integral)               # get generating function\n",
    "        return gf\n",
    "\n",
    "\n",
    "    # Get Pss for 2 species CIR model via ODE method\n",
    "    def get_CIR_2sp(self,mx,params):\n",
    "        # Get generating function argument\n",
    "        u = []\n",
    "        half = mx[:]\n",
    "        half[-1] = mx[-1]//2 + 1\n",
    "        for i in range(len(mx)):\n",
    "            l = np.arange(half[i])\n",
    "            u_ = np.exp(-2j*np.pi*l/mx[i])-1\n",
    "            u.append(u_)\n",
    "        g = np.meshgrid(*[u_ for u_ in u], indexing='ij')\n",
    "        for i in range(len(mx)):\n",
    "            g[i] = g[i].flatten()\n",
    "\n",
    "        # Get generating function\n",
    "        gf = self.get_gf_CIR_2sp(g[0], g[1], params)                    \n",
    "        gf = gf.reshape(tuple(half))\n",
    "\n",
    "        Pss = scipy.fft.irfftn(gf, s=mx)                        # Get Pss by inverse fast Fourier transform\n",
    "        Pss = np.abs(Pss)/np.sum(np.abs(Pss))           # Normalize\n",
    "        return Pss\n",
    "\n",
    "    def get_Pss(self,a,kappa,theta,beta,gamma,mx):\n",
    "        params = beta, gamma, a, kappa, theta\n",
    "        Pss = self.get_CIR_2sp(mx, params)\n",
    "        return Pss"
   ]
  },
  {
   "cell_type": "markdown",
   "id": "832ee6f8",
   "metadata": {},
   "source": [
    "### Basic tests"
   ]
  },
  {
   "cell_type": "code",
   "execution_count": 62,
   "id": "854f4531",
   "metadata": {},
   "outputs": [],
   "source": [
    "kon = 0.2\n",
    "koff = 1.1\n",
    "kinit = 10\n",
    "beta = 1.2\n",
    "gamma = 0.7\n",
    "mx = [50,1]\n",
    "x = np.arange(mx[0])"
   ]
  },
  {
   "cell_type": "code",
   "execution_count": 63,
   "id": "de5ad8dd",
   "metadata": {},
   "outputs": [],
   "source": [
    "kappa = kon+koff\n",
    "a = kon\n",
    "theta = kinit"
   ]
  },
  {
   "cell_type": "code",
   "execution_count": 64,
   "id": "73048487",
   "metadata": {},
   "outputs": [],
   "source": [
    "telegraph_model = TelegraphModel()\n",
    "Pss_tele = telegraph_model.get_Pss(kon,koff,kinit,beta,gamma,mx)\n",
    "gou_model = GOUModel()\n",
    "Pss_gou = gou_model.get_Pss(a,kappa,theta,beta,gamma,mx)\n",
    "cir_model = CIRModel()\n",
    "Pss_cir = cir_model.get_Pss(a,kappa,theta,beta,gamma,mx)"
   ]
  },
  {
   "cell_type": "code",
   "execution_count": 65,
   "id": "54a1ba73",
   "metadata": {},
   "outputs": [
    {
     "data": {
      "text/plain": [
       "[<matplotlib.lines.Line2D at 0x7f4c5c087f40>]"
      ]
     },
     "execution_count": 65,
     "metadata": {},
     "output_type": "execute_result"
    },
    {
     "data": {
      "image/png": "[encoded data removed]",
      "text/plain": [
       "<Figure size 432x288 with 1 Axes>"
      ]
     },
     "metadata": {
      "needs_background": "light"
     },
     "output_type": "display_data"
    }
   ],
   "source": [
    "plt.plot(Pss_tele)\n",
    "plt.plot(Pss_gou)\n",
    "plt.plot(Pss_cir)"
   ]
  },
  {
   "cell_type": "code",
   "execution_count": 66,
   "id": "23d6517c",
   "metadata": {},
   "outputs": [
    {
     "name": "stdout",
     "output_type": "stream",
     "text": [
      "1.2821620194235468\n",
      "1.2819363588611037\n",
      "1.2815231155669835\n"
     ]
    }
   ],
   "source": [
    "print((Pss_tele.sum(1)*x).sum())\n",
    "print((Pss_gou.sum(1)*x).sum())\n",
    "print((Pss_cir.sum(1)*x).sum())\n"
   ]
  },
  {
   "cell_type": "code",
   "execution_count": 67,
   "id": "ee7f125e",
   "metadata": {},
   "outputs": [
    {
     "name": "stdout",
     "output_type": "stream",
     "text": [
      "5.644168303375134\n",
      "6.40957606706649\n",
      "6.3856863614744865\n"
     ]
    }
   ],
   "source": [
    "print((Pss_tele.sum(1)*x**2).sum() - (Pss_tele.sum(1)*x).sum()**2)\n",
    "print((Pss_gou.sum(1)*x**2).sum() - (Pss_gou.sum(1)*x).sum()**2)\n",
    "print((Pss_cir.sum(1)*x**2).sum() - (Pss_cir.sum(1)*x).sum()**2)\n"
   ]
  },
  {
   "cell_type": "markdown",
   "id": "85a44244",
   "metadata": {},
   "source": [
    "Somewhat obviously these distributions have different statistics.."
   ]
  },
  {
   "cell_type": "markdown",
   "id": "fce40c8c",
   "metadata": {},
   "source": [
    "### Sampling and evaluation"
   ]
  },
  {
   "cell_type": "code",
   "execution_count": 373,
   "id": "90138332",
   "metadata": {},
   "outputs": [],
   "source": [
    "def sample_from_p(num_data_points, Pss):\n",
    "    mx = Pss.shape\n",
    "    p_flat = Pss.flatten()\n",
    "    x_N, x_M = np.arange(mx[0]), np.arange(mx[1])\n",
    "    X_N, X_M = np.meshgrid(x_N, x_M, indexing='ij')    # get grid of possible values\n",
    "    x_choices = np.arange(np.prod(mx))                 # represent each grid point as a point in a 1D vector\n",
    "    \n",
    "    samples = np.random.choice(x_choices, size=num_data_points, replace=True, p=p_flat)\n",
    "    d_N, d_M = X_N.flatten()[samples], X_M.flatten()[samples]    \n",
    "    return d_N, d_M\n",
    "\n",
    "def get_logL_1d(d,x,y,K_avg,beta,xyfun,model,mx):\n",
    "    mx_eval = [mx[0],1]\n",
    "    pars = xyfun(x,y,K_avg,beta)\n",
    "    Pss = model.get_Pss(*pars,1,mx_eval)\n",
    "    Pss = Pss.squeeze()\n",
    "    logL = np.sum(np.log(Pss[d]))\n",
    "    return logL\n",
    "\n",
    "\n",
    "def get_logL_2d(d0,d1,x,y,K_avg,beta,gamma,xyfun,model,mx):\n",
    "    mx_eval = mx\n",
    "    pars = xyfun(x,y,K_avg,beta,gamma)\n",
    "    Pss = model.get_Pss(*pars,mx_eval)\n",
    "    Pss = Pss.squeeze()\n",
    "    logL = np.sum(np.log(Pss[d0,d1]))\n",
    "    return logL"
   ]
  },
  {
   "cell_type": "code",
   "execution_count": 374,
   "id": "fecb9902",
   "metadata": {},
   "outputs": [],
   "source": [
    "kappa = 0.1\n",
    "beta = 0.8 \n",
    "gamma = 0.9\n",
    "theta = 1\n",
    "a = 0.4\n",
    "mx = [50,51]"
   ]
  },
  {
   "cell_type": "code",
   "execution_count": 375,
   "id": "c1f2f7c9",
   "metadata": {},
   "outputs": [],
   "source": [
    "gou_model = GOUModel()\n",
    "Pss_gou_true = gou_model.get_Pss(a,kappa,theta,beta,gamma,mx)\n"
   ]
  },
  {
   "cell_type": "code",
   "execution_count": 376,
   "id": "d3e262a0",
   "metadata": {},
   "outputs": [],
   "source": [
    "xtrue1,ytrue1,K_avg,beta = encode_xy_sde_1d(a, kappa, theta,beta)\n",
    "xtrue2,ytrue2,K_avg,beta,gamma = encode_xy_sde_2d(a, kappa, theta,beta,gamma)"
   ]
  },
  {
   "cell_type": "code",
   "execution_count": 377,
   "id": "9bfe7eb6",
   "metadata": {},
   "outputs": [],
   "source": [
    "nCells = 200\n",
    "nTrials = 50\n",
    "num_data_points = (nCells,nTrials)"
   ]
  },
  {
   "cell_type": "code",
   "execution_count": 378,
   "id": "01b25d47",
   "metadata": {},
   "outputs": [
    {
     "data": {
      "text/plain": [
       "4.0"
      ]
     },
     "execution_count": 378,
     "metadata": {},
     "output_type": "execute_result"
    }
   ],
   "source": [
    "K_avg"
   ]
  },
  {
   "cell_type": "code",
   "execution_count": 379,
   "id": "17490b96",
   "metadata": {},
   "outputs": [
    {
     "data": {
      "text/plain": [
       "[<matplotlib.lines.Line2D at 0x7f4c5784d9d0>]"
      ]
     },
     "execution_count": 379,
     "metadata": {},
     "output_type": "execute_result"
    },
    {
     "data": {
      "image/png": "[encoded data removed]",
      "text/plain": [
       "<Figure size 432x288 with 1 Axes>"
      ]
     },
     "metadata": {
      "needs_background": "light"
     },
     "output_type": "display_data"
    }
   ],
   "source": [
    "plt.plot(Pss_gou_true.sum(0))\n",
    "plt.plot(Pss_gou_true.sum(1))"
   ]
  },
  {
   "cell_type": "code",
   "execution_count": 380,
   "id": "b9d543e8",
   "metadata": {},
   "outputs": [],
   "source": [
    "data = sample_from_p(num_data_points,Pss_gou_true)"
   ]
  },
  {
   "cell_type": "code",
   "execution_count": 381,
   "id": "b8f5fa60",
   "metadata": {},
   "outputs": [
    {
     "data": {
      "text/plain": [
       "(50, 51)"
      ]
     },
     "execution_count": 381,
     "metadata": {},
     "output_type": "execute_result"
    }
   ],
   "source": [
    "Pss_gou_true.shape"
   ]
  },
  {
   "cell_type": "code",
   "execution_count": null,
   "id": "2374a9ae",
   "metadata": {},
   "outputs": [],
   "source": []
  },
  {
   "cell_type": "code",
   "execution_count": 382,
   "id": "617d9eb1",
   "metadata": {},
   "outputs": [],
   "source": [
    "# decode_xy_sde_2d(x,y,K_avg,beta,gamma)"
   ]
  },
  {
   "cell_type": "code",
   "execution_count": 383,
   "id": "18d02497",
   "metadata": {},
   "outputs": [],
   "source": [
    "# mx_eval = mx\n",
    "# pars = decode_xy_sde_2d(x,y,K_avg,beta,gamma)\n",
    "# Pss = gou_model.get_Pss(*pars,mx_eval)\n",
    "# Pss = Pss.squeeze()\n"
   ]
  },
  {
   "cell_type": "code",
   "execution_count": 371,
   "id": "d0b40c6a",
   "metadata": {},
   "outputs": [
    {
     "data": {
      "text/plain": [
       "(200,)"
      ]
     },
     "execution_count": 371,
     "metadata": {},
     "output_type": "execute_result"
    }
   ],
   "source": [
    "# Pss[data[0][:,0],data[1][:,1]].shape"
   ]
  },
  {
   "cell_type": "code",
   "execution_count": 384,
   "id": "50b241b1",
   "metadata": {},
   "outputs": [],
   "source": [
    "# logL = np.sum(np.log(Pss[d0][:,d1]))\n"
   ]
  },
  {
   "cell_type": "code",
   "execution_count": 385,
   "id": "f20bf5b8",
   "metadata": {},
   "outputs": [],
   "source": [
    "# get_logL_1d(data[0][:,0],x,y,K_avg,beta,decode_xy_sde_1d,gou_model,mx)"
   ]
  },
  {
   "cell_type": "code",
   "execution_count": 386,
   "id": "456c5ee4",
   "metadata": {},
   "outputs": [],
   "source": [
    "# get_logL_2d(data[0][:,0],data[1][:,0],x,y,K_avg,beta,gamma,decode_xy_sde_2d,gou_model,mx)"
   ]
  },
  {
   "cell_type": "code",
   "execution_count": 399,
   "id": "7ac7d2db",
   "metadata": {},
   "outputs": [],
   "source": [
    "nX = 14\n",
    "nY = 15\n",
    "x_ = np.linspace(0.01,0.99,nX)\n",
    "y_ = np.linspace(0.01,0.99,nY)\n",
    "X,Y = np.meshgrid(x_,y_,indexing='ij')\n",
    "logL_1d = np.zeros((nX,nY))\n",
    "logL_2d = np.zeros((nX,nY))\n",
    "for i,x in enumerate(x_):\n",
    "    for j,y in enumerate(y_):\n",
    "        logL_1d[i,j] = get_logL_1d(data[0][:,0],x,y,K_avg,beta,decode_xy_sde_1d,gou_model,mx)\n",
    "        logL_2d[i,j] = get_logL_2d(data[0][:,0],data[1][:,0],x,y,K_avg,beta,gamma,decode_xy_sde_2d,gou_model,mx)"
   ]
  },
  {
   "cell_type": "code",
   "execution_count": 468,
   "id": "32d9f0db",
   "metadata": {},
   "outputs": [],
   "source": [
    "# from matplotlib.colors import ListedColormap,LinearSegmentedColormap\n",
    "\n",
    "# c1 = [0,0,0,0]\n",
    "# # c2 = [1,1,1,1]\n",
    "# c2 = [235/255,228/255,143/255,1]\n",
    "# ncol=2\n",
    "# cmap_highlight = ListedColormap(np.array([np.linspace(c2[j],c1[j],ncol) for j in range(4)]).T)\n",
    "colors = [(1,0,0,c) for c in np.linspace(0,1,100)]\n",
    "cmap_highlight = LinearSegmentedColormap.from_list('mycmap', colors, N=5)\n",
    "\n",
    "cmap_logl = 'cividis'\n",
    "# color_highlight = cmap_highlight\n",
    "fs = 12"
   ]
  },
  {
   "cell_type": "code",
   "execution_count": 479,
   "id": "d0bfd29f",
   "metadata": {},
   "outputs": [
    {
     "data": {
      "image/png": "[encoded data removed]",
      "text/plain": [
       "<Figure size 1152x288 with 5 Axes>"
      ]
     },
     "metadata": {
      "needs_background": "light"
     },
     "output_type": "display_data"
    }
   ],
   "source": [
    "fig1,ax1 = plt.subplots(1,5,figsize=(16,4),gridspec_kw={'width_ratios': [1,1,0.2,0.9,0.9]})\n",
    "\n",
    "ax1[0].pcolormesh(X,Y,(logL_1d),cmap=cmap_logl)\n",
    "q = np.quantile(logL_1d,0.9)\n",
    "ax1[0].pcolormesh(X,Y,np.ma.masked_array(logL_1d,logL_1d<q),cmap=cmap_highlight,alpha=0.5)\n",
    "ax1[0].scatter(xtrue1,ytrue1,120,'r',edgecolors='k')\n",
    "\n",
    "xfalse1 = 0.9\n",
    "yfalse1 = ytrue1\n",
    "ax1[0].scatter(xfalse1,yfalse1,120,'b',edgecolors='k')\n",
    "ax1[0].set_title(r'$\\log L$ with one species',fontsize=fs)\n",
    "ax1[0].set_xlabel(r'$\\frac{\\kappa}{\\kappa + \\beta}$',fontsize=fs)\n",
    "ax1[0].set_ylabel(r'$\\frac{\\theta}{\\theta + a}$',fontsize=fs)\n",
    "\n",
    "\n",
    "ax1[1].pcolormesh(X,Y,(logL_2d),cmap=cmap_logl)\n",
    "q = np.quantile(logL_2d,0.9)\n",
    "ax1[1].pcolormesh(X,Y,np.ma.masked_array(logL_2d,logL_2d<q),cmap=cmap_highlight,alpha=0.5)\n",
    "ax1[1].scatter(xtrue2,ytrue2,120,'r',edgecolors='k')\n",
    "ax1[1].scatter(xfalse1,yfalse1,120,'b',edgecolors='k')\n",
    "ax1[1].set_title(r'$\\log L$ with one species',fontsize=fs)\n",
    "ax1[1].set_xlabel(r'$\\frac{\\kappa}{\\kappa + \\beta + \\gamma}$',fontsize=fs)\n",
    "ax1[1].set_ylabel(r'$\\frac{\\theta}{\\theta + a}$',fontsize=fs)\n",
    "\n",
    "Pss_gou_false = gou_model.get_Pss(*decode_xy_sde_2d(xfalse1,yfalse1,K_avg,beta,gamma),mx)\n",
    "\n",
    "xvals = np.arange(mx[0])\n",
    "Pvals_true = Pss_gou_true.sum(1)\n",
    "Pvals_false = Pss_gou_false.sum(1)\n",
    "\n",
    "ax1[2].plot(Pvals_true,xvals,'r')\n",
    "ax1[2].plot(Pvals_false,xvals,'b')\n",
    "# ax1[2].set_ylim([xvals[0]-0.5,xvals[-1]+0.5])\n",
    "ax1[2].invert_xaxis()\n",
    "ax1[2].set_xticks([])\n",
    "ax1[2].set_ylabel('# nascent',fontsize=fs)\n",
    "\n",
    "\n",
    "ax1[3].imshow((Pss_gou_true),cmap='Reds',aspect='auto')\n",
    "ax1[3].invert_yaxis()\n",
    "ax1[3].set_yticks([])\n",
    "ax1[3].set_xlabel('# mature',fontsize=fs)\n",
    "ax1[3].set_title('Mixture-like regime',fontsize=fs)\n",
    "\n",
    "\n",
    "ax1[4].imshow((Pss_gou_false),cmap='Blues',aspect='auto')\n",
    "ax1[4].invert_yaxis()\n",
    "ax1[4].set_yticks([])\n",
    "ax1[4].set_xlabel('# mature',fontsize=fs)\n",
    "ax1[4].set_title('Burst-like regime',fontsize=fs)\n",
    "\n",
    "\n",
    "lims = [-0.5,20]\n",
    "ax1[2].set_ylim(lims)\n",
    "ax1[3].set_ylim(lims)\n",
    "ax1[4].set_ylim(lims)\n",
    "ax1[3].set_xlim(lims)\n",
    "ax1[4].set_xlim(lims)\n",
    "\n",
    "fig1.tight_layout()\n"
   ]
  },
  {
   "cell_type": "code",
   "execution_count": 455,
   "id": "3a461290",
   "metadata": {},
   "outputs": [
    {
     "data": {
      "text/plain": [
       "(10, 15)"
      ]
     },
     "execution_count": 455,
     "metadata": {},
     "output_type": "execute_result"
    }
   ],
   "source": [
    "Pss_gou_false.shape"
   ]
  },
  {
   "cell_type": "code",
   "execution_count": null,
   "id": "8e3666d4",
   "metadata": {},
   "outputs": [],
   "source": []
  }
 ],
 "metadata": {
  "kernelspec": {
   "display_name": "Python 3",
   "language": "python",
   "name": "python3"
  },
  "language_info": {
   "codemirror_mode": {
    "name": "ipython",
    "version": 3
   },
   "file_extension": ".py",
   "mimetype": "text/x-python",
   "name": "python",
   "nbconvert_exporter": "python",
   "pygments_lexer": "ipython3",
   "version": "3.9.1"
  }
 },
 "nbformat": 4,
 "nbformat_minor": 5
}
