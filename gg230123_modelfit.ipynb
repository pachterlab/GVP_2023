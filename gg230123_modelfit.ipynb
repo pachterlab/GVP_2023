{
 "cells": [
  {
   "cell_type": "code",
   "execution_count": 1,
   "id": "8ca96414",
   "metadata": {},
   "outputs": [],
   "source": [
    "import numpy as np\n",
    "from numpy import matlib\n",
    "import matplotlib.pyplot as plt\n",
    "import scipy\n"
   ]
  },
  {
   "cell_type": "markdown",
   "id": "ff2a970c",
   "metadata": {},
   "source": [
    "## Convenience functions"
   ]
  },
  {
   "cell_type": "markdown",
   "id": "baf660c3",
   "metadata": {},
   "source": [
    "Usually we can assume the arrival rate $a$ is unity."
   ]
  },
  {
   "cell_type": "code",
   "execution_count": 2,
   "id": "3c07d7ba",
   "metadata": {},
   "outputs": [],
   "source": [
    "def decode_xy_tele_1d(x, y, mu_N, kon=1):\n",
    "    theta = kon*x/(1-x)\n",
    "    B = kon*theta/mu_N\n",
    "    koff = -np.sqrt((y-1)**2 *kon**2 - 4*B*(y-1)*y)/(2*(y-1))-kon/2\n",
    "    kappa = kon+koff\n",
    "    alpha = theta*kappa/koff\n",
    "    beta = B/koff\n",
    "    return kon,koff,alpha,beta\n",
    "def encode_xy_tele_1d(kon,koff,alpha,beta):\n",
    "    kappa = kon+koff\n",
    "    theta = koff*alpha/kappa\n",
    "    mu_K = kon*alpha/kappa\n",
    "    mu_N = mu_K/beta\n",
    "    x = theta/(theta+kon)\n",
    "    y = kappa/(kappa+beta)\n",
    "    return x,y,mu_N,kon"
   ]
  },
  {
   "cell_type": "code",
   "execution_count": 3,
   "id": "52ba9d75",
   "metadata": {},
   "outputs": [],
   "source": [
    "def decode_xy_sde_1d(x, y, mu_N, a = 1):\n",
    "    kon,koff,alpha,beta = decode_xy_tele_1d(x, y, mu_N, a)\n",
    "    kappa = kon+koff\n",
    "#     print(kappa)\n",
    "    theta = koff*alpha/kappa\n",
    "    B = kon*theta/mu_N\n",
    "#     beta = B/koff\n",
    "    return a, kappa, theta, beta\n",
    "\n",
    "def encode_xy_sde_1d(a, kappa, theta,beta):\n",
    "    mu_K = a*theta/kappa\n",
    "    mu_N = mu_K/beta\n",
    "    x = theta/(theta+a)\n",
    "    y = kappa/(beta+kappa)\n",
    "    return x,y,mu_N,a"
   ]
  },
  {
   "cell_type": "code",
   "execution_count": 4,
   "id": "6712a0a4",
   "metadata": {},
   "outputs": [],
   "source": [
    "a = 1\n",
    "kappa = 2\n",
    "theta = 10\n",
    "beta = 0.1"
   ]
  },
  {
   "cell_type": "code",
   "execution_count": 5,
   "id": "420acc6f",
   "metadata": {},
   "outputs": [
    {
     "data": {
      "text/plain": [
       "(1, 2.561552812808829, 9.999999999999996, 0.12807764064044158)"
      ]
     },
     "execution_count": 5,
     "metadata": {},
     "output_type": "execute_result"
    }
   ],
   "source": [
    "decode_xy_sde_1d(*encode_xy_sde_1d(a, kappa, theta,beta))"
   ]
  },
  {
   "cell_type": "code",
   "execution_count": 6,
   "id": "ba22e21d",
   "metadata": {},
   "outputs": [
    {
     "data": {
      "text/plain": [
       "(0.9090909090909091, 0.9523809523809523, 50.0, 1)"
      ]
     },
     "execution_count": 6,
     "metadata": {},
     "output_type": "execute_result"
    }
   ],
   "source": [
    "encode_xy_sde_1d(a, kappa, theta,beta)"
   ]
  },
  {
   "cell_type": "markdown",
   "id": "8db66bbf",
   "metadata": {},
   "source": [
    "### The switching model"
   ]
  },
  {
   "cell_type": "code",
   "execution_count": 144,
   "id": "799838f5",
   "metadata": {},
   "outputs": [],
   "source": [
    "class TelegraphModel():\n",
    "    \"\"\"\n",
    "    This collection of convenience functions is placed in its own class mostly to avoid function name conflicts.\n",
    "    The code is largely reused from \"Transient and delay chemical master equations\".\n",
    "    \"\"\"\n",
    "    def __init__(self):\n",
    "        pass\n",
    "    def setup(self,N,n,K_val,A_val,beta_val,gamma_val):\n",
    "        H = np.zeros((N,N))\n",
    "        for kv in K_val:\n",
    "            H[kv[0],kv[1]] = kv[2]\n",
    "        H -= np.diag(H.sum(1))\n",
    "\n",
    "        A = np.zeros((N,n))\n",
    "        for av in A_val:\n",
    "            A[av[0],av[1]-1] = av[2]\n",
    "\n",
    "        B = np.zeros((n,n))\n",
    "        for bv in beta_val:\n",
    "            B[bv[0]-1,bv[1]-1] = bv[2]\n",
    "        B -= np.diag(B.sum(1))\n",
    "        for gv in gamma_val:\n",
    "            B[gv[0]-1,gv[0]-1] -= gv[1]\n",
    "\n",
    "        Nspec = N+n\n",
    "        Nrxn = len(K_val) + len(A_val) + len(gamma_val) + len(beta_val)\n",
    "        Hss = scipy.linalg.null_space(H.T)\n",
    "        Hss /= Hss.sum()\n",
    "        Hss = Hss.squeeze()\n",
    "        return H,A,B,Hss\n",
    "\n",
    "    def get_g(self,limits):\n",
    "        u = []\n",
    "        mx = np.copy(limits)\n",
    "        mx[-1] = mx[-1] // 2 + 1\n",
    "\n",
    "        for i in range(len(mx)):\n",
    "            l = np.arange(mx[i])\n",
    "            u_ = np.exp(-2j*np.pi*l/limits[i])-1\n",
    "            u.append(u_)\n",
    "        g = np.meshgrid(*[u_ for u_ in u], indexing='ij')\n",
    "        for i in range(len(mx)):\n",
    "            g[i] = g[i].flatten()\n",
    "        return np.asarray(g).T,mx\n",
    "\n",
    "    def compute_coeff(self,L,V,Vinv,u,j=0):\n",
    "        n_u = u.shape[1]\n",
    "        a = np.asarray([(V@np.diag( Vinv @ u[:,i]))[j] for i in range(n_u)]).T\n",
    "        return a\n",
    "\n",
    "    def compute_eigs(self,C):\n",
    "        L,V = np.linalg.eig(C)\n",
    "        Vinv = np.linalg.inv(V)\n",
    "        return L,V,Vinv\n",
    "\n",
    "    def pss_wrapper(self,H,A,C,t,mx,n,N,initcond):\n",
    "        g,mx_red = self.get_g(mx)\n",
    "        L,V,Vinv = self.compute_eigs(C)\n",
    "        coeff = np.asarray([self.compute_coeff(L,V,Vinv,g.T,i) for i in range(n)])\n",
    "\n",
    "        if initcond[0][0]=='thermalized':\n",
    "            Hfin = scipy.linalg.null_space(H.T)\n",
    "            Hfin /= Hfin.sum()\n",
    "            w = Hfin.squeeze()\n",
    "        elif initcond[0][0]=='deterministic':\n",
    "            w = np.zeros(N)\n",
    "            w[initcond[0][1]] = 1\n",
    "        elif initcond[0][0]=='categorical':\n",
    "            w = initcond[0][1]\n",
    "        else:\n",
    "            raise ValueError('Not implemented')\n",
    "        w = np.asarray(w,dtype=np.complex128)\n",
    "\n",
    "        gf_initcond_prop = np.matlib.repmat(w,g.shape[0],1).astype(np.complex128)\n",
    "        gf = self.gfun_numerical(g,t,H,A,N,L,coeff,gf_initcond_prop)\n",
    "        gf = np.reshape(gf,np.concatenate((mx_red,[N])).astype(int))\n",
    "        Pss = scipy.fft.irfftn(gf,axes=[0,1],s=mx)\n",
    "        return Pss\n",
    "\n",
    "    def gfun_numerical(self,g,t,H,A,N,L,coeff,gf_initcond):\n",
    "        gf_ = np.zeros((g.shape[0],N),dtype=np.complex128)\n",
    "\n",
    "        for i in (range(g.shape[0])):\n",
    "            t0 = 0\n",
    "            y0 = gf_initcond[i]\n",
    "\n",
    "            Ufun = lambda x: np.asarray([self.ufun_generic(x,L,coef[:,i]) for coef in coeff])\n",
    "            intfun = lambda t,y: self.intfun_multi(t,y,H,A,Ufun)\n",
    "            res = scipy.integrate.solve_ivp(intfun,[t,t0],y0)\n",
    "            while res.status == 'running':\n",
    "                res.step()\n",
    "            gf_[i] = res.y[:,-1]\n",
    "        return gf_\n",
    "\n",
    "    def ufun_generic(self,x,L,coeff):\n",
    "        Ufun = (np.exp(L*x)@coeff)\n",
    "        return Ufun\n",
    "\n",
    "    def intfun_multi(self,t,y,H,A,Ufun):\n",
    "        dy = np.dot(H.T,y) + np.dot(A,Ufun(t))*y\n",
    "        return -dy\n",
    "\n",
    "    def get_Pss(self,kon,koff,kinit,beta,gamma,mx):\n",
    "        N = 2\n",
    "        K_val = [[0,1,kon],\n",
    "                 [1,0,koff]]\n",
    "\n",
    "        n = 2\n",
    "        A_val =[[1,1,kinit]]\n",
    "\n",
    "        gamma_val = [[2,gamma]]\n",
    "        beta_val = [[1,2,beta]]\n",
    "\n",
    "        initcond = [['thermalized'],\n",
    "                ['deterministic',0],\n",
    "                ['deterministic',0]]\n",
    "        t = 10/np.min([kon,koff,beta,gamma,kinit])\n",
    "        H,A,C,Hss = self.setup(N,n,K_val,A_val,beta_val,gamma_val)\n",
    "        Pss = self.pss_wrapper(H,A,C,t,mx,n,N,initcond)\n",
    "#         print(Pss.shape)\n",
    "        return Pss.sum(2)\n"
   ]
  },
  {
   "cell_type": "code",
   "execution_count": 145,
   "id": "ccaff516",
   "metadata": {},
   "outputs": [],
   "source": [
    "kon = 0.9\n",
    "koff = 0.1\n",
    "kinit = 5\n",
    "beta = 1.2\n",
    "gamma = 0.7\n",
    "mx = [50,1]"
   ]
  },
  {
   "cell_type": "code",
   "execution_count": 146,
   "id": "8191e417",
   "metadata": {},
   "outputs": [
    {
     "data": {
      "text/plain": [
       "3.75"
      ]
     },
     "execution_count": 146,
     "metadata": {},
     "output_type": "execute_result"
    }
   ],
   "source": [
    "kinit*kon/(kon+koff)/beta"
   ]
  },
  {
   "cell_type": "code",
   "execution_count": 151,
   "id": "3d0f17ae",
   "metadata": {},
   "outputs": [],
   "source": [
    "# kinit/beta"
   ]
  },
  {
   "cell_type": "code",
   "execution_count": 152,
   "id": "8fc56d6c",
   "metadata": {},
   "outputs": [],
   "source": [
    "telegraph_model = TelegraphModel()\n",
    "Pss_tele = telegraph_model.get_Pss(kon,koff,kinit,beta,gamma,mx)"
   ]
  },
  {
   "cell_type": "code",
   "execution_count": 153,
   "id": "abc98e0a",
   "metadata": {},
   "outputs": [],
   "source": [
    "x = np.arange(mx[0])"
   ]
  },
  {
   "cell_type": "code",
   "execution_count": 154,
   "id": "45261df7",
   "metadata": {},
   "outputs": [
    {
     "data": {
      "text/plain": [
       "3.747550603041915"
      ]
     },
     "execution_count": 154,
     "metadata": {},
     "output_type": "execute_result"
    }
   ],
   "source": [
    "(Pss_tele.sum(1)*x).sum()"
   ]
  },
  {
   "cell_type": "code",
   "execution_count": 155,
   "id": "54d2981a",
   "metadata": {},
   "outputs": [
    {
     "data": {
      "text/plain": [
       "[<matplotlib.lines.Line2D at 0x7f2a2cce4f40>]"
      ]
     },
     "execution_count": 155,
     "metadata": {},
     "output_type": "execute_result"
    },
    {
     "data": {
      "image/png": "[encoded data removed]",
      "text/plain": [
       "<Figure size 432x288 with 1 Axes>"
      ]
     },
     "metadata": {
      "needs_background": "light"
     },
     "output_type": "display_data"
    }
   ],
   "source": [
    "plt.plot(Pss_tele.sum(1))"
   ]
  },
  {
   "cell_type": "markdown",
   "id": "8997ad74",
   "metadata": {},
   "source": [
    "### Gamma-OU"
   ]
  },
  {
   "cell_type": "code",
   "execution_count": 156,
   "id": "9b0e85f4",
   "metadata": {},
   "outputs": [],
   "source": [
    "class GOUModel():\n",
    "    \"\"\"\n",
    "    This collection of convenience functions is largely reused from \n",
    "    \"Interpretable and tractable models of transcriptional noise for the \n",
    "    rational design of single-molecule quantification experiments\".\n",
    "    \"\"\"\n",
    "    def __init__(self):\n",
    "        pass\n",
    "    def get_GOU_2sp(self,mx, params):\n",
    "        u = []\n",
    "        half = mx[:]\n",
    "        half[-1] = mx[-1]//2 + 1\n",
    "        for i in range(len(mx)):\n",
    "            l = np.arange(half[i])\n",
    "            u_ = np.exp(-2j*np.pi*l/mx[i])-1\n",
    "            u.append(u_)\n",
    "        g = np.meshgrid(*[u_ for u_ in u], indexing='ij')\n",
    "        for i in range(len(mx)):\n",
    "            g[i] = g[i].flatten()\n",
    "\n",
    "        # Get generating function\n",
    "        gf = self.get_gf_GOU_2sp_ODE(g[0], g[1], params)                    \n",
    "        gf = gf.reshape(tuple(half))\n",
    "\n",
    "        Pss = scipy.fft.irfftn(gf, s=mx)                        # Get Pss by inverse fast Fourier transform\n",
    "        Pss = np.abs(Pss)/np.sum(np.abs(Pss))           # Normalize\n",
    "        return Pss\n",
    "\n",
    "    def get_gf_GOU_2sp_ODE(self,g0, g1, params):\n",
    "        beta_0, beta_1, a, kappa, theta = params     # get parameters\n",
    "\n",
    "        c0 = (g0) + (beta_0/(beta_1 - beta_0))*(g1)       #  relevant linear combinations of g_i\n",
    "        c1 = - (beta_0/(beta_1 - beta_0))*(g1)   \n",
    "\n",
    "        min_fudge, max_fudge = 0.25, 10                                     # Determine integration time scale / length\n",
    "        dt = np.min([1/kappa, 1/theta, 1/a, 1/beta_0, 1/beta_1])*min_fudge\n",
    "        t_max = np.max([1/kappa, 1/theta, 1/a, 1/beta_0, 1/beta_1])*max_fudge\n",
    "        num_tsteps = int(np.ceil(t_max/dt))\n",
    "        t_array = np.linspace(0, t_max, num_tsteps+1)\n",
    "        t_array = t_array.reshape((1, num_tsteps + 1))\n",
    "\n",
    "        q = np.zeros((g0.shape[0], num_tsteps + 1), dtype=np.complex64)    # initialize array to store ODE\n",
    "        c0 = c0.reshape((c0.shape[0],1))\n",
    "        c1 = c1.reshape((c1.shape[0],1))\n",
    "        q0 = theta*c0*(np.exp(-beta_0*t_array) - np.exp(-kappa*t_array))/(kappa - beta_0) \n",
    "        q1 = theta*c1*(np.exp(-beta_1*t_array) - np.exp(-kappa*t_array))/(kappa - beta_1)\n",
    "        q = q0 + q1\n",
    "\n",
    "\n",
    "        integrand = q/(1-q)\n",
    "        integral = np.trapz(integrand, dx=dt, axis=1)     # integrate ODE solution\n",
    "        gf = np.exp( a*integral)               # get generating function\n",
    "        return gf\n",
    "    \n",
    "    def get_Pss(self,a,kappa,theta,beta,gamma,mx):\n",
    "        params = beta, gamma, a, kappa, theta\n",
    "        Pss = self.get_GOU_2sp(mx, params)\n",
    "        return Pss"
   ]
  },
  {
   "cell_type": "code",
   "execution_count": 176,
   "id": "ec2530c5",
   "metadata": {},
   "outputs": [],
   "source": [
    "a = kon\n",
    "kappa = kon+koff\n",
    "theta = koff*kinit/kappa\n"
   ]
  },
  {
   "cell_type": "code",
   "execution_count": 178,
   "id": "d864f7d1",
   "metadata": {},
   "outputs": [],
   "source": [
    "gou_model = GOUModel()\n",
    "Pss_gou = gou_model.get_Pss(a,kappa,theta,beta,gamma,mx)"
   ]
  },
  {
   "cell_type": "code",
   "execution_count": 179,
   "id": "ed996042",
   "metadata": {},
   "outputs": [
    {
     "data": {
      "text/plain": [
       "[<matplotlib.lines.Line2D at 0x7f2a2cebbe80>]"
      ]
     },
     "execution_count": 179,
     "metadata": {},
     "output_type": "execute_result"
    },
    {
     "data": {
      "image/png": "[encoded data removed]",
      "text/plain": [
       "<Figure size 432x288 with 1 Axes>"
      ]
     },
     "metadata": {
      "needs_background": "light"
     },
     "output_type": "display_data"
    }
   ],
   "source": [
    "plt.plot(Pss_tele.sum(1))\n",
    "plt.plot(Pss_gou.sum(1))"
   ]
  },
  {
   "cell_type": "markdown",
   "id": "b8ca3a9e",
   "metadata": {},
   "source": [
    "### CIR "
   ]
  },
  {
   "cell_type": "code",
   "execution_count": 191,
   "id": "d1956b90",
   "metadata": {},
   "outputs": [],
   "source": [
    "class CIRModel():\n",
    "    \"\"\"\n",
    "    This collection of convenience functions is largely reused from \n",
    "    \"Interpretable and tractable models of transcriptional noise for the \n",
    "    rational design of single-molecule quantification experiments\".\n",
    "    \"\"\"\n",
    "    def __init__(self):\n",
    "        pass\n",
    "    # ODE for 2 species CIR model\n",
    "    def f_2sp(self,q, t, c0, c1, params):\n",
    "        beta_0, beta_1, a, kappa, theta = params\n",
    "        result = - kappa*q + theta*q*q + kappa*( c0*np.exp(-beta_0*t) + c1*np.exp(-beta_1*t)  ) \n",
    "        return result\n",
    "\n",
    "\n",
    "    # Vectorized RK4 implementation for 2 species CIR model\n",
    "    def RK4_2sp(self,q, f, t, c0, c1, step_size, param):\n",
    "        j1 = f(q, t, c0, c1, param)\n",
    "        j2 = f(q + (step_size/2)*j1, t + (step_size/2), c0, c1, param)   \n",
    "        j3 = f(q + (step_size/2)*j2, t + (step_size/2), c0, c1, param)   \n",
    "        j4 = f(q + (step_size)*j3, t + (step_size), c0, c1, param)  \n",
    "\n",
    "        q_new = q + (step_size/6)*(j1 + 2*j2 + 2*j3 + j4)\n",
    "        return q_new\n",
    "\n",
    "\n",
    "    # Get 2 species CIR generating function using ODE method\n",
    "    def get_gf_CIR_2sp(self,g0, g1, params):\n",
    "        beta_0, beta_1, a, kappa, theta = params     # get parameters\n",
    "\n",
    "        c0 = (g0) + (beta_0/(beta_1 - beta_0))*(g1)       #  relevant linear combinations of g_i\n",
    "        c1 = - (beta_0/(beta_1 - beta_0))*(g1)   \n",
    "\n",
    "        min_fudge, max_fudge = 0.25, 10                                     # Determine integration time scale / length\n",
    "        dt = np.min([1/kappa, 1/theta, 1/a, 1/beta_0, 1/beta_1])*min_fudge\n",
    "        t_max = np.max([1/kappa, 1/theta, 1/a, 1/beta_0, 1/beta_1])*max_fudge\n",
    "        num_tsteps = int(np.ceil(t_max/dt))\n",
    "\n",
    "        q = np.zeros((g0.shape[0], num_tsteps + 1), dtype=np.complex64)    # initialize array to store ODE\n",
    "\n",
    "        # Solve ODE using RK4 method \n",
    "        for i in range(0, num_tsteps):\n",
    "            t = i*dt\n",
    "            q[:,i+1] = self.RK4_2sp(q[:,i], self.f_2sp, t, c0, c1, dt, params)\n",
    "\n",
    "        integral = np.trapz(q, dx=dt, axis=1)     # integrate ODE solution\n",
    "        gf = np.exp((a*theta/kappa)*integral)               # get generating function\n",
    "        return gf\n",
    "\n",
    "\n",
    "    # Get Pss for 2 species CIR model via ODE method\n",
    "    def get_CIR_2sp(self,mx,params):\n",
    "        # Get generating function argument\n",
    "        u = []\n",
    "        half = mx[:]\n",
    "        half[-1] = mx[-1]//2 + 1\n",
    "        for i in range(len(mx)):\n",
    "            l = np.arange(half[i])\n",
    "            u_ = np.exp(-2j*np.pi*l/mx[i])-1\n",
    "            u.append(u_)\n",
    "        g = np.meshgrid(*[u_ for u_ in u], indexing='ij')\n",
    "        for i in range(len(mx)):\n",
    "            g[i] = g[i].flatten()\n",
    "\n",
    "        # Get generating function\n",
    "        gf = self.get_gf_CIR_2sp(g[0], g[1], params)                    \n",
    "        gf = gf.reshape(tuple(half))\n",
    "\n",
    "        Pss = scipy.fft.irfftn(gf, s=mx)                        # Get Pss by inverse fast Fourier transform\n",
    "        Pss = np.abs(Pss)/np.sum(np.abs(Pss))           # Normalize\n",
    "        return Pss\n",
    "\n",
    "    def get_Pss(self,a,kappa,theta,beta,gamma,mx):\n",
    "        params = beta, gamma, a, kappa, theta\n",
    "        Pss = self.get_CIR_2sp(mx, params)\n",
    "        return Pss"
   ]
  },
  {
   "cell_type": "code",
   "execution_count": 199,
   "id": "5df953f3",
   "metadata": {},
   "outputs": [],
   "source": [
    "a = 0.5\n",
    "kappa = 1\n",
    "theta = 6"
   ]
  },
  {
   "cell_type": "code",
   "execution_count": 200,
   "id": "cfc307c0",
   "metadata": {},
   "outputs": [],
   "source": [
    "gou_model = GOUModel()\n",
    "Pss_gou = gou_model.get_Pss(a,kappa,theta,beta,gamma,mx)\n",
    "cir_model = CIRModel()\n",
    "Pss_cir = cir_model.get_Pss(a,kappa,theta,beta,gamma,mx)"
   ]
  },
  {
   "cell_type": "code",
   "execution_count": 201,
   "id": "38e1743c",
   "metadata": {},
   "outputs": [
    {
     "data": {
      "text/plain": [
       "[<matplotlib.lines.Line2D at 0x7f2a2c92f100>]"
      ]
     },
     "execution_count": 201,
     "metadata": {},
     "output_type": "execute_result"
    },
    {
     "data": {
      "image/png": "[encoded data removed]",
      "text/plain": [
       "<Figure size 432x288 with 1 Axes>"
      ]
     },
     "metadata": {
      "needs_background": "light"
     },
     "output_type": "display_data"
    }
   ],
   "source": [
    "plt.plot(Pss_gou)\n",
    "plt.plot(Pss_cir)"
   ]
  },
  {
   "cell_type": "code",
   "execution_count": null,
   "id": "a384bf46",
   "metadata": {},
   "outputs": [],
   "source": []
  },
  {
   "cell_type": "code",
   "execution_count": null,
   "id": "e095c6a6",
   "metadata": {},
   "outputs": [],
   "source": []
  }
 ],
 "metadata": {
  "kernelspec": {
   "display_name": "Python 3",
   "language": "python",
   "name": "python3"
  },
  "language_info": {
   "codemirror_mode": {
    "name": "ipython",
    "version": 3
   },
   "file_extension": ".py",
   "mimetype": "text/x-python",
   "name": "python",
   "nbconvert_exporter": "python",
   "pygments_lexer": "ipython3",
   "version": "3.9.1"
  }
 },
 "nbformat": 4,
 "nbformat_minor": 5
}
