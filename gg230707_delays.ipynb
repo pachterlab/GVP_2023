{
  "nbformat": 4,
  "nbformat_minor": 0,
  "metadata": {
    "colab": {
      "provenance": [],
      "authorship_tag": "ABX9TyP87ZwWA9DigxjKwtvftdwC",
      "include_colab_link": true
    },
    "kernelspec": {
      "name": "python3",
      "display_name": "Python 3"
    },
    "language_info": {
      "name": "python"
    }
  },
  "cells": [
    {
      "cell_type": "markdown",
      "metadata": {
        "id": "view-in-github",
        "colab_type": "text"
      },
      "source": [
        "<a href=\"https://colab.research.google.com/github/pachterlab/GVP_2023/blob/main/gg230707_delays.ipynb\" target=\"_parent\"><img src=\"https://colab.research.google.com/assets/colab-badge.svg\" alt=\"Open In Colab\"/></a>"
      ]
    },
    {
      "cell_type": "code",
      "execution_count": 1,
      "metadata": {
        "id": "st5HNcGvRb9l"
      },
      "outputs": [],
      "source": [
        "import numpy as np\n",
        "import matplotlib.pyplot as plt\n",
        "import scipy\n"
      ]
    },
    {
      "cell_type": "code",
      "source": [
        "tau=1 #residence time\n",
        "gamma = 2\n",
        "T = 3\n",
        "nT = 100\n",
        "t = np.linspace(0,T,nT)\n",
        "b = 3\n",
        "k = 0.6"
      ],
      "metadata": {
        "id": "BUDMZVObRhuK"
      },
      "execution_count": 30,
      "outputs": []
    },
    {
      "cell_type": "code",
      "source": [
        "nC = 5000\n",
        "X = np.zeros((nT,nC,2))\n",
        "for c_ in range(nC):\n",
        "    arrivals_x1_num = np.random.poisson(T*k)\n",
        "    arrival_times_x1 =  np.random.uniform(0,T,arrivals_x1_num)\n",
        "    arrival_time_storage_1 = []\n",
        "    exit_time_storage_1 = []\n",
        "    for arr in range(arrivals_x1_num):\n",
        "        bs = np.random.geometric(1/(1+b))-1\n",
        "        if bs>0:\n",
        "            arrival_time_storage_1 += [arrival_times_x1[arr]]*bs\n",
        "            exit_time_storage_1 += [arrival_times_x1[arr] + tau]*bs\n",
        "    arrival_time_storage_1 = np.asarray(arrival_time_storage_1)\n",
        "    exit_time_storage_1 = np.asarray(exit_time_storage_1)\n",
        "    arrival_time_storage_2 = np.copy(exit_time_storage_1)\n",
        "\n",
        "    mat_lifetimes = np.random.exponential(1/gamma,arrival_time_storage_2.shape)\n",
        "    exit_time_storage_2 = arrival_time_storage_2 + mat_lifetimes\n",
        "\n",
        "    for tind,t_ in enumerate(t):\n",
        "        extant_at_t_1 = (((exit_time_storage_1)>t_)&(arrival_time_storage_1<=t_)).sum()\n",
        "        extant_at_t_2 = (((exit_time_storage_2)>t_)&(arrival_time_storage_2<=t_)).sum()\n",
        "        X[tind,c_,0] = extant_at_t_1\n",
        "        X[tind,c_,1] = extant_at_t_2\n"
      ],
      "metadata": {
        "id": "E2TVdecuRmX4"
      },
      "execution_count": 32,
      "outputs": []
    },
    {
      "cell_type": "code",
      "source": [
        "plt.plot(t,X.mean(1))"
      ],
      "metadata": {
        "colab": {
          "base_uri": "https://localhost:8080/",
          "height": 465
        },
        "id": "Y7R-BfnmT15_",
        "outputId": "24d0f505-24a6-4b72-9d5d-44188af2340e"
      },
      "execution_count": 33,
      "outputs": [
        {
          "output_type": "execute_result",
          "data": {
            "text/plain": [
              "[<matplotlib.lines.Line2D at 0x7fed5e78cdf0>,\n",
              " <matplotlib.lines.Line2D at 0x7fed5e78ce50>]"
            ]
          },
          "metadata": {},
          "execution_count": 33
        },
        {
          "output_type": "display_data",
          "data": {
            "text/plain": [
              "<Figure size 640x480 with 1 Axes>"
            ],
            "image/png": "[encoded data removed]"
          },
          "metadata": {}
        }
      ]
    },
    {
      "cell_type": "code",
      "source": [
        "X.shape"
      ],
      "metadata": {
        "colab": {
          "base_uri": "https://localhost:8080/"
        },
        "id": "jFbfIKY8T19W",
        "outputId": "45db7dbe-feec-42ac-aa7b-7858f495eba9"
      },
      "execution_count": 36,
      "outputs": [
        {
          "output_type": "execute_result",
          "data": {
            "text/plain": [
              "(100, 5000, 2)"
            ]
          },
          "metadata": {},
          "execution_count": 36
        }
      ]
    },
    {
      "cell_type": "code",
      "source": [
        "X_ = X[-1,:,:]"
      ],
      "metadata": {
        "id": "0eqTmrgVTfWL"
      },
      "execution_count": 37,
      "outputs": []
    },
    {
      "cell_type": "code",
      "source": [
        "X_.mean(0)"
      ],
      "metadata": {
        "colab": {
          "base_uri": "https://localhost:8080/"
        },
        "id": "i940485dR-cm",
        "outputId": "9ef883a2-f2b3-4f75-c439-5cedde0e3178"
      },
      "execution_count": 39,
      "outputs": [
        {
          "output_type": "execute_result",
          "data": {
            "text/plain": [
              "array([1.8414, 0.8762])"
            ]
          },
          "metadata": {},
          "execution_count": 39
        }
      ]
    },
    {
      "cell_type": "code",
      "source": [
        "X_.var(0)"
      ],
      "metadata": {
        "colab": {
          "base_uri": "https://localhost:8080/"
        },
        "id": "-565dWWlTibI",
        "outputId": "e19e063c-8dbd-4df3-c18a-aa6669f2ffcc"
      },
      "execution_count": 41,
      "outputs": [
        {
          "output_type": "execute_result",
          "data": {
            "text/plain": [
              "array([13.05664604,  3.65487356])"
            ]
          },
          "metadata": {},
          "execution_count": 41
        }
      ]
    },
    {
      "cell_type": "code",
      "source": [
        "np.corrcoef(X_.T)"
      ],
      "metadata": {
        "colab": {
          "base_uri": "https://localhost:8080/"
        },
        "id": "8LYtWJC7UKKP",
        "outputId": "515b2a52-a20d-41d9-9f3d-e5cfede00519"
      },
      "execution_count": 43,
      "outputs": [
        {
          "output_type": "execute_result",
          "data": {
            "text/plain": [
              "array([[ 1.        , -0.00232118],\n",
              "       [-0.00232118,  1.        ]])"
            ]
          },
          "metadata": {},
          "execution_count": 43
        }
      ]
    },
    {
      "cell_type": "code",
      "source": [],
      "metadata": {
        "id": "4CKRvPw9UNy7"
      },
      "execution_count": null,
      "outputs": []
    }
  ]
}